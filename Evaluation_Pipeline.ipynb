{
 "cells": [
  {
   "cell_type": "code",
   "execution_count": 21,
   "metadata": {},
   "outputs": [],
   "source": [
    "import rail\n",
    "\n",
    "import tables_io\n",
    "import qp\n",
    "import numpy as np\n",
    "import h5py\n",
    "import os\n",
    "\n",
    "from rail.evaluation.dist_to_dist_evaluator import DistToDistEvaluator\n",
    "from rail.evaluation.dist_to_point_evaluator import DistToPointEvaluator\n",
    "from rail.evaluation.point_to_point_evaluator import PointToPointEvaluator\n",
    "from rail.evaluation.single_evaluator import SingleEvaluator\n",
    "from rail.core.stage import RailStage\n",
    "from rail.core.data import QPHandle, TableHandle, QPOrTableHandle\n",
    "\n",
    "DS = RailStage.data_store\n",
    "DS.__class__.allow_overwrite = True"
   ]
  },
  {
   "cell_type": "code",
   "execution_count": 2,
   "metadata": {},
   "outputs": [],
   "source": [
    "stage_dict = dict(\n",
    "    metrics=['cvm', 'ks', 'rmse', 'kld', 'ad'],\n",
    "    _random_state=None,\n",
    ")\n",
    "\n",
    "dtd_stage = DistToDistEvaluator.make_stage(name='dist_to_dist', **stage_dict)\n",
    "#dtd_stage_single = DistToDistEvaluator.make_stage(name='dist_to_dist', force_exact=True, **stage_dict)"
   ]
  },
  {
   "cell_type": "code",
   "execution_count": 11,
   "metadata": {},
   "outputs": [
    {
     "data": {
      "text/plain": [
       "<KeysViewHDF5 ['ancil', 'data', 'meta']>"
      ]
     },
     "execution_count": 11,
     "metadata": {},
     "output_type": "execute_result"
    }
   ],
   "source": [
    "# file = h5py.File(pdfs_file, 'r')\n",
    "# file.keys"
   ]
  },
  {
   "cell_type": "code",
   "execution_count": 26,
   "metadata": {},
   "outputs": [],
   "source": [
    "name_ls = ['BOSS', 'DEEP2', 'GAMA', 'HSC', 'VVDSf02', 'zCOSMOS']\n",
    "pivot_ls = [\"1.0\", \"1.4\"] \n",
    "\n",
    "ztrue_file = \"/Users/alicec03/Desktop/Summer_Research/Photo-z-Stress-Test/Photo-z-Stress-Test/output_lsstErr_testSet_posts.hdf5\"\n",
    "ztrue_data = DS.read_file(key='data', handle_class=QPHandle, path=ztrue_file)"
   ]
  },
  {
   "cell_type": "markdown",
   "metadata": {},
   "source": [
    "# TrainZ"
   ]
  },
  {
   "cell_type": "code",
   "execution_count": null,
   "metadata": {},
   "outputs": [],
   "source": [
    "## HAS RUN ## "
   ]
  },
  {
   "cell_type": "code",
   "execution_count": 24,
   "metadata": {},
   "outputs": [
    {
     "name": "stdout",
     "output_type": "stream",
     "text": [
      "Requested metrics: ['cvm', 'ks', 'rmse', 'kld', 'ad']\n",
      "Processing 0 running evaluator on chunk 0 - 10000.\n",
      "Inserting handle into data store.  output_dist_to_dist: inprogress_output_dist_to_dist.hdf5, dist_to_dist\n",
      "Inserting handle into data store.  summary_dist_to_dist: inprogress_summary_dist_to_dist.hdf5, dist_to_dist\n",
      "Inserting handle into data store.  single_distribution_summary_dist_to_dist: inprogress_single_distribution_summary_dist_to_dist.hdf5, dist_to_dist\n",
      "Requested metrics: ['cvm', 'ks', 'rmse', 'kld', 'ad']\n",
      "Processing 0 running evaluator on chunk 0 - 10000.\n"
     ]
    },
    {
     "name": "stderr",
     "output_type": "stream",
     "text": [
      "NOTE/WARNING: Expected output file single_distribution_summary_dist_to_dist.hdf5 was not generated.\n"
     ]
    },
    {
     "name": "stdout",
     "output_type": "stream",
     "text": [
      "Inserting handle into data store.  output_dist_to_dist: inprogress_output_dist_to_dist.hdf5, dist_to_dist\n",
      "Inserting handle into data store.  summary_dist_to_dist: inprogress_summary_dist_to_dist.hdf5, dist_to_dist\n",
      "Inserting handle into data store.  single_distribution_summary_dist_to_dist: inprogress_single_distribution_summary_dist_to_dist.hdf5, dist_to_dist\n",
      "Requested metrics: ['cvm', 'ks', 'rmse', 'kld', 'ad']\n",
      "Processing 0 running evaluator on chunk 0 - 10000.\n"
     ]
    },
    {
     "name": "stderr",
     "output_type": "stream",
     "text": [
      "NOTE/WARNING: Expected output file single_distribution_summary_dist_to_dist.hdf5 was not generated.\n"
     ]
    },
    {
     "name": "stdout",
     "output_type": "stream",
     "text": [
      "Inserting handle into data store.  output_dist_to_dist: inprogress_output_dist_to_dist.hdf5, dist_to_dist\n",
      "Inserting handle into data store.  summary_dist_to_dist: inprogress_summary_dist_to_dist.hdf5, dist_to_dist\n",
      "Inserting handle into data store.  single_distribution_summary_dist_to_dist: inprogress_single_distribution_summary_dist_to_dist.hdf5, dist_to_dist\n",
      "Requested metrics: ['cvm', 'ks', 'rmse', 'kld', 'ad']\n",
      "Processing 0 running evaluator on chunk 0 - 10000.\n"
     ]
    },
    {
     "name": "stderr",
     "output_type": "stream",
     "text": [
      "NOTE/WARNING: Expected output file single_distribution_summary_dist_to_dist.hdf5 was not generated.\n"
     ]
    },
    {
     "name": "stdout",
     "output_type": "stream",
     "text": [
      "Inserting handle into data store.  output_dist_to_dist: inprogress_output_dist_to_dist.hdf5, dist_to_dist\n",
      "Inserting handle into data store.  summary_dist_to_dist: inprogress_summary_dist_to_dist.hdf5, dist_to_dist\n",
      "Inserting handle into data store.  single_distribution_summary_dist_to_dist: inprogress_single_distribution_summary_dist_to_dist.hdf5, dist_to_dist\n",
      "Requested metrics: ['cvm', 'ks', 'rmse', 'kld', 'ad']\n",
      "Processing 0 running evaluator on chunk 0 - 10000.\n"
     ]
    },
    {
     "name": "stderr",
     "output_type": "stream",
     "text": [
      "NOTE/WARNING: Expected output file single_distribution_summary_dist_to_dist.hdf5 was not generated.\n"
     ]
    },
    {
     "name": "stdout",
     "output_type": "stream",
     "text": [
      "Inserting handle into data store.  output_dist_to_dist: inprogress_output_dist_to_dist.hdf5, dist_to_dist\n",
      "Inserting handle into data store.  summary_dist_to_dist: inprogress_summary_dist_to_dist.hdf5, dist_to_dist\n",
      "Inserting handle into data store.  single_distribution_summary_dist_to_dist: inprogress_single_distribution_summary_dist_to_dist.hdf5, dist_to_dist\n",
      "Requested metrics: ['cvm', 'ks', 'rmse', 'kld', 'ad']\n",
      "Processing 0 running evaluator on chunk 0 - 10000.\n"
     ]
    },
    {
     "name": "stderr",
     "output_type": "stream",
     "text": [
      "NOTE/WARNING: Expected output file single_distribution_summary_dist_to_dist.hdf5 was not generated.\n"
     ]
    },
    {
     "name": "stdout",
     "output_type": "stream",
     "text": [
      "Inserting handle into data store.  output_dist_to_dist: inprogress_output_dist_to_dist.hdf5, dist_to_dist\n",
      "Inserting handle into data store.  summary_dist_to_dist: inprogress_summary_dist_to_dist.hdf5, dist_to_dist\n",
      "Inserting handle into data store.  single_distribution_summary_dist_to_dist: inprogress_single_distribution_summary_dist_to_dist.hdf5, dist_to_dist\n"
     ]
    },
    {
     "name": "stderr",
     "output_type": "stream",
     "text": [
      "NOTE/WARNING: Expected output file single_distribution_summary_dist_to_dist.hdf5 was not generated.\n"
     ]
    }
   ],
   "source": [
    "eval_dir_TrainZ = \"/Users/alicec03/Desktop/Summer_Research/Photo-z-Stress-Test/Photo-z-Stress-Test/specSelection_lsstErr_TrainZ/evaluation\"\n",
    "os.chdir(eval_dir_TrainZ)\n",
    "\n",
    "for i in name_ls:\n",
    "    dir_0 = i\n",
    "    parent_dir_0 = eval_dir_TrainZ\n",
    "    path_0 = os.path.join(parent_dir_0, dir_0)\n",
    "    os.makedirs(path_0, exist_ok=True)\n",
    "\n",
    "    os.chdir(\"/Users/alicec03/Desktop/Summer_Research/Photo-z-Stress-Test/Photo-z-Stress-Test/specSelection_lsstErr_TrainZ/evaluation/\"+i)\n",
    "    pdfs_file = \"/Users/alicec03/Desktop/Summer_Research/Photo-z-Stress-Test/Photo-z-Stress-Test/specSelection_lsstErr_TrainZ/outputs/\"+i+\"/output_estimate_TrainZ.hdf5\"\n",
    "    ensemble = DS.read_file(key='data', handle_class=QPHandle, path=pdfs_file)\n",
    "\n",
    "    dtd_results = dtd_stage.evaluate(ztrue_data, ensemble)\n",
    "\n",
    "    "
   ]
  },
  {
   "cell_type": "code",
   "execution_count": 28,
   "metadata": {},
   "outputs": [
    {
     "name": "stdout",
     "output_type": "stream",
     "text": [
      "Requested metrics: ['cvm', 'ks', 'rmse', 'kld', 'ad']\n",
      "Processing 0 running evaluator on chunk 0 - 10000.\n",
      "Inserting handle into data store.  output_dist_to_dist: inprogress_output_dist_to_dist.hdf5, dist_to_dist\n",
      "Inserting handle into data store.  summary_dist_to_dist: inprogress_summary_dist_to_dist.hdf5, dist_to_dist\n",
      "Inserting handle into data store.  single_distribution_summary_dist_to_dist: inprogress_single_distribution_summary_dist_to_dist.hdf5, dist_to_dist\n",
      "Requested metrics: ['cvm', 'ks', 'rmse', 'kld', 'ad']\n",
      "Processing 0 running evaluator on chunk 0 - 10000.\n"
     ]
    },
    {
     "name": "stderr",
     "output_type": "stream",
     "text": [
      "NOTE/WARNING: Expected output file single_distribution_summary_dist_to_dist.hdf5 was not generated.\n"
     ]
    },
    {
     "name": "stdout",
     "output_type": "stream",
     "text": [
      "Inserting handle into data store.  output_dist_to_dist: inprogress_output_dist_to_dist.hdf5, dist_to_dist\n",
      "Inserting handle into data store.  summary_dist_to_dist: inprogress_summary_dist_to_dist.hdf5, dist_to_dist\n",
      "Inserting handle into data store.  single_distribution_summary_dist_to_dist: inprogress_single_distribution_summary_dist_to_dist.hdf5, dist_to_dist\n"
     ]
    },
    {
     "name": "stderr",
     "output_type": "stream",
     "text": [
      "NOTE/WARNING: Expected output file single_distribution_summary_dist_to_dist.hdf5 was not generated.\n"
     ]
    }
   ],
   "source": [
    "eval_dir_invz_TrainZ = \"/Users/alicec03/Desktop/Summer_Research/Photo-z-Stress-Test/Photo-z-Stress-Test/invz_lsstErr_TrainZ/evaluation\"\n",
    "os.chdir(eval_dir_invz_TrainZ)\n",
    "\n",
    "for i in pivot_ls:\n",
    "    dir_0_invz = i\n",
    "    parent_dir_0_invz = eval_dir_invz_TrainZ\n",
    "    path_0_invz = os.path.join(parent_dir_0_invz, dir_0_invz)\n",
    "    os.makedirs(path_0_invz, exist_ok=True)\n",
    "\n",
    "    os.chdir(\"/Users/alicec03/Desktop/Summer_Research/Photo-z-Stress-Test/Photo-z-Stress-Test/invz_lsstErr_TrainZ/evaluation/\"+i)\n",
    "    pdfs_file = \"/Users/alicec03/Desktop/Summer_Research/Photo-z-Stress-Test/Photo-z-Stress-Test/invz_lsstErr_TrainZ/outputs/\"+i+\"/output_estimate_TrainZ.hdf5\"\n",
    "    ensemble = DS.read_file(key='data', handle_class=QPHandle, path=pdfs_file)\n",
    "\n",
    "    dtd_results = dtd_stage.evaluate(ztrue_data, ensemble)"
   ]
  },
  {
   "cell_type": "markdown",
   "metadata": {},
   "source": [
    "# CMNN"
   ]
  },
  {
   "cell_type": "code",
   "execution_count": null,
   "metadata": {},
   "outputs": [],
   "source": [
    "eval_dir_CMNN = \"/Users/alicec03/Desktop/Summer_Research/Photo-z-Stress-Test/Photo-z-Stress-Test/specSelection_lsstErr_CMNN/evaluation\"\n",
    "os.chdir(eval_dir_CMNN)\n",
    "\n",
    "for i in name_ls:\n",
    "    dir_1 = i\n",
    "    parent_dir_1 = eval_dir_CMNN\n",
    "    path_1 = os.path.join(parent_dir_1, dir_1)\n",
    "    os.makedirs(path_1, exist_ok=True)\n",
    "\n",
    "    os.chdir(\"/Users/alicec03/Desktop/Summer_Research/Photo-z-Stress-Test/Photo-z-Stress-Test/specSelection_lsstErr_CMNN/evaluation/\"+i)\n",
    "    pdfs_file = \"/Users/alicec03/Desktop/Summer_Research/Photo-z-Stress-Test/Photo-z-Stress-Test/specSelection_lsstErr_CMNN/outputs/\"+i+\"/output_estimate_CMNN.hdf5\"\n",
    "    ensemble = DS.read_file(key='data', handle_class=QPHandle, path=pdfs_file)\n",
    "\n",
    "    dtd_results = dtd_stage.evaluate(ztrue_data, ensemble)"
   ]
  },
  {
   "cell_type": "code",
   "execution_count": null,
   "metadata": {},
   "outputs": [],
   "source": [
    "eval_dir_invz_CMNN = \"/Users/alicec03/Desktop/Summer_Research/Photo-z-Stress-Test/Photo-z-Stress-Test/invz_lsstErr_CMNN/evaluation\"\n",
    "os.chdir(eval_dir_invz_CMNN)\n",
    "\n",
    "for i in pivot_ls:\n",
    "    dir_1_invz = i\n",
    "    parent_dir_1_invz = eval_dir_invz_CMNN\n",
    "    path_1_invz = os.path.join(parent_dir_1_invz, dir_1_invz)\n",
    "    os.makedirs(path_1_invz, exist_ok=True)\n",
    "\n",
    "    os.chdir(\"/Users/alicec03/Desktop/Summer_Research/Photo-z-Stress-Test/Photo-z-Stress-Test/invz_lsstErr_CMNN/evaluation/\"+i)\n",
    "    pdfs_file = \"/Users/alicec03/Desktop/Summer_Research/Photo-z-Stress-Test/Photo-z-Stress-Test/invz_lsstErr_CMNN/outputs/\"+i+\"/output_estimate_CMNN.hdf5\"\n",
    "    ensemble = DS.read_file(key='data', handle_class=QPHandle, path=pdfs_file)\n",
    "\n",
    "    dtd_results = dtd_stage.evaluate(ztrue_data, ensemble)"
   ]
  },
  {
   "cell_type": "markdown",
   "metadata": {},
   "source": [
    "# GPz"
   ]
  },
  {
   "cell_type": "code",
   "execution_count": null,
   "metadata": {},
   "outputs": [],
   "source": [
    "eval_dir_GPz = \"/Users/alicec03/Desktop/Summer_Research/Photo-z-Stress-Test/Photo-z-Stress-Test/specSelection_lsstErr_GPz/evaluation\"\n",
    "os.chdir(eval_dir_GPz)\n",
    "\n",
    "for i in name_ls:\n",
    "    dir_2 = i\n",
    "    parent_dir_2 = eval_dir_GPz\n",
    "    path_2 = os.path.join(parent_dir_2, dir_2)\n",
    "    os.makedirs(path_2, exist_ok=True)\n",
    "\n",
    "    os.chdir(\"/Users/alicec03/Desktop/Summer_Research/Photo-z-Stress-Test/Photo-z-Stress-Test/specSelection_lsstErr_GPz/evaluation/\"+i)\n",
    "    pdfs_file = \"/Users/alicec03/Desktop/Summer_Research/Photo-z-Stress-Test/Photo-z-Stress-Test/specSelection_lsstErr_GPz/outputs/\"+i+\"/output_estimate_GPz.hdf5\"\n",
    "    ensemble = DS.read_file(key='data', handle_class=QPHandle, path=pdfs_file)\n",
    "\n",
    "    dtd_results = dtd_stage.evaluate(ztrue_data, ensemble)"
   ]
  },
  {
   "cell_type": "code",
   "execution_count": null,
   "metadata": {},
   "outputs": [],
   "source": [
    "eval_dir_invz_GPz = \"/Users/alicec03/Desktop/Summer_Research/Photo-z-Stress-Test/Photo-z-Stress-Test/invz_lsstErr_GPz/evaluation\"\n",
    "os.chdir(eval_dir_invz_GPz)\n",
    "\n",
    "for i in pivot_ls:\n",
    "    dir_2_invz = i\n",
    "    parent_dir_2_invz = eval_dir_invz_GPz\n",
    "    path_2_invz = os.path.join(parent_dir_2_invz, dir_2_invz)\n",
    "    os.makedirs(path_2_invz, exist_ok=True)\n",
    "\n",
    "    os.chdir(\"/Users/alicec03/Desktop/Summer_Research/Photo-z-Stress-Test/Photo-z-Stress-Test/invz_lsstErr_GPz/evaluation/\"+i)\n",
    "    pdfs_file = \"/Users/alicec03/Desktop/Summer_Research/Photo-z-Stress-Test/Photo-z-Stress-Test/invz_lsstErr_GPz/outputs/\"+i+\"/output_estimate_GPz.hdf5\"\n",
    "    ensemble = DS.read_file(key='data', handle_class=QPHandle, path=pdfs_file)\n",
    "\n",
    "    dtd_results = dtd_stage.evaluate(ztrue_data, ensemble)"
   ]
  },
  {
   "cell_type": "markdown",
   "metadata": {},
   "source": [
    "# PZFlow"
   ]
  },
  {
   "cell_type": "code",
   "execution_count": null,
   "metadata": {},
   "outputs": [],
   "source": [
    "eval_dir_PZFlow = \"/Users/alicec03/Desktop/Summer_Research/Photo-z-Stress-Test/Photo-z-Stress-Test/specSelection_lsstErr_PZFlow/evaluation\"\n",
    "os.chdir(eval_dir_PZFlow)\n",
    "\n",
    "for i in name_ls:\n",
    "    dir_3 = i\n",
    "    parent_dir_3 = eval_dir_PZFlow\n",
    "    path_3 = os.path.join(parent_dir_3, dir_3)\n",
    "    os.makedirs(path_3, exist_ok=True)\n",
    "\n",
    "    os.chdir(\"/Users/alicec03/Desktop/Summer_Research/Photo-z-Stress-Test/Photo-z-Stress-Test/specSelection_lsstErr_PZFlow/evaluation/\"+i)\n",
    "    pdfs_file = \"/Users/alicec03/Desktop/Summer_Research/Photo-z-Stress-Test/Photo-z-Stress-Test/specSelection_lsstErr_PZFlow/outputs/\"+i+\"/output_estimate_PZFlow.hdf5\"\n",
    "    ensemble = DS.read_file(key='data', handle_class=QPHandle, path=pdfs_file)\n",
    "\n",
    "    dtd_results = dtd_stage.evaluate(ztrue_data, ensemble)"
   ]
  },
  {
   "cell_type": "code",
   "execution_count": null,
   "metadata": {},
   "outputs": [],
   "source": [
    "eval_dir_invz_PZFlow = \"/Users/alicec03/Desktop/Summer_Research/Photo-z-Stress-Test/Photo-z-Stress-Test/invz_lsstErr_PZFlow/evaluation\"\n",
    "os.chdir(eval_dir_invz_PZFlow)\n",
    "\n",
    "for i in pivot_ls:\n",
    "    dir_3_invz = i\n",
    "    parent_dir_3_invz = eval_dir_invz_PZFlow\n",
    "    path_3_invz = os.path.join(parent_dir_3_invz, dir_3_invz)\n",
    "    os.makedirs(path_3_invz, exist_ok=True)\n",
    "\n",
    "    os.chdir(\"/Users/alicec03/Desktop/Summer_Research/Photo-z-Stress-Test/Photo-z-Stress-Test/invz_lsstErr_PZFlow/evaluation/\"+i)\n",
    "    pdfs_file = \"/Users/alicec03/Desktop/Summer_Research/Photo-z-Stress-Test/Photo-z-Stress-Test/invz_lsstErr_PZFlow/outputs/\"+i+\"/output_estimate_PZFlow.hdf5\"\n",
    "    ensemble = DS.read_file(key='data', handle_class=QPHandle, path=pdfs_file)\n",
    "\n",
    "    dtd_results = dtd_stage.evaluate(ztrue_data, ensemble)"
   ]
  },
  {
   "cell_type": "markdown",
   "metadata": {},
   "source": [
    "# FZBoost"
   ]
  },
  {
   "cell_type": "code",
   "execution_count": null,
   "metadata": {},
   "outputs": [],
   "source": [
    "os.chdir(\"/Users/alicec03/Desktop/Summer_Research/Photo-z-Stress-Test/Photo-z-Stress-Test/specSelection_lsstErr_FZBoost/evaluation\")"
   ]
  },
  {
   "cell_type": "code",
   "execution_count": null,
   "metadata": {},
   "outputs": [],
   "source": [
    "os.chdir(\"/Users/alicec03/Desktop/Summer_Research/Photo-z-Stress-Test/Photo-z-Stress-Test/invz_lsstErr_FZBoost/evaluation\")"
   ]
  }
 ],
 "metadata": {
  "kernelspec": {
   "display_name": "rail_6-4-24",
   "language": "python",
   "name": "python3"
  },
  "language_info": {
   "codemirror_mode": {
    "name": "ipython",
    "version": 3
   },
   "file_extension": ".py",
   "mimetype": "text/x-python",
   "name": "python",
   "nbconvert_exporter": "python",
   "pygments_lexer": "ipython3",
   "version": "3.10.14"
  }
 },
 "nbformat": 4,
 "nbformat_minor": 2
}
