{
 "cells": [
  {
   "cell_type": "markdown",
   "id": "08ae871f-c855-44f3-9780-1c07db645218",
   "metadata": {
    "tags": []
   },
   "source": [
    "# Import Everything I Need"
   ]
  },
  {
   "cell_type": "code",
   "execution_count": 10,
   "id": "e2587c53-6a61-4b60-8050-983368960817",
   "metadata": {
    "tags": []
   },
   "outputs": [],
   "source": [
    "## Essential Imports: \n",
    "import os\n",
    "import numpy as np\n",
    "from pathlib import Path\n",
    "from pzflow.examples import get_galaxy_data\n",
    "import tables_io\n",
    "\n",
    "## RAIL-Specific Imports: \n",
    "import rail\n",
    "from rail.creation.degradation import LSSTErrorModel, InvRedshiftIncompleteness\n",
    "from rail.creation.engines.flowEngine import FlowModeler, FlowCreator, FlowPosterior\n",
    "from rail.core.data import TableHandle\n",
    "from rail.core.stage import RailStage\n",
    "from rail.core.utilStages import ColumnMapper, TableConverter\n",
    "\n",
    "from rail.estimation.algos.flexzboost import Inform_FZBoost, FZBoost\n",
    "\n",
    "from rail.evaluation.evaluator import Evaluator\n",
    "\n",
    "## Data Storage: \n",
    "DS = RailStage.data_store\n",
    "DS.__class__.allow_overwrite = True\n",
    "\n",
    "## Data Formatting: (from different codes) \n",
    "from rail.core.utils import RAILDIR\n",
    "flow_file = os.path.join(RAILDIR, 'examples/goldenspike/data/pretrained_flow.pkl')\n",
    "bands = ['u','g','r','i','z','y']\n",
    "band_dict = {band:f'mag_{band}_lsst' for band in bands}\n",
    "rename_dict = {f'mag_{band}_lsst_err':f'mag_err_{band}_lsst' for band in bands}"
   ]
  },
  {
   "cell_type": "markdown",
   "id": "970f6ff3-5531-4a6c-bb10-b2776cc319af",
   "metadata": {},
   "source": [
    "# Setting Up the Flow Engine "
   ]
  },
  {
   "cell_type": "code",
   "execution_count": 11,
   "id": "4e543717-26dc-4793-83e9-cf4e9fc01fd9",
   "metadata": {},
   "outputs": [
    {
     "name": "stderr",
     "output_type": "stream",
     "text": [
      "No GPU/TPU found, falling back to CPU. (Set TF_CPP_MIN_LOG_LEVEL=0 and rerun for more info.)\n"
     ]
    },
    {
     "name": "stdout",
     "output_type": "stream",
     "text": [
      "Inserting handle into data store.  input: /global/u2/a/acraffor/Photo-z-Stress-Test/data/base_catalog.pq, flow_modeler\n",
      "Training 30 epochs \n",
      "Loss:\n",
      "(0) 21.3266\n",
      "(1) 3.9642\n",
      "(2) 3.5612\n",
      "(3) 1.6287\n",
      "(4) -0.0812\n",
      "(5) 0.2244\n",
      "(6) -0.2572\n",
      "(7) 0.3581\n",
      "(8) -0.7755\n",
      "(9) -1.4998\n",
      "(10) -1.6085\n",
      "(11) -1.7710\n",
      "(12) -2.4134\n",
      "(13) -2.2855\n",
      "(14) -2.3888\n",
      "(15) -1.3606\n",
      "(16) -2.2746\n",
      "(17) -1.7556\n",
      "(18) -2.1972\n",
      "(19) -3.2067\n",
      "(20) -3.0266\n",
      "(21) -3.2861\n",
      "(22) -2.6768\n",
      "(23) -3.3777\n",
      "(24) -2.1020\n",
      "(25) -2.9262\n",
      "(26) -3.9119\n",
      "(27) -3.4481\n",
      "(28) -4.1449\n",
      "(29) -3.9272\n",
      "(30) -3.5161\n",
      "Inserting handle into data store.  model_flow_modeler: /global/u2/a/acraffor/Photo-z-Stress-Test/data/inprogress_trained_flow.pkl, flow_modeler\n"
     ]
    },
    {
     "data": {
      "text/plain": [
       "<rail.core.data.FlowHandle at 0x7fe534055f40>"
      ]
     },
     "execution_count": 11,
     "metadata": {},
     "output_type": "execute_result"
    }
   ],
   "source": [
    "#path to access the data \n",
    "DATA_DIR = Path().resolve() / \"data\"\n",
    "DATA_DIR.mkdir(exist_ok=True)\n",
    "\n",
    "catalog_file = DATA_DIR / \"base_catalog.pq\"\n",
    "\n",
    "#array of 100,000 galaxies w/ 7 attributes for each: redshift & ugrizy\n",
    "catalog = get_galaxy_data().rename(band_dict, axis=1) \n",
    "\n",
    "#turns array into a table \n",
    "tables_io.write(catalog, str(catalog_file.with_suffix(\"\")), catalog_file.suffix[1:])\n",
    "\n",
    "catalog_file = str(catalog_file)\n",
    "flow_file = str(DATA_DIR / \"trained_flow.pkl\")\n",
    "\n",
    "#we set up the stage \n",
    "flow_modeler_params = {\n",
    "    \"name\": \"flow_modeler\",\n",
    "    \"input\": catalog_file,\n",
    "    \"model\": flow_file,\n",
    "    \"seed\": 0,\n",
    "    \"phys_cols\": {\"redshift\": [0, 3]},\n",
    "    \"phot_cols\": {\n",
    "        \"mag_u_lsst\": [17, 35],\n",
    "        \"mag_g_lsst\": [16, 32],\n",
    "        \"mag_r_lsst\": [15, 30],\n",
    "        \"mag_i_lsst\": [15, 30],\n",
    "        \"mag_z_lsst\": [14, 29],\n",
    "        \"mag_y_lsst\": [14, 28],\n",
    "    },\n",
    "    \"calc_colors\": {\"ref_column_name\": \"mag_i_lsst\"},\n",
    "}\n",
    "\n",
    "#we make the stage\n",
    "flow_modeler = FlowModeler.make_stage(**flow_modeler_params)\n",
    "\n",
    "#we use the stage to make a model \n",
    "flow_modeler.fit_model()\n",
    "\n",
    "#now we have a model; the next thing to do is to pull datasets from it (and degrade them)"
   ]
  },
  {
   "cell_type": "markdown",
   "id": "37999b83-6bc2-416f-86f1-53fa9702cc70",
   "metadata": {},
   "source": [
    "# Make Training and Test Datasets "
   ]
  },
  {
   "cell_type": "code",
   "execution_count": 4,
   "id": "31a58ecf-5d42-46b5-a80b-b93e86b2252b",
   "metadata": {},
   "outputs": [],
   "source": [
    "#take a sample of 10,000 galaxies from the model created above to use as a training set\n",
    "flow_creator_train = FlowCreator.make_stage(\n",
    "    name='flow_creator_train', \n",
    "    model=flow_modeler.get_handle(\"model\"), \n",
    "    n_samples=10000,\n",
    "    seed=1235,\n",
    ")\n",
    "\n",
    "#an un-degraded training data set containing 10,000 galaxies\n",
    "control_train_data = flow_creator_train.sample(10000, 1235)\n",
    "\n",
    "# the inverse redshift degrader stage\n",
    "inv_redshift = InvRedshiftIncompleteness.make_stage(\n",
    "    name='inv_redshift',\n",
    "    pivot_redshift=1.0,\n",
    ")\n",
    "\n",
    "deg_train_data = \n",
    "\n",
    "#take a sample of 100,000 galaxies from the model created above to use as a test set\n",
    "flow_creator_test = FlowCreator.make_stage(\n",
    "    name='flow_creator_test', \n",
    "    model=flow_modeler.get_handle(\"model\"), \n",
    "    n_samples=100000,\n",
    "    seed=1235,\n",
    ")\n",
    "\n",
    "control_test_data = \n",
    "\n",
    "lsst_error_model_train = LSSTErrorModel.make_stage(\n",
    "    name='lsst_error_model_train',\n",
    "    bandNames=band_dict, \n",
    "    seed=29,\n",
    ")\n",
    "\n",
    "deg_test_data = \n"
   ]
  },
  {
   "cell_type": "markdown",
   "id": "c1490f77-9c6b-4bf1-ad26-79b4f42d6d65",
   "metadata": {},
   "source": [
    "# Degrade 10,000-Galaxy Catalog with Redshift Incompleteness "
   ]
  },
  {
   "cell_type": "code",
   "execution_count": 5,
   "id": "d122eb9f-df1b-419d-bf96-70016a4b4f42",
   "metadata": {},
   "outputs": [],
   "source": [
    "lsst_error_model_train = LSSTErrorModel.make_stage(\n",
    "    name='lsst_error_model_train',\n",
    "    bandNames=band_dict, \n",
    "    seed=29,\n",
    ")\n",
    "\n",
    "\n",
    "inv_redshift = InvRedshiftIncompleteness.make_stage(\n",
    "    name='inv_redshift',\n",
    "    pivot_redshift=1.0,\n",
    ")"
   ]
  },
  {
   "cell_type": "markdown",
   "id": "ceaba776-520e-4b3a-bdcd-dd1d51f00dfc",
   "metadata": {},
   "source": [
    "# Train FlexzBoost on Degraded Data "
   ]
  },
  {
   "cell_type": "code",
   "execution_count": 6,
   "id": "9d533d07-9210-45ff-9b3b-9c402d13ebcf",
   "metadata": {},
   "outputs": [],
   "source": [
    "###"
   ]
  },
  {
   "cell_type": "markdown",
   "id": "48ff093b-583a-40b4-adcd-85e34425fb09",
   "metadata": {},
   "source": [
    "# Perform Estimations with FlexzBoost"
   ]
  },
  {
   "cell_type": "code",
   "execution_count": 7,
   "id": "7b065d5f-f3f7-4172-b54b-e8eb4a0117dc",
   "metadata": {},
   "outputs": [],
   "source": [
    "###"
   ]
  },
  {
   "cell_type": "markdown",
   "id": "9597f351-d899-4fb0-986e-bc6e8ad438f0",
   "metadata": {},
   "source": [
    "# Evaluate Using Performance Metrics "
   ]
  },
  {
   "cell_type": "code",
   "execution_count": 8,
   "id": "3d590aac-8877-474a-87ab-4f64be80b51f",
   "metadata": {},
   "outputs": [],
   "source": [
    "###"
   ]
  }
 ],
 "metadata": {
  "kernelspec": {
   "display_name": "RAIL-proj",
   "language": "python",
   "name": "rail-proj"
  },
  "language_info": {
   "codemirror_mode": {
    "name": "ipython",
    "version": 3
   },
   "file_extension": ".py",
   "mimetype": "text/x-python",
   "name": "python",
   "nbconvert_exporter": "python",
   "pygments_lexer": "ipython3",
   "version": "3.9.16"
  }
 },
 "nbformat": 4,
 "nbformat_minor": 5
}
