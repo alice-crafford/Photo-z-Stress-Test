{
 "cells": [
  {
   "cell_type": "code",
   "execution_count": 1,
   "id": "e2587c53-6a61-4b60-8050-983368960817",
   "metadata": {
    "tags": []
   },
   "outputs": [],
   "source": [
    "## Essential Imports: \n",
    "import os\n",
    "import numpy as np\n",
    "from pathlib import Path\n",
    "from pzflow.examples import get_galaxy_data\n",
    "import tables_io\n",
    "\n",
    "## RAIL-Specific Imports: \n",
    "import rail\n",
    "from rail.creation.degradation import LSSTErrorModel, InvRedshiftIncompleteness\n",
    "from rail.creation.engines.flowEngine import FlowModeler, FlowCreator, FlowPosterior\n",
    "from rail.core.data import TableHandle\n",
    "from rail.core.stage import RailStage\n",
    "from rail.core.utilStages import ColumnMapper, TableConverter\n",
    "\n",
    "#from rail.estimation.algos.bpz_lite import Inform_BPZ_lite, BPZ_lite\n",
    "#from rail.estimation.algos.knnpz import Inform_KNearNeighPDF, KNearNeighPDF\n",
    "from rail.estimation.algos.flexzboost import Inform_FZBoost, FZBoost\n",
    "\n",
    "#from rail.estimation.algos.naiveStack import NaiveStack\n",
    "#from rail.estimation.algos.pointEstimateHist import PointEstimateHist\n",
    "\n",
    "from rail.evaluation.evaluator import Evaluator\n",
    "\n",
    "## Data Storage: \n",
    "DS = RailStage.data_store\n",
    "DS.__class__.allow_overwrite = True\n",
    "\n",
    "## Data Formatting: (from different codes) \n",
    "from rail.core.utils import RAILDIR\n",
    "flow_file = os.path.join(RAILDIR, 'examples/goldenspike/data/pretrained_flow.pkl')\n",
    "bands = ['u','g','r','i','z','y']\n",
    "band_dict = {band:f'mag_{band}_lsst' for band in bands}\n",
    "rename_dict = {f'mag_{band}_lsst_err':f'mag_err_{band}_lsst' for band in bands}"
   ]
  },
  {
   "cell_type": "markdown",
   "id": "970f6ff3-5531-4a6c-bb10-b2776cc319af",
   "metadata": {},
   "source": [
    "# 100,000-Galaxy Catalog"
   ]
  },
  {
   "cell_type": "code",
   "execution_count": 2,
   "id": "4e543717-26dc-4793-83e9-cf4e9fc01fd9",
   "metadata": {},
   "outputs": [
    {
     "name": "stdout",
     "output_type": "stream",
     "text": [
      "       redshift  mag_u_lsst  mag_g_lsst  mag_r_lsst  mag_i_lsst  mag_z_lsst  \\\n",
      "0      0.287087   26.759261   25.901778   25.187710   24.932318   24.736903   \n",
      "1      0.293313   27.428358   26.679299   25.977161   25.700094   25.522763   \n",
      "2      1.497276   27.294001   26.068798   25.450055   24.460507   23.887221   \n",
      "3      0.283310   28.154075   26.283166   24.599570   23.723491   23.214108   \n",
      "4      1.545183   29.276065   27.878301   27.333528   26.543374   26.061941   \n",
      "...         ...         ...         ...         ...         ...         ...   \n",
      "99995  0.661883   25.665363   25.703183   25.362422   24.936967   24.771529   \n",
      "99996  0.864290   28.342505   27.654294   26.638448   25.615190   25.108037   \n",
      "99997  0.973176   27.781264   27.386962   26.760144   26.107564   25.584028   \n",
      "99998  2.281685   29.324894   28.148004   27.312318   26.883849   26.416446   \n",
      "99999  0.254427   22.077757   20.985672   20.143253   19.805022   19.594315   \n",
      "\n",
      "       mag_y_lsst  \n",
      "0       24.671623  \n",
      "1       25.417632  \n",
      "2       23.206112  \n",
      "3       22.860012  \n",
      "4       25.383056  \n",
      "...           ...  \n",
      "99995   24.691300  \n",
      "99996   24.938998  \n",
      "99997   25.403601  \n",
      "99998   25.762161  \n",
      "99999   19.471030  \n",
      "\n",
      "[100000 rows x 7 columns]\n"
     ]
    }
   ],
   "source": [
    "#path to access the data \n",
    "DATA_DIR = Path().resolve() / \"data\"\n",
    "DATA_DIR.mkdir(exist_ok=True)\n",
    "\n",
    "catalog_file = DATA_DIR / \"base_catalog.pq\"\n",
    "\n",
    "#array of 100,000 galaxies w/ 7 attributes for each: redshift & ugrizy\n",
    "catalog = get_galaxy_data().rename(band_dict, axis=1) \n",
    "print(catalog)\n",
    "\n",
    "#turns array into a table \n",
    "tables_io.write(catalog, str(catalog_file.with_suffix(\"\")), catalog_file.suffix[1:])\n",
    "\n",
    "catalog_file = str(catalog_file)\n",
    "flow_file = str(DATA_DIR / \"trained_flow.pkl\")\n"
   ]
  },
  {
   "cell_type": "markdown",
   "id": "1020d27b-c9f6-487c-adb2-a81166b28c51",
   "metadata": {},
   "source": [
    "# 10,000-Galaxy Catalog \n"
   ]
  },
  {
   "cell_type": "code",
   "execution_count": 3,
   "id": "9dcacc57-98e7-4c25-8f87-8cffe72cfa59",
   "metadata": {},
   "outputs": [],
   "source": [
    "###"
   ]
  },
  {
   "cell_type": "markdown",
   "id": "37999b83-6bc2-416f-86f1-53fa9702cc70",
   "metadata": {},
   "source": [
    "# Degrade 100,000-Galaxy Catalog with LSST Photometric Error Model "
   ]
  },
  {
   "cell_type": "code",
   "execution_count": 4,
   "id": "31a58ecf-5d42-46b5-a80b-b93e86b2252b",
   "metadata": {},
   "outputs": [],
   "source": [
    "inv_redshift = InvRedshiftIncompleteness.make_stage(\n",
    "    name='inv_redshift',\n",
    "    pivot_redshift=1.0,\n",
    ")"
   ]
  },
  {
   "cell_type": "markdown",
   "id": "c1490f77-9c6b-4bf1-ad26-79b4f42d6d65",
   "metadata": {},
   "source": [
    "# Degrade 10,000-Galaxy Catalog with Redshift Incompleteness "
   ]
  },
  {
   "cell_type": "code",
   "execution_count": 5,
   "id": "d122eb9f-df1b-419d-bf96-70016a4b4f42",
   "metadata": {},
   "outputs": [],
   "source": [
    "lsst_error_model_train = LSSTErrorModel.make_stage(\n",
    "    name='lsst_error_model_train',\n",
    "    bandNames=band_dict, \n",
    "    seed=29,\n",
    ")"
   ]
  },
  {
   "cell_type": "markdown",
   "id": "ceaba776-520e-4b3a-bdcd-dd1d51f00dfc",
   "metadata": {},
   "source": [
    "# Train FlexzBoost on Degraded Data "
   ]
  },
  {
   "cell_type": "code",
   "execution_count": 6,
   "id": "9d533d07-9210-45ff-9b3b-9c402d13ebcf",
   "metadata": {},
   "outputs": [],
   "source": [
    "###"
   ]
  },
  {
   "cell_type": "markdown",
   "id": "48ff093b-583a-40b4-adcd-85e34425fb09",
   "metadata": {},
   "source": [
    "# Perform Estimations with FlexzBoost"
   ]
  },
  {
   "cell_type": "code",
   "execution_count": 7,
   "id": "7b065d5f-f3f7-4172-b54b-e8eb4a0117dc",
   "metadata": {},
   "outputs": [],
   "source": [
    "###"
   ]
  },
  {
   "cell_type": "markdown",
   "id": "9597f351-d899-4fb0-986e-bc6e8ad438f0",
   "metadata": {},
   "source": [
    "# Evaluate Using Performance Metrics "
   ]
  },
  {
   "cell_type": "code",
   "execution_count": 8,
   "id": "3d590aac-8877-474a-87ab-4f64be80b51f",
   "metadata": {},
   "outputs": [],
   "source": [
    "###"
   ]
  }
 ],
 "metadata": {
  "kernelspec": {
   "display_name": "RAIL-proj",
   "language": "python",
   "name": "rail-proj"
  },
  "language_info": {
   "codemirror_mode": {
    "name": "ipython",
    "version": 3
   },
   "file_extension": ".py",
   "mimetype": "text/x-python",
   "name": "python",
   "nbconvert_exporter": "python",
   "pygments_lexer": "ipython3",
   "version": "3.9.16"
  }
 },
 "nbformat": 4,
 "nbformat_minor": 5
}
