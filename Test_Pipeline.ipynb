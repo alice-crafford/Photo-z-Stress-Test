{
 "cells": [
  {
   "cell_type": "markdown",
   "metadata": {},
   "source": [
    "# Imports "
   ]
  },
  {
   "cell_type": "code",
   "execution_count": 2,
   "metadata": {},
   "outputs": [],
   "source": [
    "## Essential Imports: \n",
    "import os\n",
    "import numpy as np\n",
    "import qp\n",
    "import tables_io\n",
    "from pathlib import Path \n",
    "from pzflow.examples import get_galaxy_data\n",
    "import ceci\n",
    "\n",
    "## RAIL-Specific Imports: \n",
    "import rail\n",
    "\n",
    "# old : from rail.creation.degradation import LSSTErrorModel, InvRedshiftIncompleteness\n",
    "\n",
    "\n",
    "from rail.creation.degradation.lsst_error_model import LSSTErrorModel\n",
    "from rail.creation.degradation.spectroscopic_degraders import InvRedshiftIncompleteness\n",
    "\n",
    "import rail.creation \n",
    "import rail.creation.engines\n",
    "from rail.creation.engines.flowEngine import FlowModeler, FlowCreator, FlowPosterior\n",
    "from rail.core.data import TableHandle\n",
    "from rail.core.stage import RailStage\n",
    "from rail.core.utilStages import ColumnMapper, TableConverter\n",
    "\n",
    "# old : from rail.estimation.algos.flexzboost import Inform_FZBoost, FZBoost\n",
    "\n",
    "# from rail.estimation.algos.bpz_lite import BPZliteEstimator, BPZliteEstimator \n",
    "# from rail.estimation.algos.flexzboost import FlexZBoostInformer, FlexZBoostEstimator\n",
    "# from rail.estimation.algos.gpz import GPzEstimator, GPzEstimator \n",
    "# from rail.estimation.algos.knnpz import Inform_KNearNeighPDF, Inform_KNearNeighPDF \n",
    "# from rail.estimation.algos.minisom_som import MiniSOMInformer, MiniSOMInformer \n",
    "from rail.estimation.algos.pzflow_nf import PZFlowInformer, PZFlowEstimator \n",
    "# from rail.estimation.algos.sklearn_nn import Inform_SimpleNN, Inform_SimpleNN \n",
    "# from rail.estimation.algos.somoclu_som import SOMocluInformer, SOMocluInformer\n",
    "from rail.estimation.algos.train_z import TrainZEstimator, TrainZEstimator, TrainZEstimator\n",
    "\n",
    "\n",
    "from rail.evaluation.evaluator import Evaluator\n",
    "\n",
    "\n",
    "## Data Storage: \n",
    "DS = RailStage.data_store\n",
    "DS.__class__.allow_overwrite = True\n",
    "\n",
    "\n",
    "### CMNN, PZFlow, FlexZBoost, GPZ "
   ]
  },
  {
   "cell_type": "code",
   "execution_count": 10,
   "metadata": {
    "tags": []
   },
   "outputs": [
    {
     "name": "stdout",
     "output_type": "stream",
     "text": [
      "Help on package rail.creation.engines in rail.creation:\n",
      "\n",
      "NAME\n",
      "    rail.creation.engines - # from ._version import __version__\n",
      "\n",
      "PACKAGE CONTENTS\n",
      "    _version\n",
      "    fsps_photometry_creator\n",
      "    fsps_sed_modeler\n",
      "\n",
      "DATA\n",
      "    Planck15 = FlatLambdaCDM(name=\"Planck15\", H0=67.74 km / (Mp...Neff=3.0...\n",
      "        Planck15 instance of FlatLambdaCDM cosmology\n",
      "        (from Planck Collaboration 2016, A&A, 594, A13 (Paper XIII), Table 4 (TT, TE, EE + lowP + lensing + ext))\n",
      "\n",
      "FILE\n",
      "    /global/u2/a/acraffor/All_RAIL_Repos/rail_fsps/src/rail/creation/engines/__init__.py\n",
      "\n",
      "\n"
     ]
    }
   ],
   "source": [
    "help(rail.creation.engines)"
   ]
  },
  {
   "cell_type": "code",
   "execution_count": 1,
   "metadata": {
    "tags": []
   },
   "outputs": [],
   "source": [
    "#from rail.stages import *\n",
    "#rail.stages.import_and_attach_all()\n",
    "#for val in RailStage.pipeline_stages.values():\n",
    "#    print(val[0])"
   ]
  },
  {
   "cell_type": "markdown",
   "metadata": {},
   "source": [
    "# Model"
   ]
  },
  {
   "cell_type": "code",
   "execution_count": 3,
   "metadata": {},
   "outputs": [],
   "source": [
    "def makeModel():\n",
    "    #path to access the data \n",
    "    DATA_DIR = Path().resolve() / \"data\"\n",
    "    DATA_DIR.mkdir(exist_ok=True)\n",
    "\n",
    "    catalog_file = DATA_DIR / \"base_catalog.pq\"\n",
    "\n",
    "    bands = ['u','g','r','i','z','y']\n",
    "    band_dict = {band:f'mag_{band}_lsst' for band in bands}\n",
    "    \n",
    "    #array of galaxies w/ 7 attributes for each: redshift & ugrizy\n",
    "    catalog = get_galaxy_data().rename(band_dict, axis=1) \n",
    "\n",
    "    #turns array into a table \n",
    "    tables_io.write(catalog, str(catalog_file.with_suffix(\"\")), catalog_file.suffix[1:])\n",
    "\n",
    "    catalog_file = str(catalog_file)\n",
    "    flow_file = str(DATA_DIR / \"trained_flow.pkl\")\n",
    "\n",
    "    print(flow_file)\n",
    "\n",
    "    #we set up the stage \n",
    "    flow_modeler_params = {\n",
    "        \"name\": \"flow_modeler\",\n",
    "        \"input\": catalog_file,\n",
    "        \"model\": flow_file,\n",
    "        \"seed\": 0,\n",
    "        \"phys_cols\": {\"redshift\": [0, 3]},\n",
    "        \"phot_cols\": {\n",
    "            \"mag_u_lsst\": [17, 35],\n",
    "            \"mag_g_lsst\": [16, 32],\n",
    "            \"mag_r_lsst\": [15, 30],\n",
    "            \"mag_i_lsst\": [15, 30],\n",
    "            \"mag_z_lsst\": [14, 29],\n",
    "            \"mag_y_lsst\": [14, 28],\n",
    "        },\n",
    "        \"calc_colors\": {\"ref_column_name\": \"mag_i_lsst\"},\n",
    "    }\n",
    "    flow_modeler = FlowModeler.make_stage(**flow_modeler_params)\n",
    "    # flow_modeler.fit_model()\n",
    "    return flow_modeler, flow_file ##.get_handle(\"model\")"
   ]
  },
  {
   "cell_type": "code",
   "execution_count": 4,
   "metadata": {},
   "outputs": [
    {
     "name": "stdout",
     "output_type": "stream",
     "text": [
      "/global/u2/a/acraffor/Photo-z-Stress-Test/data/trained_flow.pkl\n"
     ]
    }
   ],
   "source": [
    "modelData, flow_file = makeModel() "
   ]
  },
  {
   "cell_type": "markdown",
   "metadata": {},
   "source": [
    "# Training Set "
   ]
  },
  {
   "cell_type": "code",
   "execution_count": 5,
   "metadata": {},
   "outputs": [],
   "source": [
    "def trainSet(ntrain, seed):\n",
    "    data = FlowCreator.make_stage(\n",
    "            name = 'train_set',\n",
    "            model = flow_file,\n",
    "            n_samples = ntrain,\n",
    "            seed = seed \n",
    "    )\n",
    "    return data #.sample(ntrain, seed)\n",
    "\n",
    "def invRedshift(pivot = 1.0):\n",
    "    degr = InvRedshiftIncompleteness.make_stage(\n",
    "        name = 'inv_redshift',\n",
    "        pivot_redshift = pivot\n",
    "    )\n",
    "    return degr #(data)"
   ]
  },
  {
   "cell_type": "code",
   "execution_count": null,
   "metadata": {},
   "outputs": [],
   "source": [
    "# data = FlowCreator.make_stage(\n",
    "#             name = 'train_set',\n",
    "#             model = flow_file,\n",
    "#             n_samples = 2,\n",
    "#             seed = 78 )"
   ]
  },
  {
   "cell_type": "code",
   "execution_count": null,
   "metadata": {},
   "outputs": [],
   "source": [
    "# origTrainData = trainSet(modelData, 100, 372)\n",
    "# bubble = origTrainData.sample(100, 372)\n",
    "\n",
    "# degTrainData = invRedshift(1.0)\n",
    "# dot = degTrainData(bubble)"
   ]
  },
  {
   "cell_type": "code",
   "execution_count": null,
   "metadata": {},
   "outputs": [],
   "source": [
    "# degTrainData.get_handle('output')"
   ]
  },
  {
   "cell_type": "code",
   "execution_count": null,
   "metadata": {},
   "outputs": [],
   "source": [
    "def getPosts(data, model, grid):\n",
    "    posts = FlowPosterior.make_stage(\n",
    "        name='get_posts'+str(data), \n",
    "        column='redshift',\n",
    "        grid = grid,\n",
    "        model = model,\n",
    "        data = data\n",
    "    )\n",
    "    return posts #posts.get_posterior(data, column = 'redshift')"
   ]
  },
  {
   "cell_type": "code",
   "execution_count": null,
   "metadata": {},
   "outputs": [],
   "source": [
    "def makeGrid(zmin, zmax, nbins):\n",
    "    import numpy as np\n",
    "    grid = np.linspace(zmin, zmax, nbins + 1)\n",
    "    return grid "
   ]
  },
  {
   "cell_type": "code",
   "execution_count": null,
   "metadata": {},
   "outputs": [],
   "source": [
    "grid = makeGrid(0, 2.5, 100)"
   ]
  },
  {
   "cell_type": "code",
   "execution_count": null,
   "metadata": {},
   "outputs": [],
   "source": [
    "# origTrainPosts = getPosts(origTrainData, modelData, grid)\n",
    "# degTrainPosts = getPosts(degTrainData, modelData, grid)"
   ]
  },
  {
   "cell_type": "markdown",
   "metadata": {},
   "source": [
    "## Posts "
   ]
  },
  {
   "cell_type": "markdown",
   "metadata": {},
   "source": [
    "Only run if you need output_orig_train_posts"
   ]
  },
  {
   "cell_type": "code",
   "execution_count": null,
   "metadata": {},
   "outputs": [],
   "source": [
    "# flow_post_orig_train = FlowPosterior.make_stage(name='orig_train_posts', \n",
    "#                                              column='redshift',\n",
    "#                                              grid = np.linspace(0, 2.5, 101),\n",
    "#                                              model=flow_file,\n",
    "#                                              data = orig_train)\n",
    "\n",
    "# orig_train_pdfs = flow_post_orig_train.get_posterior(orig_train, column='redshift')"
   ]
  },
  {
   "cell_type": "markdown",
   "metadata": {},
   "source": [
    "Only run if you need output_deg_train_posts ** rerun this cell!! "
   ]
  },
  {
   "cell_type": "code",
   "execution_count": null,
   "metadata": {},
   "outputs": [],
   "source": [
    "# flow_post_deg_train = FlowPosterior.make_stage(name='deg_train_posts', \n",
    "#                                              column='redshift',\n",
    "#                                              grid = np.linspace(0, 2.5, 101),\n",
    "#                                              model=flow_file,\n",
    "#                                              err_samples = 0,\n",
    "#                                              data = deg_train)\n",
    "\n",
    "\n",
    "\n",
    "# deg_train_pdfs = flow_post_deg_train.get_posterior(deg_train, column='redshift')"
   ]
  },
  {
   "cell_type": "markdown",
   "metadata": {},
   "source": [
    "# Test Set "
   ]
  },
  {
   "cell_type": "code",
   "execution_count": 6,
   "metadata": {},
   "outputs": [],
   "source": [
    "def testSet(ntest, seed):\n",
    "    data = FlowCreator.make_stage(\n",
    "            name = 'test_set',\n",
    "            model = flow_file,\n",
    "            n_samples = ntest,\n",
    "            seed = seed \n",
    "    )\n",
    "    return data #.sample(ntest, seed)\n",
    "\n",
    "\n",
    "## you need to ask alex about where you can find the defaults for these params \n",
    "\n",
    "bands = ['u','g','r','i','z','y']\n",
    "band_dict = {band:f'mag_{band}_lsst' for band in bands}\n",
    "\n",
    "def lsstError(dict, seed): #tvis = 1, nYrObs = 1, airmass = 1, extendedSource = 1, sigmaSys = 1, magLim = 1, ndFlag = 1, A_min = 1, A_max = 1):\n",
    "    deg = LSSTErrorModel.make_stage(\n",
    "        name='lsst_error',\n",
    "        renameDict= dict, \n",
    "        ndFlag=np.nan,\n",
    "        seed=seed,\n",
    "    )\n",
    "    return deg #(data)"
   ]
  },
  {
   "cell_type": "code",
   "execution_count": null,
   "metadata": {},
   "outputs": [],
   "source": [
    "# testSetMaker = testSet(modelData, 100, 17)\n",
    "# testData = testSetMaker.sample(100, 17)\n",
    "# degTestData = "
   ]
  },
  {
   "cell_type": "markdown",
   "metadata": {},
   "source": [
    "## Posts"
   ]
  },
  {
   "cell_type": "markdown",
   "metadata": {},
   "source": [
    "Only run if you need output_orig_test_posts"
   ]
  },
  {
   "cell_type": "code",
   "execution_count": null,
   "metadata": {},
   "outputs": [],
   "source": [
    "# flow_post_orig_test = FlowPosterior.make_stage(name='orig_test_posts', \n",
    "#                                              column='redshift',\n",
    "#                                              grid = np.linspace(0, 2.5, 101),\n",
    "#                                              model=flow_file,\n",
    "#                                              data = orig_test)\n",
    "\n",
    "# orig_test_pdfs = flow_post_orig_test.get_posterior(orig_test, column='redshift')"
   ]
  },
  {
   "cell_type": "markdown",
   "metadata": {},
   "source": [
    "Only run if you need output_deg_test_posts"
   ]
  },
  {
   "cell_type": "code",
   "execution_count": null,
   "metadata": {},
   "outputs": [],
   "source": [
    "# flow_post_deg_test = FlowPosterior.make_stage(name='deg_test_posts', \n",
    "#                                              column='redshift',\n",
    "#                                              grid = np.linspace(0, 2.5, 101),\n",
    "#                                              model=flow_file,\n",
    "#                                              data = deg_test)\n",
    "\n",
    "# deg_test_pdfs = flow_post_deg_test.get_posterior(deg_test, column='redshift')"
   ]
  },
  {
   "cell_type": "markdown",
   "metadata": {},
   "source": [
    "# Make tables"
   ]
  },
  {
   "cell_type": "code",
   "execution_count": null,
   "metadata": {},
   "outputs": [],
   "source": [
    "# def makeTable(datafile):\n",
    "    \n",
    "#     bands = ['u','g','r','i','z','y']\n",
    "#     rename_dict = {f'mag_{band}_lsst_err':f'mag_err_{band}_lsst' for band in bands}\n",
    "\n",
    "#     col_remapper = ColumnMapper.make_stage(\n",
    "#     name='col_remapper', \n",
    "#     columns=rename_dict,\n",
    "#     )\n",
    "#     table_conv = TableConverter.make_stage(\n",
    "#     name='table_conv', \n",
    "#     output_format='numpyDict',\n",
    "#     )\n",
    "#     pq = col_remapper(datafile)\n",
    "#     tabledata = table_conv(pq)\n",
    "#     table = tables_io.convertObj(tabledata.data, tables_io.types.PD_DATAFRAME)\n",
    "#     return table\n",
    "\n",
    "\n",
    "# ## make two separate functions for each stage, make bands, rename_dict inputs "
   ]
  },
  {
   "cell_type": "code",
   "execution_count": 7,
   "metadata": {},
   "outputs": [],
   "source": [
    "bands = ['u','g','r','i','z','y']\n",
    "band_dict_err = {f'mag_{band}_lsst_err':f'mag_err_{band}_lsst' for band in bands}\n",
    "\n",
    "def colRemapper(dict):\n",
    "    col_remap = ColumnMapper.make_stage(\n",
    "    name='col_remapper', \n",
    "    columns=dict,\n",
    "    )\n",
    "    return col_remap\n",
    "\n",
    "def tableConverter():\n",
    "    table_conv = TableConverter.make_stage(\n",
    "    name='table_conv', \n",
    "    output_format='numpyDict',\n",
    "    )\n",
    "    return table_conv"
   ]
  },
  {
   "cell_type": "code",
   "execution_count": 8,
   "metadata": {},
   "outputs": [],
   "source": [
    "col_remap = colRemapper(band_dict_err)\n",
    "table_conv = tableConverter()"
   ]
  },
  {
   "cell_type": "code",
   "execution_count": null,
   "metadata": {},
   "outputs": [],
   "source": [
    "# squiggle = colRemapper(band_dict_err)\n",
    "# noodle = tableConverter()"
   ]
  },
  {
   "cell_type": "code",
   "execution_count": null,
   "metadata": {},
   "outputs": [],
   "source": [
    "# trainTable = makeTable(trainData)\n",
    "# testTable = makeTable(testData)"
   ]
  },
  {
   "cell_type": "markdown",
   "metadata": {},
   "source": [
    "# Inform & Estimate"
   ]
  },
  {
   "cell_type": "code",
   "execution_count": 9,
   "metadata": {},
   "outputs": [],
   "source": [
    "def informFZBoost():\n",
    "    info = Inform_FZBoost.make_stage(\n",
    "    name ='inform_FZBoost', \n",
    "    model ='fzboost.pkl', \n",
    "    hdf5_groupname='',\n",
    "    )\n",
    "    # info.inform(data)\n",
    "    return info"
   ]
  },
  {
   "cell_type": "code",
   "execution_count": null,
   "metadata": {},
   "outputs": [],
   "source": [
    "# informedEst = informFZBoost()\n",
    "# informedEst.inform(degTrainData.get_handle('output'))"
   ]
  },
  {
   "cell_type": "code",
   "execution_count": 10,
   "metadata": {},
   "outputs": [],
   "source": [
    "def estimateFZBoost(info, nbins):\n",
    "    est = FZBoost.make_stage(\n",
    "    name='est_FZBoost', \n",
    "    nondetect_val=np.nan,\n",
    "    model= info, #.get_handle('model'), \n",
    "    hdf5_groupname='',\n",
    "    aliases=dict(input='test_data', output='fzboost_estim'),\n",
    "    nzbins = nbins \n",
    "    )\n",
    "    return est #.estimate(data)"
   ]
  },
  {
   "cell_type": "code",
   "execution_count": null,
   "metadata": {},
   "outputs": [],
   "source": [
    "# estData = estimateFZBoost(informedEst, 100)\n",
    "\n",
    "# estData.estimate(testSetMaker.get_handle('output'))"
   ]
  },
  {
   "cell_type": "code",
   "execution_count": 11,
   "metadata": {},
   "outputs": [
    {
     "name": "stdout",
     "output_type": "stream",
     "text": [
      "Help on function connect_input in module rail.core.stage:\n",
      "\n",
      "connect_input(self, other, inputTag=None, outputTag=None)\n",
      "    Connect another stage to this stage as an input\n",
      "    \n",
      "    Parameters\n",
      "    ----------\n",
      "    other : RailStage\n",
      "         The stage whose output is being connected\n",
      "    inputTag : str\n",
      "         Which input tag of this stage to connect to.  None -> self.inputs[0]\n",
      "    outputTag : str\n",
      "         Which output tag of the other stage to connect to.  None -> other.outputs[0]\n",
      "    \n",
      "    Returns\n",
      "    -------\n",
      "    handle : The input handle for this stage\n",
      "\n"
     ]
    }
   ],
   "source": [
    "from rail.core import RailStage\n",
    "\n",
    "help(RailStage.connect_input)"
   ]
  },
  {
   "cell_type": "code",
   "execution_count": 12,
   "metadata": {},
   "outputs": [],
   "source": [
    "def informPZFlow():\n",
    "    inf = PZFlowInformer.make_stage(\n",
    "    name = 'inform_PZFlow',\n",
    "    model = 'pzflow.pkl',\n",
    "    hdf5_groupname=\"\"\n",
    "    )\n",
    "    return inf\n",
    "\n",
    "def estimatePZFlow(info):\n",
    "    est = PZFlowEstimator.make_stage(\n",
    "    name = 'estimate_PZFlow',\n",
    "    model = 'pzflow.pkl', #info.get_handle('model'),\n",
    "    hdf5_groupname=\"\"\n",
    "    )\n",
    "    return est"
   ]
  },
  {
   "cell_type": "code",
   "execution_count": 14,
   "metadata": {},
   "outputs": [],
   "source": [
    "#help(PZFlowEstimator)"
   ]
  },
  {
   "cell_type": "markdown",
   "metadata": {},
   "source": [
    "# Big F"
   ]
  },
  {
   "cell_type": "code",
   "execution_count": null,
   "metadata": {},
   "outputs": [],
   "source": [
    "def bigF(pivotz, ntrain, ntest, seed1, seed2, seed3, nbins):\n",
    "    \n",
    "    ##things you need\n",
    "    #grid = makeGrid(0, 2.5, nbins) \n",
    "    bands = ['u','g','r','i','z','y']\n",
    "    band_dict = {band: f\"mag_{band}_lsst\" for band in bands}\n",
    "    band_dict_err = {f'mag_{band}_lsst_err':f'mag_err_{band}_lsst' for band in bands}\n",
    "\n",
    "    # modelData = makeModel()\n",
    "    \n",
    "    ##stages \n",
    "    trainData = trainSet(ntrain, seed1)\n",
    "    invRed = invRedshift(pivotz)\n",
    "\n",
    "    # origTrainPosts = getPosts(output_train_set.pq (???), modelData, grid)\n",
    "    # degTrainPosts = getPosts(###)\n",
    "\n",
    "    testData = testSet(ntest, seed2)\n",
    "    lsstErr = lsstError(band_dict, seed3)\n",
    "\n",
    "    # origTestPosts = getPosts(###)\n",
    "    # degTestPosts = getPosts(###)\n",
    "\n",
    "    # informFZB = informFZBoost()\n",
    "    # estFZB = estimateFZBoost(informFZB, nbins)\n",
    "\n",
    "    infPZFlow = informPZFlow()\n",
    "    estPZFlow = estimatePZFlow(infPZFlow)\n",
    "\n",
    "    \n",
    "    ##pipeline and yml\n",
    "    pipe = ceci.Pipeline.interactive()\n",
    "    stages = [\n",
    "        trainData, \n",
    "        invRed, \n",
    "        testData, \n",
    "        lsstErr,  \n",
    "        infPZFlow, \n",
    "        estPZFlow]\n",
    "        #informFZB, \n",
    "        #estFZB]\n",
    "    \n",
    "    for stage in stages:\n",
    "        pipe.add_stage(stage)\n",
    "        \n",
    "\n",
    "    invRed.connect_input(trainData)\n",
    "    lsstErr.connect_input(testData)\n",
    "\n",
    "    infPZFlow.connect_input(invRed) \n",
    "    estPZFlow.connect_input(infPZFlow, inputTag = 'model')\n",
    "    estPZFlow.connect_input(lsstErr, inputTag = 'input') ## trucated out of docs :(\n",
    "\n",
    "    # informFZB.connect_input(invRed)\n",
    "    # estFZB.connect_input(informFZB, lsstErr) \n",
    "    \n",
    "    pipe.initialize(\n",
    "    dict(model=flow_file), dict(output_dir=\".\", log_dir=\".\", resume=False), None) \n",
    "\n",
    "    outpath = os.path.join(path_1, \"invz='% s'_lsstErr_pzflow.yml\" % pivotz)\n",
    "    pipe.save(outpath)\n",
    "    return outpath \n",
    "   "
   ]
  },
  {
   "cell_type": "markdown",
   "metadata": {},
   "source": [
    "# Choose Pivot z's"
   ]
  },
  {
   "cell_type": "code",
   "execution_count": null,
   "metadata": {},
   "outputs": [],
   "source": [
    "import numpy as np\n",
    "\n",
    "## seed1 and ndata should be the same as  seed1 and ntrain used to call bigF!! \n",
    "## Otherwise this might not be representative of the real data \n",
    "\n",
    "def choosePivots(seed1, ndata):\n",
    "    nums = trainSet(ndata, seed1)\n",
    "    data = nums.sample(ndata, seed1)\n",
    "    data_pq = col_remap(data)\n",
    "    data_table = table_conv(data_pq)\n",
    "    table = tables_io.convertObj(data_table.data, tables_io.types.PD_DATAFRAME)\n",
    "    return np.asarray(table['redshift'])"
   ]
  },
  {
   "cell_type": "code",
   "execution_count": null,
   "metadata": {},
   "outputs": [],
   "source": [
    "percentiles = np.arange(10, 100, 10)\n",
    "pivots = [] \n",
    "\n",
    "for i in percentiles:\n",
    "    pivot = np.percentile(choosePivots(17, 100000), i) \n",
    "    pivots.append(pivot)"
   ]
  },
  {
   "cell_type": "code",
   "execution_count": null,
   "metadata": {},
   "outputs": [],
   "source": [
    "print(pivots)"
   ]
  },
  {
   "cell_type": "markdown",
   "metadata": {},
   "source": [
    "# Run "
   ]
  },
  {
   "cell_type": "code",
   "execution_count": null,
   "metadata": {},
   "outputs": [],
   "source": [
    "path_lst = []\n",
    "dir = \"invz_lsstErr_pzflow\"\n",
    "parent_dir = \"/Users/alicec03/Desktop/Summer_Research/Photo-z-Stress-Test/Photo-z-Stress-Test/Pipeline_Outputs\"\n",
    "path_1 = os.path.join(parent_dir, dir)\n",
    "os.makedirs(path_1)\n",
    "\n",
    "for i in (pivots):\n",
    "    path_lst.append(bigF(i, 100000, 100000, 17, 39, 172, 10))\n"
   ]
  },
  {
   "cell_type": "code",
   "execution_count": null,
   "metadata": {},
   "outputs": [],
   "source": [
    "print(path_lst)"
   ]
  },
  {
   "cell_type": "code",
   "execution_count": null,
   "metadata": {},
   "outputs": [],
   "source": [
    "pr = ceci.Pipeline.read(\"/Users/alicec03/Desktop/Summer_Research/Photo-z-Stress-Test/Photo-z-Stress-Test/Pipeline_Outputs/invz_lsstErr_pzflow/invz=1.0_lsstErr_pzflow.yml\")\n",
    "pr.run()\n",
    "\n",
    "## 1) terminal: go to path up to invz_lsstErr_pzflow, then run these 2 lines \n",
    "## 2)  make list/txt file with list of paths to files made by big F\n",
    "\n",
    "## do 1) \n",
    "## open virtual env\n",
    "## python \n",
    "## import ceci \n",
    "## run the 2 lines of code above \n",
    "\n",
    "\n",
    "### at the end we can put this into a .py file that we can run at the command line \n",
    "\n",
    "## %cd ? "
   ]
  },
  {
   "cell_type": "code",
   "execution_count": null,
   "metadata": {
    "tags": []
   },
   "outputs": [],
   "source": [
    "## more config parameters/better config parameters\n",
    "## have to give path above to estimator model instead of get_handle('model')\n",
    "## fix truncated parameter printing in help(...)"
   ]
  }
 ],
 "metadata": {
  "kernelspec": {
   "display_name": "rail-dev",
   "language": "python",
   "name": "rail-dev"
  },
  "language_info": {
   "codemirror_mode": {
    "name": "ipython",
    "version": 3
   },
   "file_extension": ".py",
   "mimetype": "text/x-python",
   "name": "python",
   "nbconvert_exporter": "python",
   "pygments_lexer": "ipython3",
   "version": "3.10.12"
  }
 },
 "nbformat": 4,
 "nbformat_minor": 4
}
