{
 "cells": [
  {
   "cell_type": "markdown",
   "metadata": {},
   "source": [
    "# Imports "
   ]
  },
  {
   "cell_type": "code",
   "execution_count": 30,
   "metadata": {},
   "outputs": [],
   "source": [
    "## Essential Imports: \n",
    "import os\n",
    "import qp\n",
    "import numpy as np\n",
    "from pathlib import Path\n",
    "from pzflow.examples import get_galaxy_data\n",
    "# import tables_io\n",
    "\n",
    "## RAIL-Specific Imports: \n",
    "import rail\n",
    "from rail.creation.degradation import LSSTErrorModel, InvRedshiftIncompleteness\n",
    "from rail.creation.engines.flowEngine import FlowModeler, FlowCreator, FlowPosterior\n",
    "from rail.core.data import TableHandle\n",
    "from rail.core.stage import RailStage\n",
    "from rail.core.utilStages import ColumnMapper, TableConverter\n",
    "\n",
    "from rail.estimation.algos.flexzboost import Inform_FZBoost, FZBoost\n",
    "\n",
    "from rail.evaluation.evaluator import Evaluator\n",
    "\n",
    "## Data Storage: \n",
    "DS = RailStage.data_store\n",
    "DS.__class__.allow_overwrite = True\n",
    "\n",
    "## Data Formatting: (from different codes) \n",
    "from rail.core.utils import RAILDIR\n",
    "flow_file = os.path.join(RAILDIR, 'examples/goldenspike/data/pretrained_flow.pkl')\n",
    "bands = ['u','g','r','i','z','y']\n",
    "band_dict = {band:f'mag_{band}_lsst' for band in bands}\n",
    "rename_dict = {f'mag_{band}_lsst_err':f'mag_err_{band}_lsst' for band in bands}"
   ]
  },
  {
   "cell_type": "markdown",
   "metadata": {},
   "source": [
    "# Model"
   ]
  },
  {
   "cell_type": "code",
   "execution_count": 31,
   "metadata": {},
   "outputs": [
    {
     "name": "stdout",
     "output_type": "stream",
     "text": [
      "Training 30 epochs \n",
      "Loss:\n",
      "(0) 21.3266\n",
      "(1) 6.7267\n",
      "(2) 2.0761\n",
      "(3) 2.6037\n",
      "(4) -0.0680\n",
      "(5) 0.4129\n",
      "(6) 0.2506\n",
      "(7) 0.1637\n",
      "(8) -1.3346\n",
      "(9) -1.7669\n",
      "(10) -1.1823\n",
      "(11) -1.6267\n",
      "(12) 3402823273761818485311871060541440.0000\n",
      "(13) 3402823273761818485311871060541440.0000\n",
      "(14) -1.0711\n",
      "(15) -0.6228\n",
      "(16) 3402823273761818485311871060541440.0000\n",
      "(17) 3402823273761818485311871060541440.0000\n",
      "(18) -2.8045\n",
      "(19) -3.3746\n",
      "(20) 3402823273761818485311871060541440.0000\n",
      "(21) -2.4881\n",
      "(22) -3.2147\n",
      "(23) -3.7188\n",
      "(24) -3.4398\n",
      "(25) -3.7955\n",
      "(26) -3.3772\n",
      "(27) 3402823273761818485311871060541440.0000\n",
      "(28) -3.5247\n",
      "(29) -4.1677\n",
      "(30) -3.4874\n",
      "Inserting handle into data store.  model_flow_modeler: /Users/alicec03/Desktop/Summer_Research/Photo-z-Stress-Test/Photo-z-Stress-Test/data/inprogress_trained_flow.pkl, flow_modeler\n"
     ]
    },
    {
     "data": {
      "text/plain": [
       "<rail.core.data.FlowHandle at 0x17e79f160>"
      ]
     },
     "execution_count": 31,
     "metadata": {},
     "output_type": "execute_result"
    }
   ],
   "source": [
    "#path to access the data \n",
    "DATA_DIR = Path().resolve() / \"data\"\n",
    "DATA_DIR.mkdir(exist_ok=True)\n",
    "\n",
    "catalog_file = DATA_DIR / \"base_catalog.pq\"\n",
    "\n",
    "#array of galaxies w/ 7 attributes for each: redshift & ugrizy\n",
    "catalog = get_galaxy_data().rename(band_dict, axis=1) \n",
    "\n",
    "#turns array into a table \n",
    "tables_io.write(catalog, str(catalog_file.with_suffix(\"\")), catalog_file.suffix[1:])\n",
    "\n",
    "catalog_file = str(catalog_file)\n",
    "flow_file = str(DATA_DIR / \"trained_flow.pkl\")\n",
    "\n",
    "#we set up the stage \n",
    "flow_modeler_params = {\n",
    "    \"name\": \"flow_modeler\",\n",
    "    \"input\": catalog_file,\n",
    "    \"model\": flow_file,\n",
    "    \"seed\": 0,\n",
    "    \"phys_cols\": {\"redshift\": [0, 3]},\n",
    "    \"phot_cols\": {\n",
    "        \"mag_u_lsst\": [17, 35],\n",
    "        \"mag_g_lsst\": [16, 32],\n",
    "        \"mag_r_lsst\": [15, 30],\n",
    "        \"mag_i_lsst\": [15, 30],\n",
    "        \"mag_z_lsst\": [14, 29],\n",
    "        \"mag_y_lsst\": [14, 28],\n",
    "    },\n",
    "    \"calc_colors\": {\"ref_column_name\": \"mag_i_lsst\"},\n",
    "}\n",
    "\n",
    "#we make the stage\n",
    "flow_modeler = FlowModeler.make_stage(**flow_modeler_params)\n",
    "\n",
    "#we use the stage to make a model \n",
    "flow_modeler.fit_model()"
   ]
  },
  {
   "cell_type": "code",
   "execution_count": 32,
   "metadata": {},
   "outputs": [
    {
     "data": {
      "text/plain": [
       "<rail.core.data.FlowHandle at 0x17e79f160>"
      ]
     },
     "execution_count": 32,
     "metadata": {},
     "output_type": "execute_result"
    }
   ],
   "source": [
    "flow_modeler.get_handle(\"model\")"
   ]
  },
  {
   "cell_type": "markdown",
   "metadata": {},
   "source": [
    "# Training Set "
   ]
  },
  {
   "cell_type": "code",
   "execution_count": 34,
   "metadata": {},
   "outputs": [],
   "source": [
    "ntrain = 10000"
   ]
  },
  {
   "cell_type": "code",
   "execution_count": 35,
   "metadata": {},
   "outputs": [
    {
     "name": "stdout",
     "output_type": "stream",
     "text": [
      "Inserting handle into data store.  output_flow_creator_train: inprogress_output_flow_creator_train.pq, flow_creator_train\n",
      "Inserting handle into data store.  output_inv_redshift_deg: inprogress_output_inv_redshift_deg.pq, inv_redshift_deg\n"
     ]
    }
   ],
   "source": [
    "flow_creator_train = FlowCreator.make_stage(\n",
    "    name='flow_creator_train', \n",
    "    model=flow_modeler.get_handle(\"model\"), \n",
    "    n_samples=ntrain,\n",
    "    seed=372,\n",
    ")\n",
    "\n",
    "inv_redshift= InvRedshiftIncompleteness.make_stage(\n",
    "    name='inv_redshift_deg',\n",
    "    pivot_redshift=1.0,\n",
    ")\n",
    "\n",
    "orig_train= flow_creator_train.sample(ntrain, 372)\n",
    "deg_train = inv_redshift(orig_train)"
   ]
  },
  {
   "cell_type": "markdown",
   "metadata": {},
   "source": [
    "Only run if you need output_orig_train_posts"
   ]
  },
  {
   "cell_type": "code",
   "execution_count": 36,
   "metadata": {},
   "outputs": [
    {
     "name": "stdout",
     "output_type": "stream",
     "text": [
      "Inserting handle into data store.  output_orig_train_posts: inprogress_output_orig_train_posts.hdf5, orig_train_posts\n"
     ]
    }
   ],
   "source": [
    "# flow_post_orig_train = FlowPosterior.make_stage(name='orig_train_posts', \n",
    "#                                              column='redshift',\n",
    "#                                              grid = np.linspace(0, 2.5, 101),\n",
    "#                                              model=flow_file,\n",
    "#                                              data = orig_train)\n",
    "\n",
    "# orig_train_pdfs = flow_post_orig_train.get_posterior(orig_train, column='redshift')"
   ]
  },
  {
   "cell_type": "markdown",
   "metadata": {},
   "source": [
    "Only run if you need output_deg_train_posts"
   ]
  },
  {
   "cell_type": "code",
   "execution_count": 37,
   "metadata": {},
   "outputs": [
    {
     "name": "stdout",
     "output_type": "stream",
     "text": [
      "Inserting handle into data store.  output_deg_train_posts: inprogress_output_deg_train_posts.hdf5, deg_train_posts\n"
     ]
    }
   ],
   "source": [
    "# flow_post_deg_train = FlowPosterior.make_stage(name='deg_train_posts', \n",
    "#                                              column='redshift',\n",
    "#                                              grid = np.linspace(0, 2.5, 101),\n",
    "#                                              model=flow_file,\n",
    "#                                              data = deg_train)\n",
    "\n",
    "# deg_train_pdfs = flow_post_deg_train.get_posterior(deg_train, column='redshift')"
   ]
  },
  {
   "cell_type": "markdown",
   "metadata": {},
   "source": [
    "# Test Set "
   ]
  },
  {
   "cell_type": "code",
   "execution_count": 27,
   "metadata": {},
   "outputs": [],
   "source": [
    "ntest = 100000"
   ]
  },
  {
   "cell_type": "code",
   "execution_count": 41,
   "metadata": {},
   "outputs": [
    {
     "name": "stdout",
     "output_type": "stream",
     "text": [
      "Inserting handle into data store.  output_flow_creator_test: inprogress_output_flow_creator_test.pq, flow_creator_test\n",
      "Inserting handle into data store.  output_lsst_error_model: inprogress_output_lsst_error_model.pq, lsst_error_model\n"
     ]
    }
   ],
   "source": [
    "flow_creator_test = FlowCreator.make_stage(\n",
    "    name='flow_creator_test', \n",
    "    model=flow_modeler.get_handle(\"model\"), \n",
    "    n_samples=ntest,\n",
    "    seed=1078,\n",
    ")\n",
    "\n",
    "lsst_error_model = LSSTErrorModel.make_stage(\n",
    "    name='lsst_error_model',\n",
    "    bandNames=band_dict, \n",
    "    seed=39,\n",
    ")\n",
    "\n",
    "orig_test= flow_creator_test.sample(ntest, 1078)\n",
    "deg_test = lsst_error_model(orig_test)"
   ]
  },
  {
   "cell_type": "markdown",
   "metadata": {},
   "source": [
    "Only run if you need output_orig_test_posts"
   ]
  },
  {
   "cell_type": "code",
   "execution_count": 42,
   "metadata": {},
   "outputs": [
    {
     "name": "stdout",
     "output_type": "stream",
     "text": [
      "Inserting handle into data store.  output_orig_test_posts: inprogress_output_orig_test_posts.hdf5, orig_test_posts\n"
     ]
    }
   ],
   "source": [
    "# flow_post_orig_test = FlowPosterior.make_stage(name='orig_test_posts', \n",
    "#                                              column='redshift',\n",
    "#                                              grid = np.linspace(0, 2.5, 101),\n",
    "#                                              model=flow_file,\n",
    "#                                              data = orig_test)\n",
    "\n",
    "# orig_test_pdfs = flow_post_orig_test.get_posterior(orig_test, column='redshift')"
   ]
  },
  {
   "cell_type": "markdown",
   "metadata": {},
   "source": [
    "Only run if you need output_deg_test_posts"
   ]
  },
  {
   "cell_type": "code",
   "execution_count": 43,
   "metadata": {},
   "outputs": [
    {
     "name": "stdout",
     "output_type": "stream",
     "text": [
      "Inserting handle into data store.  output_deg_test_posts: inprogress_output_deg_test_posts.hdf5, deg_test_posts\n"
     ]
    },
    {
     "name": "stderr",
     "output_type": "stream",
     "text": [
      "/Users/alicec03/miniforge3/envs/rail/lib/python3.10/site-packages/qp/interp_pdf.py:83: RuntimeWarning: invalid value encountered in divide\n",
      "  self._ycumul = (self._ycumul.T / self._ycumul[:,-1]).T\n"
     ]
    }
   ],
   "source": [
    "# flow_post_deg_test = FlowPosterior.make_stage(name='deg_test_posts', \n",
    "#                                              column='redshift',\n",
    "#                                              grid = np.linspace(0, 2.5, 101),\n",
    "#                                              model=flow_file,\n",
    "#                                              data = deg_test)\n",
    "\n",
    "# deg_test_pdfs = flow_post_deg_test.get_posterior(deg_test, column='redshift')"
   ]
  },
  {
   "cell_type": "markdown",
   "metadata": {},
   "source": [
    "# Make tables"
   ]
  },
  {
   "cell_type": "code",
   "execution_count": 21,
   "metadata": {},
   "outputs": [],
   "source": [
    "col_remapper = ColumnMapper.make_stage(\n",
    "    name='col_remapper', \n",
    "    columns=rename_dict,\n",
    ")\n",
    "   \n",
    "table_conv = TableConverter.make_stage(\n",
    "    name='table_conv', \n",
    "    output_format='numpyDict',\n",
    ")"
   ]
  }
 ],
 "metadata": {
  "kernelspec": {
   "display_name": "rail",
   "language": "python",
   "name": "python3"
  },
  "language_info": {
   "codemirror_mode": {
    "name": "ipython",
    "version": 3
   },
   "file_extension": ".py",
   "mimetype": "text/x-python",
   "name": "python",
   "nbconvert_exporter": "python",
   "pygments_lexer": "ipython3",
   "version": "3.10.11"
  },
  "orig_nbformat": 4
 },
 "nbformat": 4,
 "nbformat_minor": 2
}
