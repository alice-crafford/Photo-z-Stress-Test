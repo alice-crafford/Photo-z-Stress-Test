{
 "cells": [
  {
   "cell_type": "markdown",
   "metadata": {},
   "source": [
    "# Imports "
   ]
  },
  {
   "cell_type": "code",
   "execution_count": 1,
   "metadata": {},
   "outputs": [],
   "source": [
    "def imports():\n",
    "    ## Essential Imports: \n",
    "    import os\n",
    "    import qp\n",
    "    import numpy as np\n",
    "    import tables.io\n",
    "    from pathlib import Path\n",
    "    import ceci\n",
    "    \n",
    "    ## RAIL-Specific Imports: \n",
    "    import rail\n",
    "    from rail.creation.degradation import LSSTErrorModel, InvRedshiftIncompleteness\n",
    "    from rail.creation.engines.flowEngine import FlowModeler, FlowCreator, FlowPosterior\n",
    "    from rail.core.data import TableHandle\n",
    "    from rail.core.stage import RailStage\n",
    "    from rail.core.utilStages import ColumnMapper, TableConverter\n",
    "    from rail.estimation.algos.flexzboost import Inform_FZBoost, FZBoost\n",
    "    from rail.evaluation.evaluator import Evaluator\n",
    "\n",
    "\n",
    "    ## Data Storage: \n",
    "    DS = RailStage.data_store\n",
    "    DS.__class__.allow_overwrite = True\n",
    "  "
   ]
  },
  {
   "cell_type": "code",
   "execution_count": 2,
   "metadata": {},
   "outputs": [],
   "source": [
    "# imports()"
   ]
  },
  {
   "cell_type": "markdown",
   "metadata": {},
   "source": [
    "# Model"
   ]
  },
  {
   "cell_type": "code",
   "execution_count": 3,
   "metadata": {},
   "outputs": [],
   "source": [
    "def makeModel():\n",
    "    imports()\n",
    "    \n",
    "    #path to access the data \n",
    "    DATA_DIR = Path().resolve() / \"data\"\n",
    "    DATA_DIR.mkdir(exist_ok=True)\n",
    "\n",
    "    catalog_file = DATA_DIR / \"base_catalog.pq\"\n",
    "\n",
    "    #array of galaxies w/ 7 attributes for each: redshift & ugrizy\n",
    "    catalog = get_galaxy_data().rename(band_dict, axis=1) \n",
    "\n",
    "    #turns array into a table \n",
    "    tables_io.write(catalog, str(catalog_file.with_suffix(\"\")), catalog_file.suffix[1:])\n",
    "\n",
    "    catalog_file = str(catalog_file)\n",
    "    flow_file = str(DATA_DIR / \"trained_flow.pkl\")\n",
    "\n",
    "    #we set up the stage \n",
    "    flow_modeler_params = {\n",
    "        \"name\": \"flow_modeler\",\n",
    "        \"input\": catalog_file,\n",
    "        \"model\": flow_file,\n",
    "        \"seed\": 0,\n",
    "        \"phys_cols\": {\"redshift\": [0, 3]},\n",
    "        \"phot_cols\": {\n",
    "            \"mag_u_lsst\": [17, 35],\n",
    "            \"mag_g_lsst\": [16, 32],\n",
    "            \"mag_r_lsst\": [15, 30],\n",
    "            \"mag_i_lsst\": [15, 30],\n",
    "            \"mag_z_lsst\": [14, 29],\n",
    "            \"mag_y_lsst\": [14, 28],\n",
    "        },\n",
    "        \"calc_colors\": {\"ref_column_name\": \"mag_i_lsst\"},\n",
    "    }\n",
    "    flow_modeler = FlowModeler.make_stage(**flow_modeler_params)\n",
    "    flow_modeler.fit_model()\n",
    "    return flow_modeler.get_handle(\"model\")"
   ]
  },
  {
   "cell_type": "code",
   "execution_count": 4,
   "metadata": {},
   "outputs": [],
   "source": [
    "# modelData = makeModel()"
   ]
  },
  {
   "cell_type": "markdown",
   "metadata": {},
   "source": [
    "# Training Set "
   ]
  },
  {
   "cell_type": "code",
   "execution_count": 5,
   "metadata": {},
   "outputs": [],
   "source": [
    "def trainingSet(modeldata, ntrain, seed):\n",
    "    data = FlowCreator.make_stage(\n",
    "            name = 'stuff',\n",
    "            model = modeldata,\n",
    "            n_samples = ntrain,\n",
    "            seed = seed \n",
    "    )\n",
    "    return data.sample(ntrain, seed)\n",
    "\n",
    "def invRedshift(data, pivot = 1.0):\n",
    "    deg = InvRedshiftIncompleteness.make_stage(\n",
    "        name = 'stuff',\n",
    "        pivot_redshift = pivot\n",
    "    )\n",
    "    return deg(data) "
   ]
  },
  {
   "cell_type": "code",
   "execution_count": 6,
   "metadata": {},
   "outputs": [],
   "source": [
    "# trainData = invRedshift(trainingSet(modelData, 10000, 372), 1.0)"
   ]
  },
  {
   "cell_type": "code",
   "execution_count": 7,
   "metadata": {},
   "outputs": [],
   "source": [
    "def getPosts(data, grid):\n",
    "    posts = FlowPosterior.make_stage(\n",
    "        name='stuff', \n",
    "        column='redshift',\n",
    "        grid = grid,\n",
    "        model = model_data,\n",
    "        data = data\n",
    "    )\n",
    "    return posts.get_posterior(data, column = 'redshift')"
   ]
  },
  {
   "cell_type": "code",
   "execution_count": 8,
   "metadata": {},
   "outputs": [],
   "source": [
    "def makeGrid(zmin, zmax, nbins):\n",
    "    import numpy as np\n",
    "    grid = np.linspace(zmin, zmax, nbins + 1)\n",
    "    return grid "
   ]
  },
  {
   "cell_type": "code",
   "execution_count": 9,
   "metadata": {},
   "outputs": [],
   "source": [
    "# grid = makeGrid(0, 2.5, 100)"
   ]
  },
  {
   "cell_type": "code",
   "execution_count": 10,
   "metadata": {},
   "outputs": [],
   "source": [
    "# trainPosts = getPosts(trainData, grid)"
   ]
  },
  {
   "cell_type": "markdown",
   "metadata": {},
   "source": [
    "## Posts "
   ]
  },
  {
   "cell_type": "markdown",
   "metadata": {},
   "source": [
    "Only run if you need output_orig_train_posts"
   ]
  },
  {
   "cell_type": "code",
   "execution_count": 11,
   "metadata": {},
   "outputs": [],
   "source": [
    "# flow_post_orig_train = FlowPosterior.make_stage(name='orig_train_posts', \n",
    "#                                              column='redshift',\n",
    "#                                              grid = np.linspace(0, 2.5, 101),\n",
    "#                                              model=flow_file,\n",
    "#                                              data = orig_train)\n",
    "\n",
    "# orig_train_pdfs = flow_post_orig_train.get_posterior(orig_train, column='redshift')"
   ]
  },
  {
   "cell_type": "markdown",
   "metadata": {},
   "source": [
    "Only run if you need output_deg_train_posts ** rerun this cell!! "
   ]
  },
  {
   "cell_type": "code",
   "execution_count": 12,
   "metadata": {},
   "outputs": [],
   "source": [
    "# flow_post_deg_train = FlowPosterior.make_stage(name='deg_train_posts', \n",
    "#                                              column='redshift',\n",
    "#                                              grid = np.linspace(0, 2.5, 101),\n",
    "#                                              model=flow_file,\n",
    "#                                              err_samples = 0,\n",
    "#                                              data = deg_train)\n",
    "\n",
    "\n",
    "\n",
    "# deg_train_pdfs = flow_post_deg_train.get_posterior(deg_train, column='redshift')"
   ]
  },
  {
   "cell_type": "markdown",
   "metadata": {},
   "source": [
    "# Test Set "
   ]
  },
  {
   "cell_type": "code",
   "execution_count": 13,
   "metadata": {},
   "outputs": [],
   "source": [
    "def testSet(ntest, seed):\n",
    "    data = FlowCreator.make_stage(\n",
    "            name = 'stuff',\n",
    "            model = model_data,\n",
    "            n_samples = ntest,\n",
    "            seed = seed \n",
    "    )\n",
    "    return data.sample(ntest, seed)\n",
    "\n",
    "\n",
    "## you need to ask alex about where you can find the defaults for these params \n",
    "def lsstError(data, seed, tvis = 1, nYrObs = 1, airmass = 1, extendedSource = 1, sigmaSys = 1, magLim = 1, ndFlag = 1, A_min = 1, A_max = 1):\n",
    "    bands = ['u','g','r','i','z','y']\n",
    "    band_dict = {band:f'mag_{band}_lsst' for band in bands}\n",
    "    \n",
    "    deg = LSSTErrorModel.make_stage(\n",
    "        name='stuff',\n",
    "        bandNames=band_dict, \n",
    "        seed=seed,\n",
    "    )\n",
    "    return deg(data)"
   ]
  },
  {
   "cell_type": "code",
   "execution_count": 14,
   "metadata": {},
   "outputs": [],
   "source": [
    "# testData = lsstError(testSet(100000, 1078), 39)"
   ]
  },
  {
   "cell_type": "code",
   "execution_count": 15,
   "metadata": {},
   "outputs": [],
   "source": [
    "# testPosts = getPosts(testData, grid)"
   ]
  },
  {
   "cell_type": "markdown",
   "metadata": {},
   "source": [
    "## Posts"
   ]
  },
  {
   "cell_type": "markdown",
   "metadata": {},
   "source": [
    "Only run if you need output_orig_test_posts"
   ]
  },
  {
   "cell_type": "code",
   "execution_count": 16,
   "metadata": {},
   "outputs": [],
   "source": [
    "# flow_post_orig_test = FlowPosterior.make_stage(name='orig_test_posts', \n",
    "#                                              column='redshift',\n",
    "#                                              grid = np.linspace(0, 2.5, 101),\n",
    "#                                              model=flow_file,\n",
    "#                                              data = orig_test)\n",
    "\n",
    "# orig_test_pdfs = flow_post_orig_test.get_posterior(orig_test, column='redshift')"
   ]
  },
  {
   "cell_type": "markdown",
   "metadata": {},
   "source": [
    "Only run if you need output_deg_test_posts"
   ]
  },
  {
   "cell_type": "code",
   "execution_count": 17,
   "metadata": {},
   "outputs": [],
   "source": [
    "# flow_post_deg_test = FlowPosterior.make_stage(name='deg_test_posts', \n",
    "#                                              column='redshift',\n",
    "#                                              grid = np.linspace(0, 2.5, 101),\n",
    "#                                              model=flow_file,\n",
    "#                                              data = deg_test)\n",
    "\n",
    "# deg_test_pdfs = flow_post_deg_test.get_posterior(deg_test, column='redshift')"
   ]
  },
  {
   "cell_type": "markdown",
   "metadata": {},
   "source": [
    "# Make tables"
   ]
  },
  {
   "cell_type": "code",
   "execution_count": 18,
   "metadata": {},
   "outputs": [],
   "source": [
    "def makeTable(datafile):\n",
    "    import tables_io\n",
    "    rename_dict = {f'mag_{band}_lsst_err':f'mag_err_{band}_lsst' for band in bands}\n",
    "\n",
    "    col_remapper = ColumnMapper.make_stage(\n",
    "    name='col_remapper', \n",
    "    columns=rename_dict,\n",
    "    )\n",
    "    table_conv = TableConverter.make_stage(\n",
    "    name='table_conv', \n",
    "    output_format='numpyDict',\n",
    "    )\n",
    "    pq = col_remapper(datafile)\n",
    "    tabledata = table_conv(pq)\n",
    "    table = tables_io.convertObj(tabledata.data, tables_io.types.PD_DATAFRAME)\n",
    "    return table\n"
   ]
  },
  {
   "cell_type": "code",
   "execution_count": 19,
   "metadata": {},
   "outputs": [],
   "source": [
    "# trainTable = makeTable(trainData)\n",
    "# testTable = makeTable(testData)"
   ]
  },
  {
   "cell_type": "markdown",
   "metadata": {},
   "source": [
    "# Estimation "
   ]
  },
  {
   "cell_type": "code",
   "execution_count": 20,
   "metadata": {},
   "outputs": [],
   "source": [
    "def informFZBoost(data):\n",
    "    info = Inform_FZBoost.make_stage(\n",
    "    name ='informFZBoost', \n",
    "    model ='fzboost.pkl', \n",
    "    hdf5_groupname='',\n",
    "    )\n",
    "    info.inform(data)\n",
    "    return info"
   ]
  },
  {
   "cell_type": "code",
   "execution_count": 21,
   "metadata": {},
   "outputs": [],
   "source": [
    "# informedEst = informFZBoost(trainData)"
   ]
  },
  {
   "cell_type": "code",
   "execution_count": 22,
   "metadata": {},
   "outputs": [],
   "source": [
    "def estimateFZBoost(data, info, nbins):\n",
    "    est = FZBoost.make_stage(\n",
    "    name='estFZBoost', \n",
    "    nondetect_val=np.nan,\n",
    "    model= info.get_handle('model'), \n",
    "    hdf5_groupname='',\n",
    "    aliases=dict(input='test_data', output='fzboost_estim'),\n",
    "    nzbins = nbins ,\n",
    "    zmax = zmax\n",
    "    )\n",
    "    return est.estimate(data)"
   ]
  },
  {
   "cell_type": "code",
   "execution_count": 23,
   "metadata": {},
   "outputs": [],
   "source": [
    "# estData = estimateFZBoost(testData, informedEst, 100)"
   ]
  },
  {
   "cell_type": "code",
   "execution_count": 24,
   "metadata": {},
   "outputs": [],
   "source": [
    "def bigF():\n",
    "    imports()\n",
    "    grid = makeGrid(0, 2.5, 100) \n",
    "    modelData = makeModel()\n",
    "    trainData = invRedshift(trainingSet(modelData, 10, 372), 1.0)\n",
    "    trainPosts = getPosts(trainData, grid)\n",
    "    testData = lsstError(testSet(100, 1078), 39)\n",
    "    testPosts = getPosts(testData, grid)\n",
    "    trainTable = makeTable(trainData)\n",
    "    testTable = makeTable(testData)\n",
    "    informedEst = informFZBoost(trainData)\n",
    "    estData = estimateFZBoost(testData, informedEst)\n",
    "    pipe = ceci.Pipeline.interactive()\n",
    "    stages = [modelData, trainData, trainPosts, testData, testPosts, trainTable, testTable, informedEst, estData]\n",
    "    for stage in stages:\n",
    "        pipe.add_stage(stage)"
   ]
  },
  {
   "cell_type": "code",
   "execution_count": 25,
   "metadata": {},
   "outputs": [
    {
     "ename": "NameError",
     "evalue": "name 'Path' is not defined",
     "output_type": "error",
     "traceback": [
      "\u001b[0;31m---------------------------------------------------------------------------\u001b[0m",
      "\u001b[0;31mNameError\u001b[0m                                 Traceback (most recent call last)",
      "Cell \u001b[0;32mIn[25], line 1\u001b[0m\n\u001b[0;32m----> 1\u001b[0m bigF()\n",
      "Cell \u001b[0;32mIn[24], line 4\u001b[0m, in \u001b[0;36mbigF\u001b[0;34m()\u001b[0m\n\u001b[1;32m      2\u001b[0m imports()\n\u001b[1;32m      3\u001b[0m grid \u001b[39m=\u001b[39m makeGrid(\u001b[39m0\u001b[39m, \u001b[39m2.5\u001b[39m, \u001b[39m100\u001b[39m) \n\u001b[0;32m----> 4\u001b[0m modelData \u001b[39m=\u001b[39m makeModel()\n\u001b[1;32m      5\u001b[0m trainData \u001b[39m=\u001b[39m invRedshift(trainingSet(modelData, \u001b[39m10\u001b[39m, \u001b[39m372\u001b[39m), \u001b[39m1.0\u001b[39m)\n\u001b[1;32m      6\u001b[0m trainPosts \u001b[39m=\u001b[39m getPosts(trainData, grid)\n",
      "Cell \u001b[0;32mIn[3], line 4\u001b[0m, in \u001b[0;36mmakeModel\u001b[0;34m()\u001b[0m\n\u001b[1;32m      1\u001b[0m \u001b[39mdef\u001b[39;00m \u001b[39mmakeModel\u001b[39m():\n\u001b[1;32m      2\u001b[0m     \n\u001b[1;32m      3\u001b[0m     \u001b[39m#path to access the data \u001b[39;00m\n\u001b[0;32m----> 4\u001b[0m     DATA_DIR \u001b[39m=\u001b[39m Path()\u001b[39m.\u001b[39mresolve() \u001b[39m/\u001b[39m \u001b[39m\"\u001b[39m\u001b[39mdata\u001b[39m\u001b[39m\"\u001b[39m\n\u001b[1;32m      5\u001b[0m     DATA_DIR\u001b[39m.\u001b[39mmkdir(exist_ok\u001b[39m=\u001b[39m\u001b[39mTrue\u001b[39;00m)\n\u001b[1;32m      7\u001b[0m     catalog_file \u001b[39m=\u001b[39m DATA_DIR \u001b[39m/\u001b[39m \u001b[39m\"\u001b[39m\u001b[39mbase_catalog.pq\u001b[39m\u001b[39m\"\u001b[39m\n",
      "\u001b[0;31mNameError\u001b[0m: name 'Path' is not defined"
     ]
    }
   ],
   "source": [
    "bigF()"
   ]
  }
 ],
 "metadata": {
  "kernelspec": {
   "display_name": "rail",
   "language": "python",
   "name": "python3"
  },
  "language_info": {
   "codemirror_mode": {
    "name": "ipython",
    "version": 3
   },
   "file_extension": ".py",
   "mimetype": "text/x-python",
   "name": "python",
   "nbconvert_exporter": "python",
   "pygments_lexer": "ipython3",
   "version": "3.10.11"
  },
  "orig_nbformat": 4
 },
 "nbformat": 4,
 "nbformat_minor": 2
}
