{
 "cells": [
  {
   "cell_type": "markdown",
   "metadata": {
    "tags": []
   },
   "source": [
    "# Imports "
   ]
  },
  {
   "cell_type": "code",
   "execution_count": 3,
   "metadata": {},
   "outputs": [],
   "source": [
    "## Essential Imports: \n",
    "import os\n",
    "import numpy as np\n",
    "import qp\n",
    "import tables_io\n",
    "from pathlib import Path \n",
    "from pzflow.examples import get_galaxy_data\n",
    "import ceci\n",
    "\n",
    "## RAIL-Specific Imports: \n",
    "import rail\n",
    "\n",
    "# old : from rail.creation.degradation import LSSTErrorModel, InvRedshiftIncompleteness\n",
    "\n",
    "\n",
    "from rail.creation.degradation.lsst_error_model import LSSTErrorModel\n",
    "from rail.creation.degradation.spectroscopic_degraders import InvRedshiftIncompleteness\n",
    "\n",
    "import rail.creation \n",
    "import rail.creation.engines\n",
    "from rail.creation.engines.flowEngine import FlowModeler, FlowCreator, FlowPosterior\n",
    "from rail.core.data import TableHandle\n",
    "from rail.core.stage import RailStage\n",
    "from rail.core.utilStages import ColumnMapper, TableConverter\n",
    "\n",
    "# old : from rail.estimation.algos.flexzboost import Inform_FZBoost, FZBoost\n",
    "\n",
    "from rail.estimation.algos.train_z import TrainZEstimator, TrainZInformer\n",
    "from rail.estimation.algos.cmnn import Inform_CMNNPDF, CMNNPDF\n",
    "# from rail.estimation.algos.gpz import GPzInformer, GPzEstimator \n",
    "from rail.estimation.algos.pzflow_nf import PZFlowInformer, PZFlowEstimator \n",
    "#from rail.estimation.algos.flexzboost import FlexZBoostInformer, FlexZBoostEstimator  \n",
    "\n",
    "# from rail.estimation.algos.k_nearneigh import #Inform_KNearNeighPDF, Inform_KNearNeighPDF \n",
    "#from rail.estimation.algos.minisom_som import MiniSOMInformer, MiniSOMEstimator \n",
    "#from rail.estimation.algos.sklearn_neurnet import #Inform_SimpleNN, Inform_SimpleNN \n",
    "#from rail.estimation.algos.somoclu_som import SOMocluInformer, SOMocluInformer\n",
    "\n",
    "#from rail.estimation.algos.bpz_lite import BPZliteInformer, BPZliteEstimator\n",
    "\n",
    "\n",
    "from rail.evaluation.evaluator import Evaluator\n",
    "\n",
    "\n",
    "## Data Storage: \n",
    "DS = RailStage.data_store\n",
    "DS.__class__.allow_overwrite = True\n",
    "\n",
    "\n",
    "### CMNN, PZFlow, FlexZBoost, GPZ, trainz for control"
   ]
  },
  {
   "cell_type": "code",
   "execution_count": 44,
   "metadata": {
    "tags": []
   },
   "outputs": [],
   "source": [
    " # help(rail.estimation.algos.cmnn)"
   ]
  },
  {
   "cell_type": "code",
   "execution_count": 3,
   "metadata": {
    "tags": []
   },
   "outputs": [],
   "source": [
    "# help(rail.creation.engines)"
   ]
  },
  {
   "cell_type": "code",
   "execution_count": 3,
   "metadata": {
    "tags": []
   },
   "outputs": [],
   "source": [
    "#from rail.stages import *\n",
    "#rail.stages.import_and_attach_all()\n",
    "#for val in RailStage.pipeline_stages.values():\n",
    "#    print(val[0])"
   ]
  },
  {
   "cell_type": "markdown",
   "metadata": {
    "tags": []
   },
   "source": [
    "# Model"
   ]
  },
  {
   "cell_type": "code",
   "execution_count": 4,
   "metadata": {},
   "outputs": [],
   "source": [
    "def makeModel():\n",
    "    #path to access the data \n",
    "    DATA_DIR = Path().resolve() / \"data\"\n",
    "    DATA_DIR.mkdir(exist_ok=True)\n",
    "\n",
    "    catalog_file = DATA_DIR / \"base_catalog.pq\"\n",
    "\n",
    "    bands = ['u','g','r','i','z','y']\n",
    "    band_dict = {band:f'mag_{band}_lsst' for band in bands}\n",
    "    \n",
    "    #array of galaxies w/ 7 attributes for each: redshift & ugrizy\n",
    "    catalog = get_galaxy_data().rename(band_dict, axis=1) \n",
    "\n",
    "    #turns array into a table \n",
    "    tables_io.write(catalog, str(catalog_file.with_suffix(\"\")), catalog_file.suffix[1:])\n",
    "\n",
    "    catalog_file = str(catalog_file)\n",
    "    flow_file = str(DATA_DIR / \"trained_flow.pkl\")\n",
    "\n",
    "    print(flow_file)\n",
    "\n",
    "    #we set up the stage \n",
    "    flow_modeler_params = {\n",
    "        \"name\": \"flow_modeler\",\n",
    "        \"input\": catalog_file,\n",
    "        \"model\": flow_file,\n",
    "        \"seed\": 0,\n",
    "        \"phys_cols\": {\"redshift\": [0, 3]},\n",
    "        \"phot_cols\": {\n",
    "            \"mag_u_lsst\": [17, 35],\n",
    "            \"mag_g_lsst\": [16, 32],\n",
    "            \"mag_r_lsst\": [15, 30],\n",
    "            \"mag_i_lsst\": [15, 30],\n",
    "            \"mag_z_lsst\": [14, 29],\n",
    "            \"mag_y_lsst\": [14, 28],\n",
    "        },\n",
    "        \"calc_colors\": {\"ref_column_name\": \"mag_i_lsst\"},\n",
    "    }\n",
    "    flow_modeler = FlowModeler.make_stage(**flow_modeler_params)\n",
    "    # flow_modeler.fit_model()\n",
    "    return flow_modeler, flow_file ##.get_handle(\"model\")"
   ]
  },
  {
   "cell_type": "code",
   "execution_count": 5,
   "metadata": {},
   "outputs": [
    {
     "name": "stdout",
     "output_type": "stream",
     "text": [
      "/Users/alicec03/Desktop/Summer_Research/Photo-z-Stress-Test/Photo-z-Stress-Test/data/trained_flow.pkl\n"
     ]
    }
   ],
   "source": [
    "modelData, flow_file = makeModel() "
   ]
  },
  {
   "cell_type": "markdown",
   "metadata": {
    "tags": []
   },
   "source": [
    "# Make Training Set and Test Set "
   ]
  },
  {
   "cell_type": "code",
   "execution_count": 6,
   "metadata": {},
   "outputs": [],
   "source": [
    "def trainSet(ntrain, seed):\n",
    "    data = FlowCreator.make_stage(\n",
    "            name = 'train_set',\n",
    "            model = flow_file,\n",
    "            n_samples = ntrain,\n",
    "            seed = seed \n",
    "    )\n",
    "    return data "
   ]
  },
  {
   "cell_type": "code",
   "execution_count": 7,
   "metadata": {},
   "outputs": [],
   "source": [
    "def testSet(ntest, seed):\n",
    "    data = FlowCreator.make_stage(\n",
    "            name = 'test_set',\n",
    "            model = flow_file,\n",
    "            n_samples = ntest,\n",
    "            seed = seed \n",
    "    )\n",
    "    return data #.sample(ntest, seed)"
   ]
  },
  {
   "cell_type": "markdown",
   "metadata": {
    "tags": []
   },
   "source": [
    "# Degraders"
   ]
  },
  {
   "cell_type": "markdown",
   "metadata": {
    "tags": []
   },
   "source": [
    "## Inverse Redshift Incompleteness"
   ]
  },
  {
   "cell_type": "code",
   "execution_count": 8,
   "metadata": {},
   "outputs": [],
   "source": [
    "def invRedshift(pivot = 1.0):\n",
    "    assert type(pivot) == float \n",
    "    degr = InvRedshiftIncompleteness.make_stage(\n",
    "        name = 'inv_redshift',\n",
    "        pivot_redshift = pivot\n",
    "    )\n",
    "    return degr \n",
    "\n",
    "pivot_ls = [1.0, 1.4]"
   ]
  },
  {
   "cell_type": "code",
   "execution_count": 9,
   "metadata": {},
   "outputs": [],
   "source": [
    "# ## Choose pivot z's for inverse redshift incompleteness \n",
    "\n",
    "# ## seed1 and ndata should be the same as  seed1 and ntrain used to call bigF!! \n",
    "# ## Otherwise this might not be representative of the real data \n",
    "\n",
    "# def choosePivots(seed1, ndata):\n",
    "#     nums = trainSet(ndata, seed1)\n",
    "#     data = nums.sample(ndata, seed1)\n",
    "#     data_pq = col_remap(data)\n",
    "#     data_table = table_conv(data_pq)\n",
    "#     table = tables_io.convertObj(data_table.data, tables_io.types.PD_DATAFRAME)\n",
    "#     return np.asarray(table['redshift'])\n",
    "\n",
    "# percentiles = np.arange(10, 100, 10)\n",
    "# pivots = [] \n",
    "\n",
    "# for i in percentiles:\n",
    "#     pivot = np.percentile(choosePivots(17, 100000), i) \n",
    "#     pivots.append(pivot)"
   ]
  },
  {
   "cell_type": "code",
   "execution_count": 10,
   "metadata": {},
   "outputs": [],
   "source": [
    "# print(pivots)"
   ]
  },
  {
   "cell_type": "markdown",
   "metadata": {},
   "source": [
    "## LSST Error "
   ]
  },
  {
   "cell_type": "code",
   "execution_count": 11,
   "metadata": {},
   "outputs": [],
   "source": [
    "bands = ['u','g','r','i','z','y']\n",
    "band_dict = {band:f'mag_{band}_lsst' for band in bands}\n",
    "\n",
    "def lsstError(dict, seed): #tvis = 1, nYrObs = 1, airmass = 1, extendedSource = 1, sigmaSys = 1, magLim = 1, ndFlag = 1, A_min = 1, A_max = 1):\n",
    "    deg = LSSTErrorModel.make_stage(\n",
    "        name='lsst_error',\n",
    "        renameDict= dict, \n",
    "        ndFlag=np.nan,\n",
    "        seed=seed,\n",
    "    )\n",
    "    return deg "
   ]
  },
  {
   "cell_type": "markdown",
   "metadata": {
    "jp-MarkdownHeadingCollapsed": true,
    "tags": []
   },
   "source": [
    "## Quantity Cuts "
   ]
  },
  {
   "cell_type": "code",
   "execution_count": 12,
   "metadata": {},
   "outputs": [],
   "source": [
    "## write a dictionary with the different bands and magnitudes you want\n",
    "\n",
    "def quantCuts(band, mag):\n",
    "    quantity_cut = QuantityCut.make_stage(\n",
    "        name='quantity_cut',    \n",
    "        cuts={'mag_i_lsst': 25.0},\n",
    "    )"
   ]
  },
  {
   "cell_type": "code",
   "execution_count": 13,
   "metadata": {},
   "outputs": [],
   "source": [
    "qcuts_dict = {'mag_u_lsst': [...], \n",
    "              'mag_g_lsst': [...], \n",
    "              'mag_r_lsst': [...], \n",
    "              'mag_i_lsst': [...], \n",
    "              'mag_z_lsst': [...], \n",
    "              'mag_y_lsst': [...] }"
   ]
  },
  {
   "cell_type": "markdown",
   "metadata": {
    "tags": []
   },
   "source": [
    "## Survey-Based Degraders"
   ]
  },
  {
   "cell_type": "code",
   "execution_count": 14,
   "metadata": {},
   "outputs": [],
   "source": [
    "from rail.creation.degradation.spectroscopic_selections import *\n",
    "\n",
    "def specSelectBOSS(ntrain):\n",
    "    degr = SpecSelection_BOSS.make_stage(\n",
    "        name = 'specselection_boss',\n",
    "        N_tot = ntrain\n",
    "    )\n",
    "    return degr \n",
    "\n",
    "def specSelectDEEP2(ntrain):\n",
    "    degr = SpecSelection_DEEP2.make_stage(\n",
    "        name = 'specselection_deep2',\n",
    "        N_tot = ntrain\n",
    "    )\n",
    "    return degr \n",
    "\n",
    "def specSelectGAMA(ntrain):\n",
    "    degr = SpecSelection_GAMA.make_stage(\n",
    "        name = 'specselection_gama',\n",
    "        N_tot = ntrain\n",
    "    )\n",
    "    return degr \n",
    "\n",
    "def specSelectHSC(ntrain):\n",
    "    degr = SpecSelection_HSC.make_stage(\n",
    "        name = 'specselection_HSC',\n",
    "        N_tot = ntrain\n",
    "    )\n",
    "    return degr \n",
    "\n",
    "def specSelectVVDSf02(ntrain):\n",
    "    degr = SpecSelection_VVDSf02.make_stage(\n",
    "        name = 'specselection_VVDSf02',\n",
    "        N_tot = ntrain\n",
    "    )\n",
    "    return degr \n",
    "\n",
    "def specSelectzCOSMOS(ntrain):\n",
    "    degr = SpecSelection_zCOSMOS.make_stage(\n",
    "        name = 'specselection_zCOSMOS',\n",
    "        N_tot = ntrain\n",
    "    )\n",
    "    return degr "
   ]
  },
  {
   "cell_type": "code",
   "execution_count": 15,
   "metadata": {},
   "outputs": [],
   "source": [
    "spec_dict = {'BOSS': specSelectBOSS, \n",
    "             'DEEP2': specSelectDEEP2, \n",
    "             'GAMA': specSelectGAMA,\n",
    "             'HSC': specSelectHSC, \n",
    "             'VVDSf02': specSelectVVDSf02, \n",
    "             'zCOSMOS': specSelectzCOSMOS } "
   ]
  },
  {
   "cell_type": "markdown",
   "metadata": {
    "tags": []
   },
   "source": [
    "## Posts "
   ]
  },
  {
   "cell_type": "code",
   "execution_count": 16,
   "metadata": {},
   "outputs": [],
   "source": [
    "def getPosts(data, model, grid):\n",
    "    posts = FlowPosterior.make_stage(\n",
    "        name='get_posts'+str(data), \n",
    "        column='redshift',\n",
    "        grid = grid,\n",
    "        model = model,\n",
    "        data = data\n",
    "    )\n",
    "    return posts #posts.get_posterior(data, column = 'redshift')"
   ]
  },
  {
   "cell_type": "code",
   "execution_count": 17,
   "metadata": {},
   "outputs": [],
   "source": [
    "def makeGrid(zmin, zmax, nbins):\n",
    "    import numpy as np\n",
    "    grid = np.linspace(zmin, zmax, nbins + 1)\n",
    "    return grid "
   ]
  },
  {
   "cell_type": "code",
   "execution_count": 18,
   "metadata": {},
   "outputs": [],
   "source": [
    "grid = makeGrid(0, 2.5, 100)"
   ]
  },
  {
   "cell_type": "markdown",
   "metadata": {},
   "source": [
    "Only run if you need output_orig_train_posts"
   ]
  },
  {
   "cell_type": "code",
   "execution_count": 19,
   "metadata": {},
   "outputs": [],
   "source": [
    "# flow_post_orig_train = FlowPosterior.make_stage(name='orig_train_posts', \n",
    "#                                              column='redshift',\n",
    "#                                              grid = np.linspace(0, 2.5, 101),\n",
    "#                                              model=flow_file,\n",
    "#                                              data = orig_train)\n",
    "\n",
    "# orig_train_pdfs = flow_post_orig_train.get_posterior(orig_train, column='redshift')"
   ]
  },
  {
   "cell_type": "markdown",
   "metadata": {},
   "source": [
    "Only run if you need output_deg_train_posts ** rerun this cell!! "
   ]
  },
  {
   "cell_type": "code",
   "execution_count": 20,
   "metadata": {},
   "outputs": [],
   "source": [
    "# flow_post_deg_train = FlowPosterior.make_stage(name='deg_train_posts', \n",
    "#                                              column='redshift',\n",
    "#                                              grid = np.linspace(0, 2.5, 101),\n",
    "#                                              model=flow_file,\n",
    "#                                              err_samples = 0,\n",
    "#                                              data = deg_train)\n",
    "\n",
    "\n",
    "\n",
    "# deg_train_pdfs = flow_post_deg_train.get_posterior(deg_train, column='redshift')"
   ]
  },
  {
   "cell_type": "markdown",
   "metadata": {},
   "source": [
    "Only run if you need output_orig_test_posts"
   ]
  },
  {
   "cell_type": "code",
   "execution_count": 21,
   "metadata": {},
   "outputs": [],
   "source": [
    "# flow_post_orig_test = FlowPosterior.make_stage(name='orig_test_posts', \n",
    "#                                              column='redshift',\n",
    "#                                              grid = np.linspace(0, 2.5, 101),\n",
    "#                                              model=flow_file,\n",
    "#                                              data = orig_test)\n",
    "\n",
    "# orig_test_pdfs = flow_post_orig_test.get_posterior(orig_test, column='redshift')"
   ]
  },
  {
   "cell_type": "markdown",
   "metadata": {},
   "source": [
    "Only run if you need output_deg_test_posts"
   ]
  },
  {
   "cell_type": "code",
   "execution_count": 22,
   "metadata": {},
   "outputs": [],
   "source": [
    "# flow_post_deg_test = FlowPosterior.make_stage(name='deg_test_posts', \n",
    "#                                              column='redshift',\n",
    "#                                              grid = np.linspace(0, 2.5, 101),\n",
    "#                                              model=flow_file,\n",
    "#                                              data = deg_test)\n",
    "\n",
    "# deg_test_pdfs = flow_post_deg_test.get_posterior(deg_test, column='redshift')"
   ]
  },
  {
   "cell_type": "markdown",
   "metadata": {
    "jp-MarkdownHeadingCollapsed": true,
    "tags": []
   },
   "source": [
    "# Make tables"
   ]
  },
  {
   "cell_type": "code",
   "execution_count": 23,
   "metadata": {},
   "outputs": [],
   "source": [
    "bands = ['u','g','r','i','z','y']\n",
    "band_dict_err = {f'mag_{band}_lsst_err':f'mag_err_{band}_lsst' for band in bands}\n",
    "\n",
    "def colRemapper(dict):\n",
    "    col_remap = ColumnMapper.make_stage(\n",
    "    name='col_remapper', \n",
    "    columns=dict,\n",
    "    )\n",
    "    return col_remap\n",
    "\n",
    "def tableConverter():\n",
    "    table_conv = TableConverter.make_stage(\n",
    "    name='table_conv', \n",
    "    output_format='numpyDict',\n",
    "    )\n",
    "    return table_conv"
   ]
  },
  {
   "cell_type": "code",
   "execution_count": 24,
   "metadata": {},
   "outputs": [],
   "source": [
    "col_remap = colRemapper(band_dict_err)\n",
    "table_conv = tableConverter()"
   ]
  },
  {
   "cell_type": "markdown",
   "metadata": {
    "tags": []
   },
   "source": [
    "# Inform & Estimate"
   ]
  },
  {
   "cell_type": "code",
   "execution_count": 25,
   "metadata": {
    "tags": []
   },
   "outputs": [],
   "source": [
    "def informTrainZ():\n",
    "    inf = TrainZInformer.make_stage(\n",
    "    name = 'inform_TrainZ',\n",
    "    model = 'trainz.pkl',\n",
    "    hdf5_groupname=\"\"\n",
    "    )\n",
    "    return inf\n",
    "\n",
    "def estimateTrainZ(info):\n",
    "    est = TrainZEstimator.make_stage(\n",
    "    name = 'estimate_TrainZ',\n",
    "    model = 'trainz.pkl', \n",
    "    hdf5_groupname=\"\"\n",
    "    )\n",
    "    return est"
   ]
  },
  {
   "cell_type": "code",
   "execution_count": 26,
   "metadata": {
    "tags": []
   },
   "outputs": [],
   "source": [
    "def informCMNN():\n",
    "    inf = Inform_CMNNPDF.make_stage(\n",
    "    name = 'inform_CMNN',\n",
    "    model = 'cmnn.pkl',\n",
    "    hdf5_groupname=\"\"\n",
    "    )\n",
    "    return inf\n",
    "\n",
    "def estimateCMNN(info):\n",
    "    est = CMNNPDF.make_stage(\n",
    "    name = 'estimate_CMNN',\n",
    "    model = 'cmnn.pkl', \n",
    "    hdf5_groupname=\"\"\n",
    "    )\n",
    "    return est"
   ]
  },
  {
   "cell_type": "code",
   "execution_count": 27,
   "metadata": {
    "tags": []
   },
   "outputs": [],
   "source": [
    "def informGPz():\n",
    "    inf = GPzInformer.make_stage(\n",
    "    name = 'inform_GPz',\n",
    "    model = 'gpz.pkl',\n",
    "    hdf5_groupname=\"\"\n",
    "    )\n",
    "    return inf\n",
    "\n",
    "def estimateGPz(info):\n",
    "    est = GPzEstimator.make_stage(\n",
    "    name = 'estimate_GPz',\n",
    "    model = 'gpz.pkl', \n",
    "    hdf5_groupname=\"\"\n",
    "    )\n",
    "    return est"
   ]
  },
  {
   "cell_type": "code",
   "execution_count": 28,
   "metadata": {
    "tags": []
   },
   "outputs": [],
   "source": [
    "def informPZFlow():\n",
    "    inf = PZFlowInformer.make_stage(\n",
    "    name = 'inform_PZFlow',\n",
    "    model = 'pzflow.pkl',\n",
    "    hdf5_groupname=\"\"\n",
    "    )\n",
    "    return inf\n",
    "\n",
    "def estimatePZFlow(info):\n",
    "    est = PZFlowEstimator.make_stage(\n",
    "    name = 'estimate_PZFlow',\n",
    "    model = 'pzflow.pkl', \n",
    "    hdf5_groupname=\"\"\n",
    "    )\n",
    "    return est"
   ]
  },
  {
   "cell_type": "code",
   "execution_count": 29,
   "metadata": {},
   "outputs": [],
   "source": [
    "def informFZBoost():\n",
    "    info = FlexZBoostInformer.make_stage(\n",
    "    name ='inform_FZBoost', \n",
    "    model ='fzboost.pkl', \n",
    "    hdf5_groupname='',\n",
    "    )\n",
    "    return info\n",
    "\n",
    "def estimateFZBoost(info):\n",
    "    est = FlexZBoostEstimator.make_stage(\n",
    "    name='est_FZBoost', \n",
    "    nondetect_val=np.nan,\n",
    "    model= info,\n",
    "    hdf5_groupname='',\n",
    "    aliases=dict(input='test_data', output='fzboost_estim'),\n",
    "    nzbins = 100 \n",
    "    )\n",
    "    return est "
   ]
  },
  {
   "cell_type": "code",
   "execution_count": 30,
   "metadata": {
    "tags": []
   },
   "outputs": [],
   "source": [
    "inf_est_dict = {'TrainZ': [informTrainZ, estimateTrainZ],\n",
    "               'CMNN': [informCMNN, estimateCMNN], \n",
    "               'GPz': [informGPz, estimateGPz], \n",
    "               'PZFlow': [informPZFlow, estimatePZFlow], \n",
    "               'FZBoost': [informFZBoost, estimateFZBoost]}"
   ]
  },
  {
   "cell_type": "markdown",
   "metadata": {},
   "source": [
    "# Big F"
   ]
  },
  {
   "cell_type": "code",
   "execution_count": 35,
   "metadata": {},
   "outputs": [],
   "source": [
    "def bigF(degrader, degname, informer, estimator, estname, ntrain, ntest, seed1, seed2, seed3):\n",
    "    \n",
    "    ##things you need\n",
    "    #grid = makeGrid(0, 2.5, nbins) \n",
    "    bands = ['u','g','r','i','z','y']\n",
    "    band_dict = {band: f\"mag_{band}_lsst\" for band in bands}\n",
    "    band_dict_err = {f'mag_{band}_lsst_err':f'mag_err_{band}_lsst' for band in bands}\n",
    "\n",
    "    # modelData = makeModel()\n",
    "    \n",
    "    trainData = trainSet(ntrain, seed1)\n",
    "    \n",
    "    ## have to comment out the (ntrain) when running with inverse redshift incompleteness\n",
    "    deg = degrader #(ntrain) \n",
    "    \n",
    "    testData = testSet(ntest, seed2)\n",
    "    lsstErr = lsstError(band_dict, seed3)\n",
    "    \n",
    "    inf = informer()\n",
    "    est = estimator(inf)\n",
    "\n",
    "\n",
    "    ##pipeline and yml\n",
    "    pipe = ceci.Pipeline.interactive()\n",
    "    stages = [\n",
    "        trainData, \n",
    "        #deg, \n",
    "        testData, \n",
    "        lsstErr,  \n",
    "        inf, \n",
    "        est ] \n",
    "\n",
    "    for stage in stages:\n",
    "        pipe.add_stage(stage)\n",
    "    \n",
    "    ## have to comment out deg.connect_input to run control case \n",
    "    \n",
    "    # deg.connect_input(trainData)\n",
    "    lsstErr.connect_input(testData)\n",
    "\n",
    "    inf.connect_input(trainData)#(deg) \n",
    "    est.connect_input(inf, inputTag = 'model')\n",
    "    est.connect_input(lsstErr, inputTag = 'input') ## trucated out of docs :(\n",
    "\n",
    "    pipe.initialize(\n",
    "    dict(model=flow_file), dict(output_dir=\".\", log_dir=\".\", resume=False), None) \n",
    "\n",
    "    directory = str(degname) + \"_\" + str(estname)\n",
    "    parent_dir = \"/Users/alicec03/Desktop/Summer_Research/Photo-z-Stress-Test/Photo-z-Stress-Test/\"#\"/global/u2/a/acraffor/Photo-z-Stress-Test/Pipeline_Outputs\"\n",
    "    path = os.path.join(parent_dir, directory)\n",
    "    os.makedirs(path)\n",
    "    \n",
    "    outpath = os.path.join(path, \"% s.yml\" % str(degname + \"_\" + estname))\n",
    "    pipe.save(outpath)\n",
    "    return outpath "
   ]
  },
  {
   "cell_type": "code",
   "execution_count": 36,
   "metadata": {
    "tags": []
   },
   "outputs": [
    {
     "name": "stdout",
     "output_type": "stream",
     "text": [
      "bestest_cat_ever\n"
     ]
    }
   ],
   "source": [
    "# can alice do strings? \n",
    "\n",
    "word = \"bestest\"\n",
    "word2 = \"cat\"\n",
    "\n",
    "\n",
    "print(\"%s_ever\" % str(word +\"_\"+ word2))"
   ]
  },
  {
   "cell_type": "code",
   "execution_count": 37,
   "metadata": {
    "tags": []
   },
   "outputs": [],
   "source": [
    "# 'invz': invRedshift,\n",
    "\n",
    "spec_dict = {'BOSS': specSelectBOSS, \n",
    "             'DEEP2': specSelectDEEP2, \n",
    "             'GAMA': specSelectGAMA,\n",
    "             'HSC': specSelectHSC, \n",
    "             'VVDSf02': specSelectVVDSf02, \n",
    "             'zCOSMOS': specSelectzCOSMOS } \n",
    "\n",
    "inf_est_dict = {'TrainZ': [informTrainZ, estimateTrainZ],\n",
    "               'CMNN': [informCMNN, estimateCMNN], \n",
    "               'GPz': [informGPz, estimateGPz], \n",
    "               'PZFlow': [informPZFlow, estimatePZFlow], \n",
    "               'FZBoost': [informFZBoost, estimateFZBoost] }"
   ]
  },
  {
   "cell_type": "code",
   "execution_count": 38,
   "metadata": {
    "tags": []
   },
   "outputs": [
    {
     "name": "stdout",
     "output_type": "stream",
     "text": [
      "Inserting handle into data store.  model_inform_CMNN: inprogress_cmnn.pkl, inform_CMNN\n"
     ]
    },
    {
     "ename": "NameError",
     "evalue": "name 'GPzInformer' is not defined",
     "output_type": "error",
     "traceback": [
      "\u001b[0;31m---------------------------------------------------------------------------\u001b[0m",
      "\u001b[0;31mNameError\u001b[0m                                 Traceback (most recent call last)",
      "\u001b[1;32m/Users/alicec03/Desktop/Summer_Research/Photo-z-Stress-Test/Photo-z-Stress-Test/Test_Pipeline.ipynb Cell 51\u001b[0m line \u001b[0;36m7\n\u001b[1;32m      <a href='vscode-notebook-cell:/Users/alicec03/Desktop/Summer_Research/Photo-z-Stress-Test/Photo-z-Stress-Test/Test_Pipeline.ipynb#Y205sZmlsZQ%3D%3D?line=4'>5</a>\u001b[0m \u001b[39mfor\u001b[39;00m key1 \u001b[39min\u001b[39;00m spec_dict:\n\u001b[1;32m      <a href='vscode-notebook-cell:/Users/alicec03/Desktop/Summer_Research/Photo-z-Stress-Test/Photo-z-Stress-Test/Test_Pipeline.ipynb#Y205sZmlsZQ%3D%3D?line=5'>6</a>\u001b[0m     \u001b[39mfor\u001b[39;00m key2 \u001b[39min\u001b[39;00m inf_est_dict:\n\u001b[0;32m----> <a href='vscode-notebook-cell:/Users/alicec03/Desktop/Summer_Research/Photo-z-Stress-Test/Photo-z-Stress-Test/Test_Pipeline.ipynb#Y205sZmlsZQ%3D%3D?line=6'>7</a>\u001b[0m         path_ls\u001b[39m.\u001b[39mappend(bigF(spec_dict[key1], key1, inf_est_dict[key2][\u001b[39m0\u001b[39;49m], inf_est_dict[key2][\u001b[39m1\u001b[39;49m], key2, \u001b[39m100000\u001b[39;49m, \u001b[39m100000\u001b[39;49m, \u001b[39m17\u001b[39;49m, \u001b[39m39\u001b[39;49m, \u001b[39m172\u001b[39;49m))\n",
      "\u001b[1;32m/Users/alicec03/Desktop/Summer_Research/Photo-z-Stress-Test/Photo-z-Stress-Test/Test_Pipeline.ipynb Cell 51\u001b[0m line \u001b[0;36m1\n\u001b[1;32m     <a href='vscode-notebook-cell:/Users/alicec03/Desktop/Summer_Research/Photo-z-Stress-Test/Photo-z-Stress-Test/Test_Pipeline.ipynb#Y205sZmlsZQ%3D%3D?line=15'>16</a>\u001b[0m testData \u001b[39m=\u001b[39m testSet(ntest, seed2)\n\u001b[1;32m     <a href='vscode-notebook-cell:/Users/alicec03/Desktop/Summer_Research/Photo-z-Stress-Test/Photo-z-Stress-Test/Test_Pipeline.ipynb#Y205sZmlsZQ%3D%3D?line=16'>17</a>\u001b[0m lsstErr \u001b[39m=\u001b[39m lsstError(band_dict, seed3)\n\u001b[0;32m---> <a href='vscode-notebook-cell:/Users/alicec03/Desktop/Summer_Research/Photo-z-Stress-Test/Photo-z-Stress-Test/Test_Pipeline.ipynb#Y205sZmlsZQ%3D%3D?line=18'>19</a>\u001b[0m inf \u001b[39m=\u001b[39m informer()\n\u001b[1;32m     <a href='vscode-notebook-cell:/Users/alicec03/Desktop/Summer_Research/Photo-z-Stress-Test/Photo-z-Stress-Test/Test_Pipeline.ipynb#Y205sZmlsZQ%3D%3D?line=19'>20</a>\u001b[0m est \u001b[39m=\u001b[39m estimator(inf)\n\u001b[1;32m     <a href='vscode-notebook-cell:/Users/alicec03/Desktop/Summer_Research/Photo-z-Stress-Test/Photo-z-Stress-Test/Test_Pipeline.ipynb#Y205sZmlsZQ%3D%3D?line=22'>23</a>\u001b[0m \u001b[39m##pipeline and yml\u001b[39;00m\n",
      "\u001b[1;32m/Users/alicec03/Desktop/Summer_Research/Photo-z-Stress-Test/Photo-z-Stress-Test/Test_Pipeline.ipynb Cell 51\u001b[0m line \u001b[0;36m2\n\u001b[1;32m      <a href='vscode-notebook-cell:/Users/alicec03/Desktop/Summer_Research/Photo-z-Stress-Test/Photo-z-Stress-Test/Test_Pipeline.ipynb#Y205sZmlsZQ%3D%3D?line=0'>1</a>\u001b[0m \u001b[39mdef\u001b[39;00m \u001b[39minformGPz\u001b[39m():\n\u001b[0;32m----> <a href='vscode-notebook-cell:/Users/alicec03/Desktop/Summer_Research/Photo-z-Stress-Test/Photo-z-Stress-Test/Test_Pipeline.ipynb#Y205sZmlsZQ%3D%3D?line=1'>2</a>\u001b[0m     inf \u001b[39m=\u001b[39m GPzInformer\u001b[39m.\u001b[39mmake_stage(\n\u001b[1;32m      <a href='vscode-notebook-cell:/Users/alicec03/Desktop/Summer_Research/Photo-z-Stress-Test/Photo-z-Stress-Test/Test_Pipeline.ipynb#Y205sZmlsZQ%3D%3D?line=2'>3</a>\u001b[0m     name \u001b[39m=\u001b[39m \u001b[39m'\u001b[39m\u001b[39minform_GPz\u001b[39m\u001b[39m'\u001b[39m,\n\u001b[1;32m      <a href='vscode-notebook-cell:/Users/alicec03/Desktop/Summer_Research/Photo-z-Stress-Test/Photo-z-Stress-Test/Test_Pipeline.ipynb#Y205sZmlsZQ%3D%3D?line=3'>4</a>\u001b[0m     model \u001b[39m=\u001b[39m \u001b[39m'\u001b[39m\u001b[39mgpz.pkl\u001b[39m\u001b[39m'\u001b[39m,\n\u001b[1;32m      <a href='vscode-notebook-cell:/Users/alicec03/Desktop/Summer_Research/Photo-z-Stress-Test/Photo-z-Stress-Test/Test_Pipeline.ipynb#Y205sZmlsZQ%3D%3D?line=4'>5</a>\u001b[0m     hdf5_groupname\u001b[39m=\u001b[39m\u001b[39m\"\u001b[39m\u001b[39m\"\u001b[39m\n\u001b[1;32m      <a href='vscode-notebook-cell:/Users/alicec03/Desktop/Summer_Research/Photo-z-Stress-Test/Photo-z-Stress-Test/Test_Pipeline.ipynb#Y205sZmlsZQ%3D%3D?line=5'>6</a>\u001b[0m     )\n\u001b[1;32m      <a href='vscode-notebook-cell:/Users/alicec03/Desktop/Summer_Research/Photo-z-Stress-Test/Photo-z-Stress-Test/Test_Pipeline.ipynb#Y205sZmlsZQ%3D%3D?line=6'>7</a>\u001b[0m     \u001b[39mreturn\u001b[39;00m inf\n",
      "\u001b[0;31mNameError\u001b[0m: name 'GPzInformer' is not defined"
     ]
    }
   ],
   "source": [
    "##run \n",
    "\n",
    "path_ls = []\n",
    "\n",
    "for key1 in spec_dict:\n",
    "    for key2 in inf_est_dict:\n",
    "        path_ls.append(bigF(spec_dict[key1], key1, inf_est_dict[key2][0], inf_est_dict[key2][1], key2, 100000, 100000, 17, 39, 172))"
   ]
  },
  {
   "cell_type": "code",
   "execution_count": null,
   "metadata": {
    "tags": []
   },
   "outputs": [
    {
     "name": "stdout",
     "output_type": "stream",
     "text": [
      "Inserting handle into data store.  output_inv_redshift: inprogress_output_inv_redshift.pq, inv_redshift\n",
      "Failed to save {'train_set': {'output_mode': 'default', 'n_samples': 100000, 'seed': 17, 'name': 'train_set', 'model': '/global/u2/a/acraffor/Photo-z-Stress-Test/data/trained_flow.pkl', 'config': None, 'aliases': {'output': 'output_train_set'}}, 'inv_redshift': {'output_mode': 'default', 'seed': 12345, 'pivot_redshift': 1.0, 'name': 'inv_redshift', 'config': None, 'input': 'None', 'aliases': {'output': 'output_inv_redshift', 'input': 'output_train_set'}}, 'test_set': {'output_mode': 'default', 'n_samples': 100000, 'seed': 39, 'name': 'test_set', 'model': '/global/u2/a/acraffor/Photo-z-Stress-Test/data/trained_flow.pkl', 'config': None, 'aliases': {'output': 'output_test_set'}}, 'lsst_error': {'output_mode': 'default', 'seed': 172, 'nYrObs': 10.0, 'nVisYr': {'u': 5.6, 'g': 8.0, 'r': 18.4, 'i': 18.4, 'z': 16.0, 'y': 16.0}, 'gamma': {'u': 0.038, 'g': 0.039, 'r': 0.039, 'i': 0.039, 'z': 0.039, 'y': 0.039}, 'm5': {}, 'tvis': 30.0, 'airmass': 1.2, 'Cm': {'u': 23.09, 'g': 24.42, 'r': 24.44, 'i': 24.32, 'z': 24.16, 'y': 23.73}, 'msky': {'u': 22.99, 'g': 22.26, 'r': 21.2, 'i': 20.48, 'z': 19.6, 'y': 18.61}, 'theta': {'u': 0.81, 'g': 0.77, 'r': 0.73, 'i': 0.71, 'z': 0.69, 'y': 0.68}, 'km': {'u': 0.491, 'g': 0.213, 'r': 0.126, 'i': 0.096, 'z': 0.069, 'y': 0.17}, 'sigmaSys': 0.005, 'sigLim': 0, 'ndMode': 'flag', 'ndFlag': nan, 'absFlux': False, 'extendedType': 'point', 'aMin': 0.7, 'aMax': 2.0, 'majorCol': 'major', 'minorCol': 'minor', 'decorrelate': True, 'highSNR': False, 'scale': {}, 'errLoc': 'after', 'renameDict': {'u': 'mag_u_lsst', 'g': 'mag_g_lsst', 'r': 'mag_r_lsst', 'i': 'mag_i_lsst', 'z': 'mag_z_lsst', 'y': 'mag_y_lsst'}, 'validate': True, 'name': 'lsst_error', 'config': None, 'input': 'None', 'aliases': {'output': 'output_lsst_error', 'input': 'output_test_set'}}, 'inform_FZBoost': {'output_mode': 'default', 'hdf5_groupname': '', 'save_train': True, 'zmin': 0.0, 'zmax': 3.0, 'nzbins': 301, 'nondetect_val': 99.0, 'mag_limits': {'mag_u_lsst': 27.79, 'mag_g_lsst': 29.04, 'mag_r_lsst': 29.06, 'mag_i_lsst': 28.62, 'mag_z_lsst': 27.98, 'mag_y_lsst': 27.05}, 'bands': ['mag_u_lsst', 'mag_g_lsst', 'mag_r_lsst', 'mag_i_lsst', 'mag_z_lsst', 'mag_y_lsst'], 'err_bands': ['mag_err_u_lsst', 'mag_err_g_lsst', 'mag_err_r_lsst', 'mag_err_i_lsst', 'mag_err_z_lsst', 'mag_err_y_lsst'], 'ref_band': 'mag_i_lsst', 'redshift_col': 'redshift', 'retrain_full': True, 'trainfrac': 0.75, 'seed': 1138, 'bumpmin': 0.02, 'bumpmax': 0.35, 'nbump': 20, 'sharpmin': 0.7, 'sharpmax': 2.1, 'nsharp': 15, 'max_basis': 35, 'basis_system': 'cosine', 'regression_params': {'max_depth': 8, 'objective': 'reg:squarederror'}, 'name': 'inform_FZBoost', 'model': 'fzboost.pkl', 'config': None, 'input': 'None', 'aliases': {'model': 'model_inform_FZBoost', 'input': 'output_inv_redshift'}}, 'est_FZBoost': {'output_mode': 'default', 'chunk_size': 10000, 'hdf5_groupname': '', 'calculated_point_estimates': [], 'nzbins': 100, 'nondetect_val': nan, 'mag_limits': {'mag_u_lsst': 27.79, 'mag_g_lsst': 29.04, 'mag_r_lsst': 29.06, 'mag_i_lsst': 28.62, 'mag_z_lsst': 27.98, 'mag_y_lsst': 27.05}, 'bands': ['mag_u_lsst', 'mag_g_lsst', 'mag_r_lsst', 'mag_i_lsst', 'mag_z_lsst', 'mag_y_lsst'], 'err_bands': ['mag_err_u_lsst', 'mag_err_g_lsst', 'mag_err_r_lsst', 'mag_err_i_lsst', 'mag_err_z_lsst', 'mag_err_y_lsst'], 'ref_band': 'mag_i_lsst', 'qp_representation': 'interp', 'name': 'est_FZBoost', 'model': <rail.estimation.algos.flexzboost.FlexZBoostInformer object at 0x7f2f00121870>, 'config': None, 'input': 'None', 'aliases': {'input': 'output_lsst_error', 'output': 'output_est_FZBoost', 'model': 'model_inform_FZBoost'}}} because '__getstate__'\n",
      "Failed to save {'train_set': {'output_mode': 'default', 'n_samples': 100000, 'seed': 17, 'name': 'train_set', 'model': '/global/u2/a/acraffor/Photo-z-Stress-Test/data/trained_flow.pkl', 'config': None, 'aliases': {'output': 'output_train_set'}}, 'inv_redshift': {'output_mode': 'default', 'seed': 12345, 'pivot_redshift': 1.4, 'name': 'inv_redshift', 'config': None, 'input': 'None', 'aliases': {'output': 'output_inv_redshift', 'input': 'output_train_set'}}, 'test_set': {'output_mode': 'default', 'n_samples': 100000, 'seed': 39, 'name': 'test_set', 'model': '/global/u2/a/acraffor/Photo-z-Stress-Test/data/trained_flow.pkl', 'config': None, 'aliases': {'output': 'output_test_set'}}, 'lsst_error': {'output_mode': 'default', 'seed': 172, 'nYrObs': 10.0, 'nVisYr': {'u': 5.6, 'g': 8.0, 'r': 18.4, 'i': 18.4, 'z': 16.0, 'y': 16.0}, 'gamma': {'u': 0.038, 'g': 0.039, 'r': 0.039, 'i': 0.039, 'z': 0.039, 'y': 0.039}, 'm5': {}, 'tvis': 30.0, 'airmass': 1.2, 'Cm': {'u': 23.09, 'g': 24.42, 'r': 24.44, 'i': 24.32, 'z': 24.16, 'y': 23.73}, 'msky': {'u': 22.99, 'g': 22.26, 'r': 21.2, 'i': 20.48, 'z': 19.6, 'y': 18.61}, 'theta': {'u': 0.81, 'g': 0.77, 'r': 0.73, 'i': 0.71, 'z': 0.69, 'y': 0.68}, 'km': {'u': 0.491, 'g': 0.213, 'r': 0.126, 'i': 0.096, 'z': 0.069, 'y': 0.17}, 'sigmaSys': 0.005, 'sigLim': 0, 'ndMode': 'flag', 'ndFlag': nan, 'absFlux': False, 'extendedType': 'point', 'aMin': 0.7, 'aMax': 2.0, 'majorCol': 'major', 'minorCol': 'minor', 'decorrelate': True, 'highSNR': False, 'scale': {}, 'errLoc': 'after', 'renameDict': {'u': 'mag_u_lsst', 'g': 'mag_g_lsst', 'r': 'mag_r_lsst', 'i': 'mag_i_lsst', 'z': 'mag_z_lsst', 'y': 'mag_y_lsst'}, 'validate': True, 'name': 'lsst_error', 'config': None, 'input': 'None', 'aliases': {'output': 'output_lsst_error', 'input': 'output_test_set'}}, 'inform_FZBoost': {'output_mode': 'default', 'hdf5_groupname': '', 'save_train': True, 'zmin': 0.0, 'zmax': 3.0, 'nzbins': 301, 'nondetect_val': 99.0, 'mag_limits': {'mag_u_lsst': 27.79, 'mag_g_lsst': 29.04, 'mag_r_lsst': 29.06, 'mag_i_lsst': 28.62, 'mag_z_lsst': 27.98, 'mag_y_lsst': 27.05}, 'bands': ['mag_u_lsst', 'mag_g_lsst', 'mag_r_lsst', 'mag_i_lsst', 'mag_z_lsst', 'mag_y_lsst'], 'err_bands': ['mag_err_u_lsst', 'mag_err_g_lsst', 'mag_err_r_lsst', 'mag_err_i_lsst', 'mag_err_z_lsst', 'mag_err_y_lsst'], 'ref_band': 'mag_i_lsst', 'redshift_col': 'redshift', 'retrain_full': True, 'trainfrac': 0.75, 'seed': 1138, 'bumpmin': 0.02, 'bumpmax': 0.35, 'nbump': 20, 'sharpmin': 0.7, 'sharpmax': 2.1, 'nsharp': 15, 'max_basis': 35, 'basis_system': 'cosine', 'regression_params': {'max_depth': 8, 'objective': 'reg:squarederror'}, 'name': 'inform_FZBoost', 'model': 'fzboost.pkl', 'config': None, 'input': 'None', 'aliases': {'model': 'model_inform_FZBoost', 'input': 'output_inv_redshift'}}, 'est_FZBoost': {'output_mode': 'default', 'chunk_size': 10000, 'hdf5_groupname': '', 'calculated_point_estimates': [], 'nzbins': 100, 'nondetect_val': nan, 'mag_limits': {'mag_u_lsst': 27.79, 'mag_g_lsst': 29.04, 'mag_r_lsst': 29.06, 'mag_i_lsst': 28.62, 'mag_z_lsst': 27.98, 'mag_y_lsst': 27.05}, 'bands': ['mag_u_lsst', 'mag_g_lsst', 'mag_r_lsst', 'mag_i_lsst', 'mag_z_lsst', 'mag_y_lsst'], 'err_bands': ['mag_err_u_lsst', 'mag_err_g_lsst', 'mag_err_r_lsst', 'mag_err_i_lsst', 'mag_err_z_lsst', 'mag_err_y_lsst'], 'ref_band': 'mag_i_lsst', 'qp_representation': 'interp', 'name': 'est_FZBoost', 'model': <rail.estimation.algos.flexzboost.FlexZBoostInformer object at 0x7f2f00122b90>, 'config': None, 'input': 'None', 'aliases': {'input': 'output_lsst_error', 'output': 'output_est_FZBoost', 'model': 'model_inform_FZBoost'}}} because '__getstate__'\n"
     ]
    }
   ],
   "source": [
    "for key2 in inf_est_dict:\n",
    "    path_ls.append(bigF(invRedshift(1.0), \"invz=1.0\", inf_est_dict[key2][0], inf_est_dict[key2][1], key2, 100000, 100000, 17, 39, 172))\n",
    "    path_ls.append(bigF(invRedshift(1.4), \"invz=1.4\", inf_est_dict[key2][0], inf_est_dict[key2][1], key2, 100000, 100000, 17, 39, 172))"
   ]
  },
  {
   "cell_type": "code",
   "execution_count": null,
   "metadata": {
    "tags": []
   },
   "outputs": [
    {
     "name": "stdout",
     "output_type": "stream",
     "text": [
      "Inserting handle into data store.  output_test_set: inprogress_output_test_set.pq, test_set\n",
      "Inserting handle into data store.  output_train_set: inprogress_output_train_set.pq, train_set\n",
      "Inserting handle into data store.  model_inform_TrainZ: inprogress_trainz.pkl, inform_TrainZ\n",
      "Inserting handle into data store.  output_lsst_error: inprogress_output_lsst_error.pq, lsst_error\n",
      "Inserting handle into data store.  model_inform_CMNN: inprogress_cmnn.pkl, inform_CMNN\n",
      "Inserting handle into data store.  model_inform_GPz: inprogress_gpz.pkl, inform_GPz\n",
      "Inserting handle into data store.  model_inform_PZFlow: inprogress_pzflow.pkl, inform_PZFlow\n",
      "Inserting handle into data store.  model_inform_FZBoost: inprogress_fzboost.pkl, inform_FZBoost\n",
      "Failed to save {'train_set': {'output_mode': 'default', 'n_samples': 100000, 'seed': 17, 'name': 'train_set', 'model': '/global/u2/a/acraffor/Photo-z-Stress-Test/data/trained_flow.pkl', 'config': None, 'aliases': {'output': 'output_train_set'}}, 'test_set': {'output_mode': 'default', 'n_samples': 100000, 'seed': 39, 'name': 'test_set', 'model': '/global/u2/a/acraffor/Photo-z-Stress-Test/data/trained_flow.pkl', 'config': None, 'aliases': {'output': 'output_test_set'}}, 'lsst_error': {'output_mode': 'default', 'seed': 172, 'nYrObs': 10.0, 'nVisYr': {'u': 5.6, 'g': 8.0, 'r': 18.4, 'i': 18.4, 'z': 16.0, 'y': 16.0}, 'gamma': {'u': 0.038, 'g': 0.039, 'r': 0.039, 'i': 0.039, 'z': 0.039, 'y': 0.039}, 'm5': {}, 'tvis': 30.0, 'airmass': 1.2, 'Cm': {'u': 23.09, 'g': 24.42, 'r': 24.44, 'i': 24.32, 'z': 24.16, 'y': 23.73}, 'msky': {'u': 22.99, 'g': 22.26, 'r': 21.2, 'i': 20.48, 'z': 19.6, 'y': 18.61}, 'theta': {'u': 0.81, 'g': 0.77, 'r': 0.73, 'i': 0.71, 'z': 0.69, 'y': 0.68}, 'km': {'u': 0.491, 'g': 0.213, 'r': 0.126, 'i': 0.096, 'z': 0.069, 'y': 0.17}, 'sigmaSys': 0.005, 'sigLim': 0, 'ndMode': 'flag', 'ndFlag': nan, 'absFlux': False, 'extendedType': 'point', 'aMin': 0.7, 'aMax': 2.0, 'majorCol': 'major', 'minorCol': 'minor', 'decorrelate': True, 'highSNR': False, 'scale': {}, 'errLoc': 'after', 'renameDict': {'u': 'mag_u_lsst', 'g': 'mag_g_lsst', 'r': 'mag_r_lsst', 'i': 'mag_i_lsst', 'z': 'mag_z_lsst', 'y': 'mag_y_lsst'}, 'validate': True, 'name': 'lsst_error', 'config': None, 'input': 'None', 'aliases': {'output': 'output_lsst_error', 'input': 'output_test_set'}}, 'inform_FZBoost': {'output_mode': 'default', 'hdf5_groupname': '', 'save_train': True, 'zmin': 0.0, 'zmax': 3.0, 'nzbins': 301, 'nondetect_val': 99.0, 'mag_limits': {'mag_u_lsst': 27.79, 'mag_g_lsst': 29.04, 'mag_r_lsst': 29.06, 'mag_i_lsst': 28.62, 'mag_z_lsst': 27.98, 'mag_y_lsst': 27.05}, 'bands': ['mag_u_lsst', 'mag_g_lsst', 'mag_r_lsst', 'mag_i_lsst', 'mag_z_lsst', 'mag_y_lsst'], 'err_bands': ['mag_err_u_lsst', 'mag_err_g_lsst', 'mag_err_r_lsst', 'mag_err_i_lsst', 'mag_err_z_lsst', 'mag_err_y_lsst'], 'ref_band': 'mag_i_lsst', 'redshift_col': 'redshift', 'retrain_full': True, 'trainfrac': 0.75, 'seed': 1138, 'bumpmin': 0.02, 'bumpmax': 0.35, 'nbump': 20, 'sharpmin': 0.7, 'sharpmax': 2.1, 'nsharp': 15, 'max_basis': 35, 'basis_system': 'cosine', 'regression_params': {'max_depth': 8, 'objective': 'reg:squarederror'}, 'name': 'inform_FZBoost', 'model': 'fzboost.pkl', 'config': None, 'input': 'None', 'aliases': {'model': 'model_inform_FZBoost', 'input': 'output_train_set'}}, 'est_FZBoost': {'output_mode': 'default', 'chunk_size': 10000, 'hdf5_groupname': '', 'calculated_point_estimates': [], 'nzbins': 100, 'nondetect_val': nan, 'mag_limits': {'mag_u_lsst': 27.79, 'mag_g_lsst': 29.04, 'mag_r_lsst': 29.06, 'mag_i_lsst': 28.62, 'mag_z_lsst': 27.98, 'mag_y_lsst': 27.05}, 'bands': ['mag_u_lsst', 'mag_g_lsst', 'mag_r_lsst', 'mag_i_lsst', 'mag_z_lsst', 'mag_y_lsst'], 'err_bands': ['mag_err_u_lsst', 'mag_err_g_lsst', 'mag_err_r_lsst', 'mag_err_i_lsst', 'mag_err_z_lsst', 'mag_err_y_lsst'], 'ref_band': 'mag_i_lsst', 'qp_representation': 'interp', 'name': 'est_FZBoost', 'model': <rail.estimation.algos.flexzboost.FlexZBoostInformer object at 0x7f16acb52830>, 'config': None, 'input': 'None', 'aliases': {'input': 'output_lsst_error', 'output': 'output_est_FZBoost', 'model': 'model_inform_FZBoost'}}} because '__getstate__'\n"
     ]
    }
   ],
   "source": [
    "\n",
    "for key2 in inf_est_dict:\n",
    "    path_ls.append(bigF(None, \"undegraded\", inf_est_dict[key2][0], inf_est_dict[key2][1], key2, 100000, 100000, 17, 39, 172))\n",
    "    "
   ]
  },
  {
   "cell_type": "markdown",
   "metadata": {
    "tags": []
   },
   "source": [
    "# Big F 1.0"
   ]
  },
  {
   "cell_type": "code",
   "execution_count": null,
   "metadata": {},
   "outputs": [],
   "source": [
    "def bigF1(pivotz, ntrain, ntest, seed1, seed2, seed3, nbins):\n",
    "    \n",
    "    ##things you need\n",
    "    #grid = makeGrid(0, 2.5, nbins) \n",
    "    bands = ['u','g','r','i','z','y']\n",
    "    band_dict = {band: f\"mag_{band}_lsst\" for band in bands}\n",
    "    band_dict_err = {f'mag_{band}_lsst_err':f'mag_err_{band}_lsst' for band in bands}\n",
    "\n",
    "    # modelData = makeModel()\n",
    "    \n",
    "    ##stages \n",
    "    trainData = trainSet(ntrain, seed1)\n",
    "    invRed = invRedshift(float(pivotz))\n",
    "\n",
    "    # origTrainPosts = getPosts(output_train_set.pq (???), modelData, grid)\n",
    "    # degTrainPosts = getPosts(###)\n",
    "\n",
    "    testData = testSet(ntest, seed2)\n",
    "    lsstErr = lsstError(band_dict, seed3)\n",
    "\n",
    "    # origTestPosts = getPosts(###)\n",
    "    # degTestPosts = getPosts(###)\n",
    "\n",
    "    # informFZB = informFZBoost()\n",
    "    # estFZB = estimateFZBoost(informFZB, nbins)\n",
    "\n",
    "    infPZFlow = informPZFlow()\n",
    "    estPZFlow = estimatePZFlow(infPZFlow)\n",
    "\n",
    "    \n",
    "    ##pipeline and yml\n",
    "    pipe = ceci.Pipeline.interactive()\n",
    "    stages = [\n",
    "        trainData, \n",
    "        invRed, \n",
    "        testData, \n",
    "        lsstErr,  \n",
    "        infPZFlow, \n",
    "        estPZFlow]\n",
    "        #informFZB, \n",
    "        #estFZB]\n",
    "    \n",
    "    for stage in stages:\n",
    "        pipe.add_stage(stage)\n",
    "        \n",
    "\n",
    "    invRed.connect_input(trainData)\n",
    "    lsstErr.connect_input(testData)\n",
    "\n",
    "    infPZFlow.connect_input(invRed) \n",
    "    estPZFlow.connect_input(infPZFlow, inputTag = 'model')\n",
    "    estPZFlow.connect_input(lsstErr, inputTag = 'input') ## trucated out of docs :(\n",
    "\n",
    "    # informFZB.connect_input(invRed)\n",
    "    # estFZB.connect_input(informFZB, lsstErr) \n",
    "    \n",
    "    pipe.initialize(\n",
    "    dict(model=flow_file), dict(output_dir=\".\", log_dir=\".\", resume=False), None) \n",
    "\n",
    "    outpath = os.path.join(path_1, \"invz='% s'_lsstErr_pzflow.yml\" % %.3f%(pivotz))\n",
    "    pipe.save(outpath)\n",
    "    return outpath \n",
    "   "
   ]
  },
  {
   "cell_type": "markdown",
   "metadata": {
    "tags": []
   },
   "source": [
    "## Run Big F 1.0"
   ]
  },
  {
   "cell_type": "code",
   "execution_count": null,
   "metadata": {},
   "outputs": [
    {
     "name": "stdout",
     "output_type": "stream",
     "text": [
      "Inserting handle into data store.  output_test_set: inprogress_output_test_set.pq, test_set\n",
      "Inserting handle into data store.  output_inv_redshift: inprogress_output_inv_redshift.pq, inv_redshift\n",
      "Inserting handle into data store.  model_inform_PZFlow: inprogress_pzflow.pkl, inform_PZFlow\n",
      "Inserting handle into data store.  output_lsst_error: inprogress_output_lsst_error.pq, lsst_error\n"
     ]
    }
   ],
   "source": [
    "path_lst_1 = []\n",
    "directory = \"invz_lsstErr_pzflow\"\n",
    "parent_dir = \"/global/u2/a/acraffor/Photo-z-Stress-Test/Pipeline_Outputs\"\n",
    "path_1 = os.path.join(parent_dir, directory)\n",
    "os.makedirs(path_1)\n",
    "\n",
    "for i in (pivots):\n",
    "    path_lst_1.append(bigF1(i, 100000, 100000, 17, 39, 172, 10))\n"
   ]
  },
  {
   "cell_type": "code",
   "execution_count": null,
   "metadata": {},
   "outputs": [
    {
     "name": "stdout",
     "output_type": "stream",
     "text": [
      "[\"/global/u2/a/acraffor/Photo-z-Stress-Test/Pipeline_Outputs/invz_lsstErr_pzflow/invz='0.33672517538070684'_lsstErr_pzflow.yml\", \"/global/u2/a/acraffor/Photo-z-Stress-Test/Pipeline_Outputs/invz_lsstErr_pzflow/invz='0.47006111145019536'_lsstErr_pzflow.yml\", \"/global/u2/a/acraffor/Photo-z-Stress-Test/Pipeline_Outputs/invz_lsstErr_pzflow/invz='0.6267686605453491'_lsstErr_pzflow.yml\", \"/global/u2/a/acraffor/Photo-z-Stress-Test/Pipeline_Outputs/invz_lsstErr_pzflow/invz='0.8275491118431091'_lsstErr_pzflow.yml\", \"/global/u2/a/acraffor/Photo-z-Stress-Test/Pipeline_Outputs/invz_lsstErr_pzflow/invz='1.0106754302978516'_lsstErr_pzflow.yml\", \"/global/u2/a/acraffor/Photo-z-Stress-Test/Pipeline_Outputs/invz_lsstErr_pzflow/invz='1.2042927742004392'_lsstErr_pzflow.yml\", \"/global/u2/a/acraffor/Photo-z-Stress-Test/Pipeline_Outputs/invz_lsstErr_pzflow/invz='1.4413679003715512'_lsstErr_pzflow.yml\", \"/global/u2/a/acraffor/Photo-z-Stress-Test/Pipeline_Outputs/invz_lsstErr_pzflow/invz='1.6783331394195558'_lsstErr_pzflow.yml\", \"/global/u2/a/acraffor/Photo-z-Stress-Test/Pipeline_Outputs/invz_lsstErr_pzflow/invz='1.9954649806022646'_lsstErr_pzflow.yml\"]\n"
     ]
    }
   ],
   "source": [
    "print(path_lst_1)"
   ]
  },
  {
   "cell_type": "code",
   "execution_count": null,
   "metadata": {},
   "outputs": [
    {
     "name": "stdout",
     "output_type": "stream",
     "text": [
      "\n",
      "Executing test_set\n",
      "Command is:\n",
      "OMP_NUM_THREADS=1   python3 -m ceci rail.creation.engines.flowEngine.FlowCreator   --model=/global/u2/a/acraffor/Photo-z-Stress-Test/data/trained_flow.pkl   --name=test_set   --config=/global/u2/a/acraffor/Photo-z-Stress-Test/Pipeline_Outputs/invz_lsstErr_pzflow/invz='0.337'_lsstErr_pzflow_config.yml   --output=./output_test_set.pq \n",
      "Output writing to ./test_set.out\n",
      "\n",
      "Job test_set has failed with status 1\n"
     ]
    },
    {
     "name": "stderr",
     "output_type": "stream",
     "text": [
      "\n",
      "*************************************************\n",
      "Error running pipeline stage test_set.\n",
      "\n",
      "Standard output and error streams in ./test_set.out\n",
      "*************************************************\n"
     ]
    },
    {
     "data": {
      "text/plain": [
       "1"
      ]
     },
     "execution_count": 87,
     "metadata": {},
     "output_type": "execute_result"
    }
   ],
   "source": [
    "import ceci \n",
    "\n",
    "pr = ceci.Pipeline.read(path_lst_1[0])#parent_dir+directory+\"/invz=0.33672517538070684_lsstErr_pzflow.yml\")\n",
    "pr.run()\n",
    "\n",
    "## 1) terminal: go to path up to invz_lsstErr_pzflow, then run these 2 lines \n",
    "## 2)  make list/txt file with list of paths to files made by big F\n",
    "\n",
    "## do 1) \n",
    "## open virtual env\n",
    "## python \n",
    "## import ceci \n",
    "## run the 2 lines of code above \n",
    "\n",
    "\n",
    "### at the end we can put this into a .py file that we can run at the command line \n",
    "\n",
    "## %cd ? "
   ]
  },
  {
   "cell_type": "code",
   "execution_count": null,
   "metadata": {
    "tags": []
   },
   "outputs": [],
   "source": [
    "## more config parameters/better config parameters\n",
    "## have to give path above to estimator model instead of get_handle('model')\n",
    "## fix truncated parameter printing in help(...)"
   ]
  },
  {
   "cell_type": "markdown",
   "metadata": {
    "jp-MarkdownHeadingCollapsed": true,
    "tags": []
   },
   "source": [
    "# Big F 2.0"
   ]
  },
  {
   "cell_type": "code",
   "execution_count": 39,
   "metadata": {
    "tags": []
   },
   "outputs": [],
   "source": [
    "def bigF2(degrader, name, ntrain, ntest, seed1, seed2, seed3, nbins):\n",
    "    \n",
    "    ##things you need\n",
    "    #grid = makeGrid(0, 2.5, nbins) \n",
    "    bands = ['u','g','r','i','z','y']\n",
    "    band_dict = {band: f\"mag_{band}_lsst\" for band in bands}\n",
    "    band_dict_err = {f'mag_{band}_lsst_err':f'mag_err_{band}_lsst' for band in bands}\n",
    "\n",
    "    # modelData = makeModel()\n",
    "    \n",
    "    trainData = trainSet(ntrain, seed1)\n",
    "    deg = degrader(ntrain) \n",
    "    \n",
    "    testData = testSet(ntest, seed2)\n",
    "    lsstErr = lsstError(band_dict, seed3)\n",
    "    infPZFlow = informPZFlow()\n",
    "    estPZFlow = estimatePZFlow(infPZFlow)\n",
    "\n",
    "    ##pipeline and yml\n",
    "    pipe = ceci.Pipeline.interactive()\n",
    "    stages = [\n",
    "        trainData, \n",
    "        deg, \n",
    "        testData, \n",
    "        lsstErr,  \n",
    "        infPZFlow, \n",
    "        estPZFlow]\n",
    "        #informFZB, \n",
    "        #estFZB]\n",
    "\n",
    "    for stage in stages:\n",
    "        pipe.add_stage(stage)\n",
    "\n",
    "    deg.connect_input(trainData)\n",
    "    lsstErr.connect_input(testData)\n",
    "\n",
    "    infPZFlow.connect_input(deg) \n",
    "    estPZFlow.connect_input(infPZFlow, inputTag = 'model')\n",
    "    estPZFlow.connect_input(lsstErr, inputTag = 'input') ## trucated out of docs :(\n",
    "\n",
    "    # informFZB.connect_input(invRed)\n",
    "    # estFZB.connect_input(informFZB, lsstErr) \n",
    "\n",
    "    pipe.initialize(\n",
    "    dict(model=flow_file), dict(output_dir=\".\", log_dir=\".\", resume=False), None) \n",
    "\n",
    "    outpath = os.path.join(path_2, \"% s_lsstErr_pzflow.yml\" % name)\n",
    "    pipe.save(outpath)\n",
    "    return outpath "
   ]
  },
  {
   "cell_type": "code",
   "execution_count": null,
   "metadata": {},
   "outputs": [],
   "source": [
    "# help(rail.creation.degradation.spectroscopic_selections)"
   ]
  },
  {
   "cell_type": "code",
   "execution_count": 50,
   "metadata": {
    "tags": []
   },
   "outputs": [],
   "source": [
    "##run \n",
    "\n",
    "path_lst_2 = []\n",
    "directory = \"specSelection_lsstErr_pzflow\"\n",
    "parent_dir = \"/Users/alicec03/Desktop/Summer_Research/Photo-z-Stress-Test/Photo-z-Stress-Test/\"\n",
    "path_2 = os.path.join(parent_dir, directory)\n",
    "os.makedirs(path_2, exist_ok=True)"
   ]
  },
  {
   "cell_type": "code",
   "execution_count": 51,
   "metadata": {},
   "outputs": [],
   "source": [
    "for key in spec_dict:\n",
    "    path_lst_2.append(bigF2(spec_dict[key], key, 1000, 100, 17, 39, 172, 10))"
   ]
  },
  {
   "cell_type": "code",
   "execution_count": 48,
   "metadata": {},
   "outputs": [
    {
     "name": "stdout",
     "output_type": "stream",
     "text": [
      "\n",
      "Executing test_set\n",
      "Command is:\n",
      "OMP_NUM_THREADS=1   python3 -m ceci rail.creation.engines.flowEngine.FlowCreator   --model=/Users/alicec03/Desktop/Summer_Research/Photo-z-Stress-Test/Photo-z-Stress-Test/data/trained_flow.pkl   --name=test_set   --config=/Users/alicec03/Desktop/Summer_Research/Photo-z-Stress-Test/Photo-z-Stress-Test/specSelection_lsstErr_pzflow/BOSS_lsstErr_pzflow_config.yml   --output=./output_test_set.pq \n",
      "Output writing to ./test_set.out\n",
      "\n",
      "Job test_set has completed successfully!\n",
      "\n",
      "Executing lsst_error\n",
      "Command is:\n",
      "OMP_NUM_THREADS=1   python3 -m ceci rail.creation.degradation.lsst_error_model.LSSTErrorModel   --input=./output_test_set.pq   --name=lsst_error   --config=/Users/alicec03/Desktop/Summer_Research/Photo-z-Stress-Test/Photo-z-Stress-Test/specSelection_lsstErr_pzflow/BOSS_lsstErr_pzflow_config.yml   --output=./output_lsst_error.pq \n",
      "Output writing to ./lsst_error.out\n",
      "\n",
      "Job lsst_error has completed successfully!\n",
      "\n",
      "Executing train_set\n",
      "Command is:\n",
      "OMP_NUM_THREADS=1   python3 -m ceci rail.creation.engines.flowEngine.FlowCreator   --model=/Users/alicec03/Desktop/Summer_Research/Photo-z-Stress-Test/Photo-z-Stress-Test/data/trained_flow.pkl   --name=train_set   --config=/Users/alicec03/Desktop/Summer_Research/Photo-z-Stress-Test/Photo-z-Stress-Test/specSelection_lsstErr_pzflow/BOSS_lsstErr_pzflow_config.yml   --output=./output_train_set.pq \n",
      "Output writing to ./train_set.out\n",
      "\n",
      "Job train_set has completed successfully!\n",
      "\n",
      "Executing specselection_boss\n",
      "Command is:\n",
      "OMP_NUM_THREADS=1   python3 -m ceci rail.creation.degradation.spectroscopic_selections.specselection_boss   --input=./output_train_set.pq   --config=/Users/alicec03/Desktop/Summer_Research/Photo-z-Stress-Test/Photo-z-Stress-Test/specSelection_lsstErr_pzflow/BOSS_lsstErr_pzflow_config.yml   --output=./output_specselection_boss.pq \n",
      "Output writing to ./specselection_boss.out\n",
      "\n",
      "Job specselection_boss has completed successfully!\n",
      "\n",
      "Executing inform_PZFlow\n",
      "Command is:\n",
      "OMP_NUM_THREADS=1   python3 -m ceci rail.estimation.algos.pzflow_nf.Inform_PZFlowPdf   --input=./output_specselection_boss.pq   --name=inform_PZFlow   --config=/Users/alicec03/Desktop/Summer_Research/Photo-z-Stress-Test/Photo-z-Stress-Test/specSelection_lsstErr_pzflow/BOSS_lsstErr_pzflow_config.yml   --model=./pzflow.pkl \n",
      "Output writing to ./inform_PZFlow.out\n",
      "\n",
      "Job inform_PZFlow has completed successfully!\n",
      "\n",
      "Executing estimate_PZFlow\n",
      "Command is:\n",
      "OMP_NUM_THREADS=1   python3 -m ceci rail.estimation.algos.pzflow_nf.PZFlowEstimator   --model=./pzflow.pkl   --input=./output_lsst_error.pq   --name=estimate_PZFlow   --config=/Users/alicec03/Desktop/Summer_Research/Photo-z-Stress-Test/Photo-z-Stress-Test/specSelection_lsstErr_pzflow/BOSS_lsstErr_pzflow_config.yml   --output=./output_estimate_PZFlow.hdf5 \n",
      "Output writing to ./estimate_PZFlow.out\n",
      "\n",
      "Job estimate_PZFlow has completed successfully!\n"
     ]
    },
    {
     "data": {
      "text/plain": [
       "0"
      ]
     },
     "execution_count": 48,
     "metadata": {},
     "output_type": "execute_result"
    }
   ],
   "source": [
    "pr = ceci.Pipeline.read(path_2+\"/BOSS_lsstErr_pzflow.yml\")\n",
    "pr.run()\n"
   ]
  },
  {
   "cell_type": "code",
   "execution_count": 49,
   "metadata": {},
   "outputs": [
    {
     "name": "stdout",
     "output_type": "stream",
     "text": [
      "Help on function makedirs in module os:\n",
      "\n",
      "makedirs(name, mode=511, exist_ok=False)\n",
      "    makedirs(name [, mode=0o777][, exist_ok=False])\n",
      "    \n",
      "    Super-mkdir; create a leaf directory and all intermediate ones.  Works like\n",
      "    mkdir, except that any intermediate path segment (not just the rightmost)\n",
      "    will be created if it does not exist. If the target directory already\n",
      "    exists, raise an OSError if exist_ok is False. Otherwise no exception is\n",
      "    raised.  This is recursive.\n",
      "\n"
     ]
    }
   ],
   "source": [
    "help(os.makedirs)\n"
   ]
  },
  {
   "cell_type": "code",
   "execution_count": null,
   "metadata": {},
   "outputs": [],
   "source": []
  }
 ],
 "metadata": {
  "kernelspec": {
   "display_name": "rail--new",
   "language": "python",
   "name": "python3"
  },
  "language_info": {
   "codemirror_mode": {
    "name": "ipython",
    "version": 3
   },
   "file_extension": ".py",
   "mimetype": "text/x-python",
   "name": "python",
   "nbconvert_exporter": "python",
   "pygments_lexer": "ipython3",
   "version": "3.11.5"
  }
 },
 "nbformat": 4,
 "nbformat_minor": 4
}
