{
 "cells": [
  {
   "cell_type": "markdown",
   "metadata": {},
   "source": [
    "# Imports "
   ]
  },
  {
   "cell_type": "code",
   "execution_count": 78,
   "metadata": {},
   "outputs": [],
   "source": [
    "## Essential Imports: \n",
    "import os\n",
    "import numpy as np\n",
    "import qp\n",
    "import tables_io\n",
    "from pathlib import Path \n",
    "from pzflow.examples import get_galaxy_data\n",
    "import ceci\n",
    "\n",
    "## RAIL-Specific Imports: \n",
    "import rail\n",
    "from rail.creation.degradation import LSSTErrorModel, InvRedshiftIncompleteness\n",
    "from rail.creation.engines.flowEngine import FlowModeler, FlowCreator, FlowPosterior\n",
    "from rail.core.data import TableHandle\n",
    "from rail.core.stage import RailStage\n",
    "from rail.core.utilStages import ColumnMapper, TableConverter\n",
    "from rail.estimation.algos.flexzboost import Inform_FZBoost, FZBoost\n",
    "from rail.evaluation.evaluator import Evaluator\n",
    "\n",
    "\n",
    "## Data Storage: \n",
    "DS = RailStage.data_store\n",
    "DS.__class__.allow_overwrite = True"
   ]
  },
  {
   "cell_type": "markdown",
   "metadata": {},
   "source": [
    "# Model"
   ]
  },
  {
   "cell_type": "code",
   "execution_count": 81,
   "metadata": {},
   "outputs": [],
   "source": [
    "def makeModel():\n",
    "    #path to access the data \n",
    "    DATA_DIR = Path().resolve() / \"data\"\n",
    "    DATA_DIR.mkdir(exist_ok=True)\n",
    "\n",
    "    catalog_file = DATA_DIR / \"base_catalog.pq\"\n",
    "\n",
    "    bands = ['u','g','r','i','z','y']\n",
    "    band_dict = {band:f'mag_{band}_lsst' for band in bands}\n",
    "    \n",
    "    #array of galaxies w/ 7 attributes for each: redshift & ugrizy\n",
    "    catalog = get_galaxy_data().rename(band_dict, axis=1) \n",
    "\n",
    "    #turns array into a table \n",
    "    tables_io.write(catalog, str(catalog_file.with_suffix(\"\")), catalog_file.suffix[1:])\n",
    "\n",
    "    catalog_file = str(catalog_file)\n",
    "    flow_file = str(DATA_DIR / \"trained_flow.pkl\")\n",
    "\n",
    "    #we set up the stage \n",
    "    flow_modeler_params = {\n",
    "        \"name\": \"flow_modeler\",\n",
    "        \"input\": catalog_file,\n",
    "        \"model\": flow_file,\n",
    "        \"seed\": 0,\n",
    "        \"phys_cols\": {\"redshift\": [0, 3]},\n",
    "        \"phot_cols\": {\n",
    "            \"mag_u_lsst\": [17, 35],\n",
    "            \"mag_g_lsst\": [16, 32],\n",
    "            \"mag_r_lsst\": [15, 30],\n",
    "            \"mag_i_lsst\": [15, 30],\n",
    "            \"mag_z_lsst\": [14, 29],\n",
    "            \"mag_y_lsst\": [14, 28],\n",
    "        },\n",
    "        \"calc_colors\": {\"ref_column_name\": \"mag_i_lsst\"},\n",
    "    }\n",
    "    flow_modeler = FlowModeler.make_stage(**flow_modeler_params)\n",
    "    flow_modeler.fit_model()\n",
    "    return flow_modeler.get_handle(\"model\")"
   ]
  },
  {
   "cell_type": "code",
   "execution_count": 54,
   "metadata": {},
   "outputs": [],
   "source": [
    "# modelData = makeModel()"
   ]
  },
  {
   "cell_type": "markdown",
   "metadata": {},
   "source": [
    "# Training Set "
   ]
  },
  {
   "cell_type": "code",
   "execution_count": 95,
   "metadata": {},
   "outputs": [],
   "source": [
    "def trainSet(model, ntrain, seed):\n",
    "    data = FlowCreator.make_stage(\n",
    "            name = 'stuff',\n",
    "            model = model,\n",
    "            n_samples = ntrain,\n",
    "            seed = seed \n",
    "    )\n",
    "    return data.sample(ntrain, seed)\n",
    "\n",
    "def invRedshift(data, pivot = 1.0):\n",
    "    deg = InvRedshiftIncompleteness.make_stage(\n",
    "        name = 'stuff',\n",
    "        pivot_redshift = pivot\n",
    "    )\n",
    "    return deg(data) "
   ]
  },
  {
   "cell_type": "code",
   "execution_count": 56,
   "metadata": {},
   "outputs": [],
   "source": [
    "# trainData = invRedshift(trainingSet(modelData, 10000, 372), 1.0)"
   ]
  },
  {
   "cell_type": "code",
   "execution_count": 88,
   "metadata": {},
   "outputs": [],
   "source": [
    "def getPosts(data, model, grid):\n",
    "    posts = FlowPosterior.make_stage(\n",
    "        name='stuff', \n",
    "        column='redshift',\n",
    "        grid = grid,\n",
    "        model = model,\n",
    "        data = data\n",
    "    )\n",
    "    return posts.get_posterior(data, column = 'redshift')"
   ]
  },
  {
   "cell_type": "code",
   "execution_count": 58,
   "metadata": {},
   "outputs": [],
   "source": [
    "def makeGrid(zmin, zmax, nbins):\n",
    "    import numpy as np\n",
    "    grid = np.linspace(zmin, zmax, nbins + 1)\n",
    "    return grid "
   ]
  },
  {
   "cell_type": "code",
   "execution_count": 59,
   "metadata": {},
   "outputs": [],
   "source": [
    "# grid = makeGrid(0, 2.5, 100)"
   ]
  },
  {
   "cell_type": "code",
   "execution_count": 60,
   "metadata": {},
   "outputs": [],
   "source": [
    "# trainPosts = getPosts(trainData, grid)"
   ]
  },
  {
   "cell_type": "markdown",
   "metadata": {},
   "source": [
    "## Posts "
   ]
  },
  {
   "cell_type": "markdown",
   "metadata": {},
   "source": [
    "Only run if you need output_orig_train_posts"
   ]
  },
  {
   "cell_type": "code",
   "execution_count": 61,
   "metadata": {},
   "outputs": [],
   "source": [
    "# flow_post_orig_train = FlowPosterior.make_stage(name='orig_train_posts', \n",
    "#                                              column='redshift',\n",
    "#                                              grid = np.linspace(0, 2.5, 101),\n",
    "#                                              model=flow_file,\n",
    "#                                              data = orig_train)\n",
    "\n",
    "# orig_train_pdfs = flow_post_orig_train.get_posterior(orig_train, column='redshift')"
   ]
  },
  {
   "cell_type": "markdown",
   "metadata": {},
   "source": [
    "Only run if you need output_deg_train_posts ** rerun this cell!! "
   ]
  },
  {
   "cell_type": "code",
   "execution_count": 62,
   "metadata": {},
   "outputs": [],
   "source": [
    "# flow_post_deg_train = FlowPosterior.make_stage(name='deg_train_posts', \n",
    "#                                              column='redshift',\n",
    "#                                              grid = np.linspace(0, 2.5, 101),\n",
    "#                                              model=flow_file,\n",
    "#                                              err_samples = 0,\n",
    "#                                              data = deg_train)\n",
    "\n",
    "\n",
    "\n",
    "# deg_train_pdfs = flow_post_deg_train.get_posterior(deg_train, column='redshift')"
   ]
  },
  {
   "cell_type": "markdown",
   "metadata": {},
   "source": [
    "# Test Set "
   ]
  },
  {
   "cell_type": "code",
   "execution_count": 94,
   "metadata": {},
   "outputs": [],
   "source": [
    "def testSet(model, ntest, seed):\n",
    "    data = FlowCreator.make_stage(\n",
    "            name = 'stuff',\n",
    "            model = model,\n",
    "            n_samples = ntest,\n",
    "            seed = seed \n",
    "    )\n",
    "    return data.sample(ntest, seed)\n",
    "\n",
    "\n",
    "## you need to ask alex about where you can find the defaults for these params \n",
    "def lsstError(data, seed, tvis = 1, nYrObs = 1, airmass = 1, extendedSource = 1, sigmaSys = 1, magLim = 1, ndFlag = 1, A_min = 1, A_max = 1):\n",
    "    bands = ['u','g','r','i','z','y']\n",
    "    band_dict = {band:f'mag_{band}_lsst' for band in bands}\n",
    "    deg = LSSTErrorModel.make_stage(\n",
    "        name='stuff',\n",
    "        bandNames=band_dict, \n",
    "        seed=seed,\n",
    "    )\n",
    "    return deg(data)"
   ]
  },
  {
   "cell_type": "code",
   "execution_count": 64,
   "metadata": {},
   "outputs": [],
   "source": [
    "# testData = lsstError(testSet(100000, 1078), 39)"
   ]
  },
  {
   "cell_type": "code",
   "execution_count": 65,
   "metadata": {},
   "outputs": [],
   "source": [
    "# testPosts = getPosts(testData, grid)"
   ]
  },
  {
   "cell_type": "markdown",
   "metadata": {},
   "source": [
    "## Posts"
   ]
  },
  {
   "cell_type": "markdown",
   "metadata": {},
   "source": [
    "Only run if you need output_orig_test_posts"
   ]
  },
  {
   "cell_type": "code",
   "execution_count": 66,
   "metadata": {},
   "outputs": [],
   "source": [
    "# flow_post_orig_test = FlowPosterior.make_stage(name='orig_test_posts', \n",
    "#                                              column='redshift',\n",
    "#                                              grid = np.linspace(0, 2.5, 101),\n",
    "#                                              model=flow_file,\n",
    "#                                              data = orig_test)\n",
    "\n",
    "# orig_test_pdfs = flow_post_orig_test.get_posterior(orig_test, column='redshift')"
   ]
  },
  {
   "cell_type": "markdown",
   "metadata": {},
   "source": [
    "Only run if you need output_deg_test_posts"
   ]
  },
  {
   "cell_type": "code",
   "execution_count": 67,
   "metadata": {},
   "outputs": [],
   "source": [
    "# flow_post_deg_test = FlowPosterior.make_stage(name='deg_test_posts', \n",
    "#                                              column='redshift',\n",
    "#                                              grid = np.linspace(0, 2.5, 101),\n",
    "#                                              model=flow_file,\n",
    "#                                              data = deg_test)\n",
    "\n",
    "# deg_test_pdfs = flow_post_deg_test.get_posterior(deg_test, column='redshift')"
   ]
  },
  {
   "cell_type": "markdown",
   "metadata": {},
   "source": [
    "# Make tables"
   ]
  },
  {
   "cell_type": "code",
   "execution_count": 98,
   "metadata": {},
   "outputs": [],
   "source": [
    "def makeTable(datafile):\n",
    "    import tables_io\n",
    "    bands = ['u','g','r','i','z','y']\n",
    "    band_dict = {band:f'mag_{band}_lsst' for band in bands}\n",
    "    rename_dict = {f'mag_{band}_lsst_err':f'mag_err_{band}_lsst' for band in bands}\n",
    "\n",
    "    col_remapper = ColumnMapper.make_stage(\n",
    "    name='col_remapper', \n",
    "    columns=rename_dict,\n",
    "    )\n",
    "    table_conv = TableConverter.make_stage(\n",
    "    name='table_conv', \n",
    "    output_format='numpyDict',\n",
    "    )\n",
    "    pq = col_remapper(datafile)\n",
    "    tabledata = table_conv(pq)\n",
    "    table = tables_io.convertObj(tabledata.data, tables_io.types.PD_DATAFRAME)\n",
    "    return table\n"
   ]
  },
  {
   "cell_type": "code",
   "execution_count": 69,
   "metadata": {},
   "outputs": [],
   "source": [
    "# trainTable = makeTable(trainData)\n",
    "# testTable = makeTable(testData)"
   ]
  },
  {
   "cell_type": "markdown",
   "metadata": {},
   "source": [
    "# Estimation "
   ]
  },
  {
   "cell_type": "code",
   "execution_count": 70,
   "metadata": {},
   "outputs": [],
   "source": [
    "def informFZBoost(data):\n",
    "    info = Inform_FZBoost.make_stage(\n",
    "    name ='informFZBoost', \n",
    "    model ='fzboost.pkl', \n",
    "    hdf5_groupname='',\n",
    "    )\n",
    "    info.inform(data)\n",
    "    return info"
   ]
  },
  {
   "cell_type": "code",
   "execution_count": 71,
   "metadata": {},
   "outputs": [],
   "source": [
    "# informedEst = informFZBoost(trainData)"
   ]
  },
  {
   "cell_type": "code",
   "execution_count": 72,
   "metadata": {},
   "outputs": [],
   "source": [
    "def estimateFZBoost(data, info, nbins):\n",
    "    est = FZBoost.make_stage(\n",
    "    name='estFZBoost', \n",
    "    nondetect_val=np.nan,\n",
    "    model= info.get_handle('model'), \n",
    "    hdf5_groupname='',\n",
    "    aliases=dict(input='test_data', output='fzboost_estim'),\n",
    "    nzbins = nbins ,\n",
    "    zmax = zmax\n",
    "    )\n",
    "    return est.estimate(data)"
   ]
  },
  {
   "cell_type": "code",
   "execution_count": 84,
   "metadata": {},
   "outputs": [
    {
     "name": "stdout",
     "output_type": "stream",
     "text": [
      "Training 30 epochs \n",
      "Loss:\n",
      "(0) 21.3266\n",
      "(1) 6.7267\n",
      "(2) 2.0761\n",
      "(3) 2.6037\n",
      "(4) -0.0680\n",
      "(5) 0.4129\n",
      "(6) 0.2506\n",
      "(7) 0.1637\n",
      "(8) -1.3346\n",
      "(9) -1.7669\n",
      "(10) -1.1823\n",
      "(11) -1.6267\n",
      "(12) 3402823273761818485311871060541440.0000\n",
      "(13) 3402823273761818485311871060541440.0000\n",
      "(14) -1.0711\n",
      "(15) -0.6228\n",
      "(16) 3402823273761818485311871060541440.0000\n",
      "(17) 3402823273761818485311871060541440.0000\n",
      "(18) -2.8045\n",
      "(19) -3.3746\n",
      "(20) 3402823273761818485311871060541440.0000\n",
      "(21) -2.4881\n",
      "(22) -3.2147\n",
      "(23) -3.7188\n",
      "(24) -3.4398\n",
      "(25) -3.7955\n",
      "(26) -3.3772\n",
      "(27) 3402823273761818485311871060541440.0000\n",
      "(28) -3.5247\n",
      "(29) -4.1677\n",
      "(30) -3.4874\n",
      "Inserting handle into data store.  model_flow_modeler: /Users/alicec03/Desktop/Summer_Research/Photo-z-Stress-Test/Photo-z-Stress-Test/data/inprogress_trained_flow.pkl, flow_modeler\n"
     ]
    }
   ],
   "source": [
    "# estData = estimateFZBoost(testData, informedEst, 100)\n",
    "\n",
    "modelData = makeModel() "
   ]
  },
  {
   "cell_type": "code",
   "execution_count": 100,
   "metadata": {},
   "outputs": [],
   "source": [
    "def bigF():\n",
    "    grid = makeGrid(0, 2.5, 100) \n",
    "    #modelData = makeModel()\n",
    "    trainData = invRedshift(trainSet(modelData, 10, 372), 1.0)\n",
    "    trainPosts = getPosts(trainData, modelData, grid)\n",
    "    testData = lsstError(testSet(modelData, 100, 1078), 39)\n",
    "    testPosts = getPosts(testData, modelData, grid)\n",
    "    trainTable = makeTable(trainData)\n",
    "    testTable = makeTable(testData)\n",
    "    informedEst = informFZBoost(trainData)\n",
    "    estData = estimateFZBoost(testData, informedEst)\n",
    "    pipe = ceci.Pipeline.interactive()\n",
    "    stages = [modelData, trainData, trainPosts, testData, testPosts, trainTable, testTable, informedEst, estData]\n",
    "    for stage in stages:\n",
    "        pipe.add_stage(stage)"
   ]
  },
  {
   "cell_type": "code",
   "execution_count": 101,
   "metadata": {},
   "outputs": [
    {
     "name": "stdout",
     "output_type": "stream",
     "text": [
      "Inserting handle into data store.  output_stuff: inprogress_output_stuff.pq, stuff\n",
      "Inserting handle into data store.  output_stuff: inprogress_output_stuff.pq, stuff\n",
      "Inserting handle into data store.  output_stuff: inprogress_output_stuff.hdf5, stuff\n",
      "Inserting handle into data store.  output_stuff: inprogress_output_stuff.pq, stuff\n",
      "Inserting handle into data store.  output_stuff: inprogress_output_stuff.pq, stuff\n"
     ]
    },
    {
     "name": "stderr",
     "output_type": "stream",
     "text": [
      "/Users/alicec03/miniforge3/envs/rail/lib/python3.10/site-packages/qp/interp_pdf.py:83: RuntimeWarning: invalid value encountered in divide\n",
      "  self._ycumul = (self._ycumul.T / self._ycumul[:,-1]).T\n"
     ]
    },
    {
     "name": "stdout",
     "output_type": "stream",
     "text": [
      "Inserting handle into data store.  output_stuff: inprogress_output_stuff.hdf5, stuff\n"
     ]
    },
    {
     "ename": "TypeError",
     "evalue": "ufunc 'isfinite' not supported for the input types, and the inputs could not be safely coerced to any supported types according to the casting rule ''safe''",
     "output_type": "error",
     "traceback": [
      "\u001b[0;31m---------------------------------------------------------------------------\u001b[0m",
      "\u001b[0;31mTypeError\u001b[0m                                 Traceback (most recent call last)",
      "Cell \u001b[0;32mIn[101], line 1\u001b[0m\n\u001b[0;32m----> 1\u001b[0m bigF()\n",
      "Cell \u001b[0;32mIn[100], line 10\u001b[0m, in \u001b[0;36mbigF\u001b[0;34m()\u001b[0m\n\u001b[1;32m      7\u001b[0m testPosts \u001b[39m=\u001b[39m getPosts(testData, modelData, grid)\n\u001b[1;32m      8\u001b[0m \u001b[39m#trainTable = makeTable(trainData)\u001b[39;00m\n\u001b[1;32m      9\u001b[0m \u001b[39m#testTable = makeTable(testData)\u001b[39;00m\n\u001b[0;32m---> 10\u001b[0m informedEst \u001b[39m=\u001b[39m informFZBoost(trainData)\n\u001b[1;32m     11\u001b[0m estData \u001b[39m=\u001b[39m estimateFZBoost(testData, informedEst)\n\u001b[1;32m     12\u001b[0m pipe \u001b[39m=\u001b[39m ceci\u001b[39m.\u001b[39mPipeline\u001b[39m.\u001b[39minteractive()\n",
      "Cell \u001b[0;32mIn[70], line 7\u001b[0m, in \u001b[0;36minformFZBoost\u001b[0;34m(data)\u001b[0m\n\u001b[1;32m      1\u001b[0m \u001b[39mdef\u001b[39;00m \u001b[39minformFZBoost\u001b[39m(data):\n\u001b[1;32m      2\u001b[0m     info \u001b[39m=\u001b[39m Inform_FZBoost\u001b[39m.\u001b[39mmake_stage(\n\u001b[1;32m      3\u001b[0m     name \u001b[39m=\u001b[39m\u001b[39m'\u001b[39m\u001b[39minformFZBoost\u001b[39m\u001b[39m'\u001b[39m, \n\u001b[1;32m      4\u001b[0m     model \u001b[39m=\u001b[39m\u001b[39m'\u001b[39m\u001b[39mfzboost.pkl\u001b[39m\u001b[39m'\u001b[39m, \n\u001b[1;32m      5\u001b[0m     hdf5_groupname\u001b[39m=\u001b[39m\u001b[39m'\u001b[39m\u001b[39m'\u001b[39m,\n\u001b[1;32m      6\u001b[0m     )\n\u001b[0;32m----> 7\u001b[0m     info\u001b[39m.\u001b[39;49minform(data)\n\u001b[1;32m      8\u001b[0m     \u001b[39mreturn\u001b[39;00m info\n",
      "File \u001b[0;32m~/miniforge3/envs/rail/lib/python3.10/site-packages/rail/estimation/estimator.py:179\u001b[0m, in \u001b[0;36mCatInformer.inform\u001b[0;34m(self, training_data)\u001b[0m\n\u001b[1;32m    155\u001b[0m \u001b[39m\u001b[39m\u001b[39m\"\"\"The main interface method for Informers\u001b[39;00m\n\u001b[1;32m    156\u001b[0m \n\u001b[1;32m    157\u001b[0m \u001b[39mThis will attach the input_data to this `Informer`\u001b[39;00m\n\u001b[0;32m   (...)\u001b[0m\n\u001b[1;32m    176\u001b[0m \u001b[39m    Handle providing access to trained model\u001b[39;00m\n\u001b[1;32m    177\u001b[0m \u001b[39m\"\"\"\u001b[39;00m\n\u001b[1;32m    178\u001b[0m \u001b[39mself\u001b[39m\u001b[39m.\u001b[39mset_data(\u001b[39m'\u001b[39m\u001b[39minput\u001b[39m\u001b[39m'\u001b[39m, training_data)\n\u001b[0;32m--> 179\u001b[0m \u001b[39mself\u001b[39;49m\u001b[39m.\u001b[39;49mrun()\n\u001b[1;32m    180\u001b[0m \u001b[39mself\u001b[39m\u001b[39m.\u001b[39mfinalize()\n\u001b[1;32m    181\u001b[0m \u001b[39mreturn\u001b[39;00m \u001b[39mself\u001b[39m\u001b[39m.\u001b[39mget_handle(\u001b[39m'\u001b[39m\u001b[39mmodel\u001b[39m\u001b[39m'\u001b[39m)\n",
      "File \u001b[0;32m~/miniforge3/envs/rail/lib/python3.10/site-packages/rail/estimation/algos/flexzboost.py:131\u001b[0m, in \u001b[0;36mInform_FZBoost.run\u001b[0;34m(self)\u001b[0m\n\u001b[1;32m    129\u001b[0m         training_data[errname][detmask] \u001b[39m=\u001b[39m \u001b[39m1.0\u001b[39m\n\u001b[1;32m    130\u001b[0m \u001b[39melse\u001b[39;00m:\n\u001b[0;32m--> 131\u001b[0m     detmask \u001b[39m=\u001b[39m np\u001b[39m.\u001b[39;49misclose(training_data[bandname], \u001b[39mself\u001b[39;49m\u001b[39m.\u001b[39;49mconfig\u001b[39m.\u001b[39;49mnondetect_val, atol\u001b[39m=\u001b[39;49m\u001b[39m0.01\u001b[39;49m)\n\u001b[1;32m    132\u001b[0m     \u001b[39mif\u001b[39;00m \u001b[39misinstance\u001b[39m(training_data, pd\u001b[39m.\u001b[39mDataFrame):  \u001b[39m# pragma: no cover\u001b[39;00m\n\u001b[1;32m    133\u001b[0m         training_data\u001b[39m.\u001b[39mloc[detmask, bandname] \u001b[39m=\u001b[39m \u001b[39mself\u001b[39m\u001b[39m.\u001b[39mconfig\u001b[39m.\u001b[39mmag_limits[bandname]\n",
      "File \u001b[0;32m<__array_function__ internals>:200\u001b[0m, in \u001b[0;36misclose\u001b[0;34m(*args, **kwargs)\u001b[0m\n",
      "File \u001b[0;32m~/miniforge3/envs/rail/lib/python3.10/site-packages/numpy/core/numeric.py:2377\u001b[0m, in \u001b[0;36misclose\u001b[0;34m(a, b, rtol, atol, equal_nan)\u001b[0m\n\u001b[1;32m   2374\u001b[0m     dt \u001b[39m=\u001b[39m multiarray\u001b[39m.\u001b[39mresult_type(y, \u001b[39m1.\u001b[39m)\n\u001b[1;32m   2375\u001b[0m     y \u001b[39m=\u001b[39m asanyarray(y, dtype\u001b[39m=\u001b[39mdt)\n\u001b[0;32m-> 2377\u001b[0m xfin \u001b[39m=\u001b[39m isfinite(x)\n\u001b[1;32m   2378\u001b[0m yfin \u001b[39m=\u001b[39m isfinite(y)\n\u001b[1;32m   2379\u001b[0m \u001b[39mif\u001b[39;00m \u001b[39mall\u001b[39m(xfin) \u001b[39mand\u001b[39;00m \u001b[39mall\u001b[39m(yfin):\n",
      "\u001b[0;31mTypeError\u001b[0m: ufunc 'isfinite' not supported for the input types, and the inputs could not be safely coerced to any supported types according to the casting rule ''safe''"
     ]
    }
   ],
   "source": [
    "bigF()"
   ]
  }
 ],
 "metadata": {
  "kernelspec": {
   "display_name": "rail",
   "language": "python",
   "name": "python3"
  },
  "language_info": {
   "codemirror_mode": {
    "name": "ipython",
    "version": 3
   },
   "file_extension": ".py",
   "mimetype": "text/x-python",
   "name": "python",
   "nbconvert_exporter": "python",
   "pygments_lexer": "ipython3",
   "version": "3.10.11"
  },
  "orig_nbformat": 4
 },
 "nbformat": 4,
 "nbformat_minor": 2
}
