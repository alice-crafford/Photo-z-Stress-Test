{
 "cells": [
  {
   "cell_type": "markdown",
   "metadata": {},
   "source": [
    "# Outlier Rejection"
   ]
  },
  {
   "cell_type": "code",
   "execution_count": 1,
   "metadata": {},
   "outputs": [],
   "source": [
    "import numpy as np\n",
    "from scipy import stats\n",
    "import matplotlib.pyplot as plt \n",
    "\n",
    "def performRejection(ls, lim):\n",
    "    mean = np.mean(ls)\n",
    "    stdev = stats.tstd(ls)\n",
    "    ct = 0\n",
    "    for i in ls:\n",
    "        if np.abs(mean - i) > 3*stdev:\n",
    "            ls.remove(i) \n",
    "            ct += 1\n",
    "    if ct <= lim:\n",
    "        return ls\n",
    "    else:\n",
    "        return performRejection(ls, lim)"
   ]
  },
  {
   "cell_type": "code",
   "execution_count": 3,
   "metadata": {},
   "outputs": [],
   "source": [
    "def outlierRejection(data, truth, lim):\n",
    "    data.tolist()\n",
    "    truth.tolist()\n",
    "    if len(data) != len(truth):\n",
    "        print(\"The dataset and the truth dataset are not the same size! :(\")\n",
    "    else:\n",
    "        diff = data - truth\n",
    "        not_outliers = performRejection(diff, lim)\n",
    "        outlier_rate = ((len(truth) - len(not_outliers))/len(truth))*100\n",
    "        hist = stats.histogram(not_outliers, bins = 100)\n",
    "        stdev = stats.tstd(hist[1])\n",
    "\n",
    "        inds = []\n",
    "        for i in range(len(not_outliers)):\n",
    "            inds.append(np.where(diff == not_outliers[i])[0][0])\n",
    "\n",
    "        kept_y = []\n",
    "        kept_x = []\n",
    "        for i in inds:\n",
    "            kept_y.append(data[i])\n",
    "            kept_x.append(truth[i])\n",
    "        np.asarray(kept_y)\n",
    "        np.asarray(kept_x)\n",
    "\n",
    "        plt.scatter(truth, data, color = 'cyan', s = len(data)/(10**6))\n",
    "        plt.scatter(kept_x, kept_y, color = 'blue', s = len(data)/(10**6))\n",
    "        arr = np.arange(0, len(data))\n",
    "        plt.plot(arr, arr, color = 'black')\n",
    "\n",
    "        return outlier_rate, stdev\n"
   ]
  },
  {
   "cell_type": "markdown",
   "metadata": {},
   "source": [
    "# Mean vs Mode "
   ]
  },
  {
   "cell_type": "code",
   "execution_count": null,
   "metadata": {},
   "outputs": [],
   "source": [
    "## in this context, grid is the grid over which we evaluate our pdfs, ens is the statistical ensemble\n",
    "## ens should be an mxn matrix \n",
    "## the length of grid is the number of columns in ens \n",
    "\n",
    "import matplotlib.pyplot as plt \n",
    "from matplotlib import cm \n",
    "from scipy import stats \n",
    "\n",
    "def MeanvsMode(grid, ens):\n",
    "    means = []\n",
    "    stdevs = []\n",
    "    for i in range(0, len(ens)): \n",
    "        mean = np.sum(grid * ens[i]) / np.sum(ens[i])\n",
    "        var = np.sum((mean - grid)**2 * ens[i]) / np.sum(ens[i])\n",
    "        stdev = np.sqrt(var)\n",
    "        means.append(mean)\n",
    "        stdevs.append(stdev)\n",
    "    np.asarray(means) \n",
    "    np.asarray(stdevs)\n",
    "\n",
    "    modes = []\n",
    "    for i in range(0, len(ens)):\n",
    "        mode = np.max(ens[i])\n",
    "        modes.append(mode)\n",
    "    np.asarray(modes)\n",
    "\n",
    "    arr = np.arange(0, np.max(np.max(means), np.max(modes)), 0.1)\n",
    "    \n",
    "    dists = []\n",
    "    for i in range(len(means)):\n",
    "        dist = np.abs(means[i] - modes[i]) / np.sqrt(2)\n",
    "        dists.append[dist]\n",
    "    outlier_ct = 0\n",
    "    for i in dists:\n",
    "        if i >= 5*stats.tstd(dists):\n",
    "            outlier_ct += 1\n",
    "    outlier_rate = (len(modes) - outlier_ct) / len(modes)\n",
    "\n",
    "    plt.scatter(modes, means, s=1, c = stdevs, cmap = cm.plasma)\n",
    "    plt.plot(arr, arr, color = \"skyblue\")\n",
    "    plt.xlabel('Mode')\n",
    "    plt.ylabel('Mean')\n",
    "    plt.colorbar(label = 'Standard Deviation')\n",
    "    plt.title(\"Gaussianity Plot\", fontsize = 'large', fontweight = 'bold')\n",
    "\n",
    "    return outlier_rate"
   ]
  },
  {
   "cell_type": "markdown",
   "metadata": {},
   "source": [
    "# PIT"
   ]
  },
  {
   "cell_type": "code",
   "execution_count": null,
   "metadata": {},
   "outputs": [],
   "source": [
    "import qp\n",
    "\n",
    "## prob wont work \n",
    "def PIT1(data, truth):\n",
    "    from qp.metrics.pit import PIT\n",
    "    pitobj = PIT(data(), truth)\n",
    "    metamets = pitobj.calculate_pit_meta_metrics()\n",
    "    norm_pit_vals = np.array(pitobj.pit_samps) / len(data)\n",
    "    pit_out_rate = metamets['outlier_rate']\n",
    "    print(f\"PIT outlier rate of this sample: {pit_out_rate:.6f}\") \n",
    "    pit_out_rate = pitobj.evaluate_PIT_outlier_rate()\n",
    "    print(f\"PIT outlier rate of this sample: {pit_out_rate:.6f}\") \n",
    "    plt.hist(norm_pit_vals, bins = 100)\n",
    "\n",
    "    quant_ens = pitobj.pit\n",
    "    obj = quant_ens.objdata()\n",
    "    meta = quant_ens.metadata()\n",
    "    locs = obj['locs']\n",
    "    quants = meta['quants']\n",
    "    arr = np.arange(0, 1, 0.1)\n",
    "    plt.plot(locs[0], quants[0], color = 'orange')\n",
    "    plt.plot(arr, arr, color = 'black')"
   ]
  },
  {
   "cell_type": "code",
   "execution_count": null,
   "metadata": {},
   "outputs": [],
   "source": [
    "def PIT2(datafile, truth):\n",
    "    from qp.metrics.pit import PIT\n",
    "    test_pit = PIT(datafile(), truth)\n",
    "    eval_pit = test_pit._pit_samps\n",
    "    np.save('pit_output.npy', eval_pit)\n",
    "    eval_pit = np.load('pit_output.npy')\n",
    "\n",
    "    PIThist = plt.hist(eval_pit, bins = 100, density = True)\n",
    "    outlier_rate = (PIThist[0][0] + PIThist[0][-1]) / np.sum(PIThist[0]) \n",
    "\n",
    "    from scipy.stats import uniform \n",
    "    plt.semilogy()\n",
    "    uniform_dist = plt.plot(PIThist[1], np.ones(len(PIThist[0])+1), label = \"catastrophic outlier rate:\" + str(outlier_rate), color = 'white')\n",
    "    plt.plot(PIThist[1], uniform().pdf(PIThist[1]), color = 'orange')\n",
    "    plt.title(\"Histogram of PIT\", fontweight = 'bold')\n",
    "    plt.xlabel('$\\int_{-\\infty}^{z_{true}} \\! \\hat{p}(z|photometry) \\, dz $', fontsize = 'large')\n",
    "    plt.ylabel('Bin Count', fontsize = 'large')\n",
    "    plt.legend(handles = uniform_dist)\n",
    "\n",
    "    return outlier_rate"
   ]
  }
 ],
 "metadata": {
  "kernelspec": {
   "display_name": "rail---new",
   "language": "python",
   "name": "python3"
  },
  "language_info": {
   "codemirror_mode": {
    "name": "ipython",
    "version": 3
   },
   "file_extension": ".py",
   "mimetype": "text/x-python",
   "name": "python",
   "nbconvert_exporter": "python",
   "pygments_lexer": "ipython3",
   "version": "3.11.5"
  },
  "orig_nbformat": 4
 },
 "nbformat": 4,
 "nbformat_minor": 2
}
